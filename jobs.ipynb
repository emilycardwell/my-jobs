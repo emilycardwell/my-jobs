{
 "cells": [
  {
   "attachments": {},
   "cell_type": "markdown",
   "metadata": {},
   "source": [
    "# My Job Applications 2023"
   ]
  },
  {
   "attachments": {},
   "cell_type": "markdown",
   "metadata": {},
   "source": [
    "### Imports"
   ]
  },
  {
   "cell_type": "code",
   "execution_count": 104,
   "metadata": {},
   "outputs": [],
   "source": [
    "import numpy as np\n",
    "import pandas as pd\n",
    "from datetime import datetime\n",
    "import seaborn as sns\n",
    "import matplotlib.pyplot as plt\n",
    "import matplotlib.dates as mpld\n",
    "from collections import Counter"
   ]
  },
  {
   "attachments": {},
   "cell_type": "markdown",
   "metadata": {},
   "source": [
    "### Empty Data Frame"
   ]
  },
  {
   "cell_type": "code",
   "execution_count": 34,
   "metadata": {},
   "outputs": [
    {
     "name": "stdout",
     "output_type": "stream",
     "text": [
      "<class 'pandas.core.frame.DataFrame'>\n",
      "Index: 0 entries\n",
      "Data columns (total 16 columns):\n",
      " #   Column              Non-Null Count  Dtype         \n",
      "---  ------              --------------  -----         \n",
      " 0   url                 0 non-null      object        \n",
      " 1   date_applied        0 non-null      datetime64[ns]\n",
      " 2   job_title           0 non-null      object        \n",
      " 3   job_cat             0 non-null      object        \n",
      " 4   department          0 non-null      object        \n",
      " 5   company             0 non-null      object        \n",
      " 6   location            0 non-null      object        \n",
      " 7   recruiter           0 non-null      object        \n",
      " 8   referral            0 non-null      object        \n",
      " 9   method              0 non-null      object        \n",
      " 10  date_init_resp      0 non-null      datetime64[ns]\n",
      " 11  initial_response    0 non-null      object        \n",
      " 12  date_interview1     0 non-null      datetime64[ns]\n",
      " 13  interview_comments  0 non-null      object        \n",
      " 14  more_interviews     0 non-null      object        \n",
      " 15  final_outcome       0 non-null      int8          \n",
      "dtypes: datetime64[ns](3), int8(1), object(12)\n",
      "memory usage: 0.0+ bytes\n"
     ]
    }
   ],
   "source": [
    "df_columns = {'url': 'str', 'date_applied': 'datetime64[ns]', 'job_title': 'str', \n",
    "              'job_cat': 'str', 'department': 'str', 'company': 'str', \n",
    "              'location': 'str', 'recruiter': 'str', 'referral': 'str', 'method': 'str',\n",
    "              'date_init_resp': 'datetime64[ns]', 'initial_response': 'str', \n",
    "              'date_interview1': 'datetime64[ns]', 'interview_comments': 'str', \n",
    "              'more_interviews': 'str', 'final_outcome': 'int8'}\n",
    "\n",
    "jobs_df = pd.DataFrame({c: pd.Series(dtype=t) for c, t in df_columns.items()})\n",
    "jobs_df.info()"
   ]
  },
  {
   "attachments": {},
   "cell_type": "markdown",
   "metadata": {},
   "source": [
    "### Insert Data"
   ]
  },
  {
   "cell_type": "code",
   "execution_count": 35,
   "metadata": {},
   "outputs": [],
   "source": [
    "jobs_df.loc[0, 'url':'method'] = 'https://jobs.lever.co/spotify/f6399d24-74ff-\\\n",
    "406c-be20-ffdac88de4d0?lever-source=LinkedInJobs', \\\n",
    "                                   '2023-01-04', 'Machine Learning Engineer', 'Engineer', \\\n",
    "                                   'Content Intelligence', 'Spotify', 'Berlin/Remote', \\\n",
    "                                   None, None, 'linkedin'"
   ]
  },
  {
   "cell_type": "code",
   "execution_count": 36,
   "metadata": {},
   "outputs": [],
   "source": [
    "jobs_df.loc[1, 'url':'method'] = 'https://join.com/companies/convex-energy/671\\\n",
    "1604-integrations-developer-c-python-m-f-d?pid=731067c1dfecf6015bf5&oid=040cad5b-\\\n",
    "9c17-4c36-8fc4-e1390e7d46ed', \\\n",
    "                                    '2023-01-04', 'Integrations Developer - C#/Python', 'Developer', \\\n",
    "                                    'IT Management', 'Convex Energy', 'Berlin', \\\n",
    "                                    None, None, 'linkedin'"
   ]
  },
  {
   "cell_type": "code",
   "execution_count": 37,
   "metadata": {},
   "outputs": [],
   "source": [
    "jobs_df.loc[2, 'url':'method'] = 'https://bikemap.jobs.personio.com/job/415336?display=de', \\\n",
    "                                   '2023-01-04', 'Backend Developer - Python', 'Developer', \\\n",
    "                                   None, 'Bikemap', 'Vienna', None, None, 'linkedin'\n"
   ]
  },
  {
   "cell_type": "code",
   "execution_count": 38,
   "metadata": {},
   "outputs": [],
   "source": [
    "jobs_df.loc[3, 'url':'method'] = 'https://karriere.deutschebahn.com/karriere-de/Suche/DevOps-Engineer-w-m-d-mit-Fokus\\\n",
    "-auf-Data-Science-9981626?jobId=194391', \\\n",
    "                                   '2023-01-04', 'DevOps Engineer mit Fokus auf Data Science', 'Engineer', \\\n",
    "                                   'DB Systel', 'DB', 'Berlin', \\\n",
    "                                   None, None, 'linkedin'"
   ]
  },
  {
   "cell_type": "code",
   "execution_count": 39,
   "metadata": {},
   "outputs": [],
   "source": [
    "jobs_df.loc[4, 'url':'method'] = 'https://mbition.io/jobs/?job=911357&apply=1&\\\n",
    "pid=e78ca23c-a06c-4c87-a70c-fcc7052e7ffa&it=Mz7a17-DxBfrsvGYFVyA5A', \\\n",
    "                                   '2023-01-04', 'Site Reliability Engineer for Hybrid Cloud Platform', 'Engineer', \\\n",
    "                                   'MBition', 'Mercedes-Benz', 'Berlin', \\\n",
    "                                   None, None, 'linkedin'"
   ]
  },
  {
   "cell_type": "code",
   "execution_count": 40,
   "metadata": {},
   "outputs": [],
   "source": [
    "jobs_df.loc[5, 'url':'method'] = 'https://www.accenture.com/us-en/careers/job\\\n",
    "details?id=R00005249_de&title=Trainee+Data+(AI+%2f+Big+Data+Analytics+%2f+Data+Management)+(all+genders)', \\\n",
    "                                   '2023-01-04', 'Trainee Data - AI/Big Data Analytics/Data Management', 'Analyst', \\\n",
    "                                   None, 'Accenture', 'Germany', \\\n",
    "                                   None, 'Niamh', 'Accenture website'"
   ]
  },
  {
   "cell_type": "code",
   "execution_count": 41,
   "metadata": {},
   "outputs": [],
   "source": [
    "jobs_df.loc[6, 'url':'method'] = 'https://apply.workable.com/focusrite/j/7291245450/', \\\n",
    "                                   '2023-01-07', 'Junior QA Engineer', 'Engineer', \\\n",
    "                                   'Audio Hardware & Firmware Testing', \\\n",
    "                                   'ADAM Audio (Focusrite)', 'Berlin', \\\n",
    "                                   None, None, 'linkedin'"
   ]
  },
  {
   "cell_type": "code",
   "execution_count": 42,
   "metadata": {},
   "outputs": [],
   "source": [
    "jobs_df.loc[7, 'url':'method'] = 'http://jobs.daedalicsupport.com/index/build-engineer-(m/f/d).html', \\\n",
    "                                   '2023-01-07', 'Build Engineer', 'Engineer', \\\n",
    "                                   None, 'Daedalic Entertianment', 'Hamburg', \\\n",
    "                                   None, None, 'linkedin'"
   ]
  },
  {
   "cell_type": "code",
   "execution_count": 43,
   "metadata": {},
   "outputs": [],
   "source": [
    "jobs_df.loc[8, 'url':'method'] = 'https://careers.soundcloud.com/job?gh_jid=6561571002&gh_src=b2264ac52us', \\\n",
    "                                   '2023-01-10', 'Machine Learning Engineer', 'Engineer', \\\n",
    "                                   'Search and Recommendations', 'SoundCloud', 'Berlin', \\\n",
    "                                   None, None, 'linkedin'"
   ]
  },
  {
   "cell_type": "code",
   "execution_count": 44,
   "metadata": {},
   "outputs": [],
   "source": [
    "jobs_df.loc[3, 'date_init_resp':'initial_response'] = '1.9.23', 'Rejected'\n",
    "jobs_df.loc[5, 'date_init_resp':'initial_response'] = '1.11.23', 'Rejected'                                   \n",
    "jobs_df.loc[2, 'date_init_resp':'initial_response'] = '1.11.23', 'Rejected'                                "
   ]
  },
  {
   "cell_type": "code",
   "execution_count": null,
   "metadata": {},
   "outputs": [],
   "source": []
  },
  {
   "cell_type": "code",
   "execution_count": 105,
   "metadata": {},
   "outputs": [],
   "source": [
    "responses = ['No Response' if type(x) != str else x for x in jobs_df.initial_response]\n",
    "jobs_df.loc[:, 'initial_response'] = responses"
   ]
  },
  {
   "cell_type": "code",
   "execution_count": 106,
   "metadata": {},
   "outputs": [
    {
     "data": {
      "text/html": [
       "<div>\n",
       "<style scoped>\n",
       "    .dataframe tbody tr th:only-of-type {\n",
       "        vertical-align: middle;\n",
       "    }\n",
       "\n",
       "    .dataframe tbody tr th {\n",
       "        vertical-align: top;\n",
       "    }\n",
       "\n",
       "    .dataframe thead th {\n",
       "        text-align: right;\n",
       "    }\n",
       "</style>\n",
       "<table border=\"1\" class=\"dataframe\">\n",
       "  <thead>\n",
       "    <tr style=\"text-align: right;\">\n",
       "      <th></th>\n",
       "      <th>url</th>\n",
       "      <th>date_applied</th>\n",
       "      <th>job_title</th>\n",
       "      <th>job_cat</th>\n",
       "      <th>department</th>\n",
       "      <th>company</th>\n",
       "      <th>location</th>\n",
       "      <th>recruiter</th>\n",
       "      <th>referral</th>\n",
       "      <th>method</th>\n",
       "      <th>date_init_resp</th>\n",
       "      <th>initial_response</th>\n",
       "      <th>date_interview1</th>\n",
       "      <th>interview_comments</th>\n",
       "      <th>more_interviews</th>\n",
       "      <th>final_outcome</th>\n",
       "    </tr>\n",
       "  </thead>\n",
       "  <tbody>\n",
       "    <tr>\n",
       "      <th>0</th>\n",
       "      <td>https://jobs.lever.co/spotify/f6399d24-74ff-40...</td>\n",
       "      <td>2023-01-04</td>\n",
       "      <td>Machine Learning Engineer</td>\n",
       "      <td>Engineer</td>\n",
       "      <td>Content Intelligence</td>\n",
       "      <td>Spotify</td>\n",
       "      <td>Berlin/Remote</td>\n",
       "      <td>None</td>\n",
       "      <td>None</td>\n",
       "      <td>linkedin</td>\n",
       "      <td>NaT</td>\n",
       "      <td>No Response</td>\n",
       "      <td>NaT</td>\n",
       "      <td>NaN</td>\n",
       "      <td>NaN</td>\n",
       "      <td>NaN</td>\n",
       "    </tr>\n",
       "    <tr>\n",
       "      <th>1</th>\n",
       "      <td>https://join.com/companies/convex-energy/67116...</td>\n",
       "      <td>2023-01-04</td>\n",
       "      <td>Integrations Developer - C#/Python</td>\n",
       "      <td>Developer</td>\n",
       "      <td>IT Management</td>\n",
       "      <td>Convex Energy</td>\n",
       "      <td>Berlin</td>\n",
       "      <td>None</td>\n",
       "      <td>None</td>\n",
       "      <td>linkedin</td>\n",
       "      <td>NaT</td>\n",
       "      <td>No Response</td>\n",
       "      <td>NaT</td>\n",
       "      <td>NaN</td>\n",
       "      <td>NaN</td>\n",
       "      <td>NaN</td>\n",
       "    </tr>\n",
       "    <tr>\n",
       "      <th>2</th>\n",
       "      <td>https://bikemap.jobs.personio.com/job/415336?d...</td>\n",
       "      <td>2023-01-04</td>\n",
       "      <td>Backend Developer - Python</td>\n",
       "      <td>Developer</td>\n",
       "      <td>None</td>\n",
       "      <td>Bikemap</td>\n",
       "      <td>Vienna</td>\n",
       "      <td>None</td>\n",
       "      <td>None</td>\n",
       "      <td>linkedin</td>\n",
       "      <td>2023-01-11</td>\n",
       "      <td>Rejected</td>\n",
       "      <td>NaT</td>\n",
       "      <td>NaN</td>\n",
       "      <td>NaN</td>\n",
       "      <td>NaN</td>\n",
       "    </tr>\n",
       "    <tr>\n",
       "      <th>3</th>\n",
       "      <td>https://karriere.deutschebahn.com/karriere-de/...</td>\n",
       "      <td>2023-01-04</td>\n",
       "      <td>DevOps Engineer mit Fokus auf Data Science</td>\n",
       "      <td>Engineer</td>\n",
       "      <td>DB Systel</td>\n",
       "      <td>DB</td>\n",
       "      <td>Berlin</td>\n",
       "      <td>None</td>\n",
       "      <td>None</td>\n",
       "      <td>linkedin</td>\n",
       "      <td>2023-01-09</td>\n",
       "      <td>Rejected</td>\n",
       "      <td>NaT</td>\n",
       "      <td>NaN</td>\n",
       "      <td>NaN</td>\n",
       "      <td>NaN</td>\n",
       "    </tr>\n",
       "    <tr>\n",
       "      <th>4</th>\n",
       "      <td>https://mbition.io/jobs/?job=911357&amp;apply=1&amp;pi...</td>\n",
       "      <td>2023-01-04</td>\n",
       "      <td>Site Reliability Engineer for Hybrid Cloud Pla...</td>\n",
       "      <td>Engineer</td>\n",
       "      <td>MBition</td>\n",
       "      <td>Mercedes-Benz</td>\n",
       "      <td>Berlin</td>\n",
       "      <td>None</td>\n",
       "      <td>None</td>\n",
       "      <td>linkedin</td>\n",
       "      <td>NaT</td>\n",
       "      <td>No Response</td>\n",
       "      <td>NaT</td>\n",
       "      <td>NaN</td>\n",
       "      <td>NaN</td>\n",
       "      <td>NaN</td>\n",
       "    </tr>\n",
       "    <tr>\n",
       "      <th>5</th>\n",
       "      <td>https://www.accenture.com/us-en/careers/jobdet...</td>\n",
       "      <td>2023-01-04</td>\n",
       "      <td>Trainee Data - AI/Big Data Analytics/Data Mana...</td>\n",
       "      <td>Analyst</td>\n",
       "      <td>None</td>\n",
       "      <td>Accenture</td>\n",
       "      <td>Germany</td>\n",
       "      <td>None</td>\n",
       "      <td>Niamh</td>\n",
       "      <td>Accenture website</td>\n",
       "      <td>2023-01-11</td>\n",
       "      <td>Rejected</td>\n",
       "      <td>NaT</td>\n",
       "      <td>NaN</td>\n",
       "      <td>NaN</td>\n",
       "      <td>NaN</td>\n",
       "    </tr>\n",
       "    <tr>\n",
       "      <th>6</th>\n",
       "      <td>https://apply.workable.com/focusrite/j/7291245...</td>\n",
       "      <td>2023-01-07</td>\n",
       "      <td>Junior QA Engineer</td>\n",
       "      <td>Engineer</td>\n",
       "      <td>Audio Hardware &amp; Firmware Testing</td>\n",
       "      <td>ADAM Audio (Focusrite)</td>\n",
       "      <td>Berlin</td>\n",
       "      <td>None</td>\n",
       "      <td>None</td>\n",
       "      <td>linkedin</td>\n",
       "      <td>NaT</td>\n",
       "      <td>No Response</td>\n",
       "      <td>NaT</td>\n",
       "      <td>NaN</td>\n",
       "      <td>NaN</td>\n",
       "      <td>NaN</td>\n",
       "    </tr>\n",
       "    <tr>\n",
       "      <th>7</th>\n",
       "      <td>http://jobs.daedalicsupport.com/index/build-en...</td>\n",
       "      <td>2023-01-07</td>\n",
       "      <td>Build Engineer</td>\n",
       "      <td>Engineer</td>\n",
       "      <td>None</td>\n",
       "      <td>Daedalic Entertianment</td>\n",
       "      <td>Hamburg</td>\n",
       "      <td>None</td>\n",
       "      <td>None</td>\n",
       "      <td>linkedin</td>\n",
       "      <td>NaT</td>\n",
       "      <td>No Response</td>\n",
       "      <td>NaT</td>\n",
       "      <td>NaN</td>\n",
       "      <td>NaN</td>\n",
       "      <td>NaN</td>\n",
       "    </tr>\n",
       "    <tr>\n",
       "      <th>8</th>\n",
       "      <td>https://careers.soundcloud.com/job?gh_jid=6561...</td>\n",
       "      <td>2023-01-10</td>\n",
       "      <td>Machine Learning Engineer</td>\n",
       "      <td>Engineer</td>\n",
       "      <td>Search and Recommendations</td>\n",
       "      <td>SoundCloud</td>\n",
       "      <td>Berlin</td>\n",
       "      <td>None</td>\n",
       "      <td>None</td>\n",
       "      <td>linkedin</td>\n",
       "      <td>NaT</td>\n",
       "      <td>No Response</td>\n",
       "      <td>NaT</td>\n",
       "      <td>NaN</td>\n",
       "      <td>NaN</td>\n",
       "      <td>NaN</td>\n",
       "    </tr>\n",
       "  </tbody>\n",
       "</table>\n",
       "</div>"
      ],
      "text/plain": [
       "                                                 url date_applied  \\\n",
       "0  https://jobs.lever.co/spotify/f6399d24-74ff-40...   2023-01-04   \n",
       "1  https://join.com/companies/convex-energy/67116...   2023-01-04   \n",
       "2  https://bikemap.jobs.personio.com/job/415336?d...   2023-01-04   \n",
       "3  https://karriere.deutschebahn.com/karriere-de/...   2023-01-04   \n",
       "4  https://mbition.io/jobs/?job=911357&apply=1&pi...   2023-01-04   \n",
       "5  https://www.accenture.com/us-en/careers/jobdet...   2023-01-04   \n",
       "6  https://apply.workable.com/focusrite/j/7291245...   2023-01-07   \n",
       "7  http://jobs.daedalicsupport.com/index/build-en...   2023-01-07   \n",
       "8  https://careers.soundcloud.com/job?gh_jid=6561...   2023-01-10   \n",
       "\n",
       "                                           job_title    job_cat  \\\n",
       "0                          Machine Learning Engineer   Engineer   \n",
       "1                 Integrations Developer - C#/Python  Developer   \n",
       "2                         Backend Developer - Python  Developer   \n",
       "3         DevOps Engineer mit Fokus auf Data Science   Engineer   \n",
       "4  Site Reliability Engineer for Hybrid Cloud Pla...   Engineer   \n",
       "5  Trainee Data - AI/Big Data Analytics/Data Mana...    Analyst   \n",
       "6                                 Junior QA Engineer   Engineer   \n",
       "7                                     Build Engineer   Engineer   \n",
       "8                          Machine Learning Engineer   Engineer   \n",
       "\n",
       "                          department                 company       location  \\\n",
       "0               Content Intelligence                 Spotify  Berlin/Remote   \n",
       "1                      IT Management           Convex Energy         Berlin   \n",
       "2                               None                 Bikemap         Vienna   \n",
       "3                          DB Systel                      DB         Berlin   \n",
       "4                            MBition           Mercedes-Benz         Berlin   \n",
       "5                               None               Accenture        Germany   \n",
       "6  Audio Hardware & Firmware Testing  ADAM Audio (Focusrite)         Berlin   \n",
       "7                               None  Daedalic Entertianment        Hamburg   \n",
       "8         Search and Recommendations              SoundCloud         Berlin   \n",
       "\n",
       "  recruiter referral             method date_init_resp initial_response  \\\n",
       "0      None     None           linkedin            NaT      No Response   \n",
       "1      None     None           linkedin            NaT      No Response   \n",
       "2      None     None           linkedin     2023-01-11         Rejected   \n",
       "3      None     None           linkedin     2023-01-09         Rejected   \n",
       "4      None     None           linkedin            NaT      No Response   \n",
       "5      None    Niamh  Accenture website     2023-01-11         Rejected   \n",
       "6      None     None           linkedin            NaT      No Response   \n",
       "7      None     None           linkedin            NaT      No Response   \n",
       "8      None     None           linkedin            NaT      No Response   \n",
       "\n",
       "  date_interview1 interview_comments more_interviews  final_outcome  \n",
       "0             NaT                NaN             NaN            NaN  \n",
       "1             NaT                NaN             NaN            NaN  \n",
       "2             NaT                NaN             NaN            NaN  \n",
       "3             NaT                NaN             NaN            NaN  \n",
       "4             NaT                NaN             NaN            NaN  \n",
       "5             NaT                NaN             NaN            NaN  \n",
       "6             NaT                NaN             NaN            NaN  \n",
       "7             NaT                NaN             NaN            NaN  \n",
       "8             NaT                NaN             NaN            NaN  "
      ]
     },
     "execution_count": 106,
     "metadata": {},
     "output_type": "execute_result"
    }
   ],
   "source": [
    "jobs_df"
   ]
  },
  {
   "attachments": {},
   "cell_type": "markdown",
   "metadata": {},
   "source": [
    "## Graphs"
   ]
  },
  {
   "cell_type": "code",
   "execution_count": 51,
   "metadata": {},
   "outputs": [
    {
     "data": {
      "image/png": "[encoded data removed]",
      "text/plain": [
       "<Figure size 500x300 with 1 Axes>"
      ]
     },
     "metadata": {},
     "output_type": "display_data"
    }
   ],
   "source": [
    "fig1, ax1 = plt.subplots(figsize=(5,3))\n",
    "cat_palette = ['#e82e72', '#161f59', '#bdff99']\n",
    "fig1 = sns.countplot(x=jobs_df.job_cat, palette=cat_palette)\n",
    "ax1.set_title('Job Categories')\n",
    "plt.show(fig1)"
   ]
  },
  {
   "cell_type": "code",
   "execution_count": 85,
   "metadata": {},
   "outputs": [
    {
     "data": {
      "image/png": "[encoded data removed]",
      "text/plain": [
       "<Figure size 1000x600 with 1 Axes>"
      ]
     },
     "metadata": {},
     "output_type": "display_data"
    }
   ],
   "source": [
    "fig2, ax2 = plt.subplots(figsize=(10,6))\n",
    "\n",
    "fig2 = sns.countplot(x=jobs_df.date_applied, hue=responses, palette='magma')\n",
    "\n",
    "my_dates = np.unique(np.array([x.strftime('%Y-%m-%d') for x in jobs_df.date_applied], dtype='datetime64'))\n",
    "ax2.set_xticklabels([pd.to_datetime(tm).strftime('%b %-d') for tm in my_dates])\n",
    "ax2.set_title('Initial Responses')\n",
    "\n",
    "plt.show()"
   ]
  },
  {
   "cell_type": "code",
   "execution_count": 103,
   "metadata": {},
   "outputs": [
    {
     "data": {
      "image/png": "[encoded data removed]",
      "text/plain": [
       "<Figure size 640x480 with 1 Axes>"
      ]
     },
     "metadata": {},
     "output_type": "display_data"
    }
   ],
   "source": [
    "my_dates = np.unique(np.array([x.strftime('%Y-%m-%d') for x in jobs_df.date_applied], dtype='datetime64'))\n",
    "\n",
    "Counter(responses)\n",
    "men_means = []\n",
    "women_means = [25, 32, 34, 20, 25]\n",
    "width = 0.35       # the width of the bars: can also be len(x) sequence\n",
    "\n",
    "fig, ax = plt.subplots()\n",
    "\n",
    "ax.bar(labels, men_means, width, label='Men')\n",
    "ax.bar(labels, women_means, width, bottom=men_means, label='Women')\n",
    "\n",
    "ax.set_ylabel('Scores')\n",
    "ax.set_title('Scores by group and gender')\n",
    "ax.legend()\n",
    "\n",
    "plt.show()\n"
   ]
  },
  {
   "cell_type": "code",
   "execution_count": 120,
   "metadata": {},
   "outputs": [
    {
     "data": {
      "text/plain": [
       "Timestamp('2023-01-04 00:00:00')"
      ]
     },
     "execution_count": 120,
     "metadata": {},
     "output_type": "execute_result"
    }
   ],
   "source": [
    "date_groups = list(jobs_df.groupby('date_applied').groups.keys())\n",
    "for day in date_groups:\n",
    "    if jobs_df.date_applied == day:\n",
    "        "
   ]
  },
  {
   "attachments": {},
   "cell_type": "markdown",
   "metadata": {},
   "source": [
    "labels = unique my_dates\n",
    "\n",
    "1st layer = count of no responses for each day\n",
    "\n",
    "2nd layer = count of rejections for each day\n",
    "\n",
    "3rd layer = count of passed for each day"
   ]
  }
 ],
 "metadata": {
  "kernelspec": {
   "display_name": "lewagon",
   "language": "python",
   "name": "python3"
  },
  "language_info": {
   "codemirror_mode": {
    "name": "ipython",
    "version": 3
   },
   "file_extension": ".py",
   "mimetype": "text/x-python",
   "name": "python",
   "nbconvert_exporter": "python",
   "pygments_lexer": "ipython3",
   "version": "3.10.6"
  },
  "orig_nbformat": 4,
  "vscode": {
   "interpreter": {
    "hash": "6ffc35d46f337c4201c4fad81bb678395bc2c122ed1eeab8d96f421dd7a87373"
   }
  }
 },
 "nbformat": 4,
 "nbformat_minor": 2
}
