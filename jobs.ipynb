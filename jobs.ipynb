{
 "cells": [
  {
   "attachments": {},
   "cell_type": "markdown",
   "metadata": {},
   "source": [
    "# My Job Applications 2023"
   ]
  },
  {
   "attachments": {},
   "cell_type": "markdown",
   "metadata": {},
   "source": [
    "### Imports"
   ]
  },
  {
   "cell_type": "code",
   "execution_count": 153,
   "metadata": {},
   "outputs": [],
   "source": [
    "import numpy as np\n",
    "import pandas as pd\n",
    "from datetime import datetime\n",
    "import seaborn as sns\n",
    "import matplotlib.pyplot as plt\n",
    "import matplotlib.dates as mpld\n",
    "from collections import Counter"
   ]
  },
  {
   "attachments": {},
   "cell_type": "markdown",
   "metadata": {},
   "source": [
    "### Empty Data Frame"
   ]
  },
  {
   "cell_type": "code",
   "execution_count": 154,
   "metadata": {},
   "outputs": [
    {
     "name": "stdout",
     "output_type": "stream",
     "text": [
      "<class 'pandas.core.frame.DataFrame'>\n",
      "Index: 0 entries\n",
      "Data columns (total 16 columns):\n",
      " #   Column              Non-Null Count  Dtype         \n",
      "---  ------              --------------  -----         \n",
      " 0   url                 0 non-null      object        \n",
      " 1   date_applied        0 non-null      datetime64[ns]\n",
      " 2   job_title           0 non-null      object        \n",
      " 3   job_cat             0 non-null      object        \n",
      " 4   department          0 non-null      object        \n",
      " 5   company             0 non-null      object        \n",
      " 6   location            0 non-null      object        \n",
      " 7   recruiter           0 non-null      object        \n",
      " 8   referral            0 non-null      object        \n",
      " 9   method              0 non-null      object        \n",
      " 10  date_init_resp      0 non-null      datetime64[ns]\n",
      " 11  initial_response    0 non-null      object        \n",
      " 12  date_interview1     0 non-null      datetime64[ns]\n",
      " 13  interview_comments  0 non-null      object        \n",
      " 14  more_interviews     0 non-null      object        \n",
      " 15  final_outcome       0 non-null      int8          \n",
      "dtypes: datetime64[ns](3), int8(1), object(12)\n",
      "memory usage: 0.0+ bytes\n"
     ]
    }
   ],
   "source": [
    "df_columns = {'url': 'str', 'date_applied': 'datetime64[ns]', 'job_title': 'str', \n",
    "              'job_cat': 'str', 'department': 'str', 'company': 'str', \n",
    "              'location': 'str', 'recruiter': 'str', 'referral': 'str', 'method': 'str',\n",
    "              'date_init_resp': 'datetime64[ns]', 'initial_response': 'str', \n",
    "              'date_interview1': 'datetime64[ns]', 'interview_comments': 'str', \n",
    "              'more_interviews': 'str', 'final_outcome': 'int8'}\n",
    "\n",
    "jobs_df = pd.DataFrame({c: pd.Series(dtype=t) for c, t in df_columns.items()})\n",
    "jobs_df.info()"
   ]
  },
  {
   "attachments": {},
   "cell_type": "markdown",
   "metadata": {},
   "source": [
    "## Insert Data"
   ]
  },
  {
   "attachments": {},
   "cell_type": "markdown",
   "metadata": {},
   "source": [
    "### Applications"
   ]
  },
  {
   "cell_type": "code",
   "execution_count": 155,
   "metadata": {},
   "outputs": [],
   "source": [
    "jobs_df.loc[0, 'url':'method'] = 'https://jobs.lever.co/spotify/f6399d24-74ff-\\\n",
    "406c-be20-ffdac88de4d0?lever-source=LinkedInJobs', \\\n",
    "                                   '2023-01-04', 'Machine Learning Engineer', 'Engineer', \\\n",
    "                                   'Content Intelligence', 'Spotify', 'Berlin/Remote', \\\n",
    "                                   None, None, 'linkedin'"
   ]
  },
  {
   "cell_type": "code",
   "execution_count": 156,
   "metadata": {},
   "outputs": [],
   "source": [
    "jobs_df.loc[1, 'url':'method'] = 'https://join.com/companies/convex-energy/671\\\n",
    "1604-integrations-developer-c-python-m-f-d?pid=731067c1dfecf6015bf5&oid=040cad5b-\\\n",
    "9c17-4c36-8fc4-e1390e7d46ed', \\\n",
    "                                    '2023-01-04', 'Integrations Developer - C#/Python', 'Developer', \\\n",
    "                                    'IT Management', 'Convex Energy', 'Berlin', \\\n",
    "                                    None, None, 'linkedin'"
   ]
  },
  {
   "cell_type": "code",
   "execution_count": 157,
   "metadata": {},
   "outputs": [],
   "source": [
    "jobs_df.loc[2, 'url':'method'] = 'https://bikemap.jobs.personio.com/job/415336?display=de', \\\n",
    "                                   '2023-01-04', 'Backend Developer - Python', 'Developer', \\\n",
    "                                   None, 'Bikemap', 'Vienna', None, None, 'linkedin'\n"
   ]
  },
  {
   "cell_type": "code",
   "execution_count": 158,
   "metadata": {},
   "outputs": [],
   "source": [
    "jobs_df.loc[3, 'url':'method'] = 'https://karriere.deutschebahn.com/karriere-de/Suche/DevOps-Engineer-w-m-d-mit-Fokus\\\n",
    "-auf-Data-Science-9981626?jobId=194391', \\\n",
    "                                   '2023-01-04', 'DevOps Engineer mit Fokus auf Data Science', 'Engineer', \\\n",
    "                                   'DB Systel', 'DB', 'Berlin', \\\n",
    "                                   None, None, 'linkedin'"
   ]
  },
  {
   "cell_type": "code",
   "execution_count": 159,
   "metadata": {},
   "outputs": [],
   "source": [
    "jobs_df.loc[4, 'url':'method'] = 'https://mbition.io/jobs/?job=911357&apply=1&\\\n",
    "pid=e78ca23c-a06c-4c87-a70c-fcc7052e7ffa&it=Mz7a17-DxBfrsvGYFVyA5A', \\\n",
    "                                   '2023-01-04', 'Site Reliability Engineer for Hybrid Cloud Platform', 'Engineer', \\\n",
    "                                   'MBition', 'Mercedes-Benz', 'Berlin', \\\n",
    "                                   None, None, 'linkedin'"
   ]
  },
  {
   "cell_type": "code",
   "execution_count": 160,
   "metadata": {},
   "outputs": [],
   "source": [
    "jobs_df.loc[5, 'url':'method'] = 'https://www.accenture.com/us-en/careers/job\\\n",
    "details?id=R00005249_de&title=Trainee+Data+(AI+%2f+Big+Data+Analytics+%2f+Data+Management)+(all+genders)', \\\n",
    "                                   '2023-01-04', 'Trainee Data - AI/Big Data Analytics/Data Management', 'Analyst', \\\n",
    "                                   None, 'Accenture', 'Germany', \\\n",
    "                                   None, 'Niamh', 'Accenture website'"
   ]
  },
  {
   "cell_type": "code",
   "execution_count": 161,
   "metadata": {},
   "outputs": [],
   "source": [
    "jobs_df.loc[6, 'url':'method'] = 'https://apply.workable.com/focusrite/j/7291245450/', \\\n",
    "                                   '2023-01-07', 'Junior QA Engineer', 'Engineer', \\\n",
    "                                   'Audio Hardware & Firmware Testing', \\\n",
    "                                   'ADAM Audio (Focusrite)', 'Berlin', \\\n",
    "                                   None, None, 'linkedin'"
   ]
  },
  {
   "cell_type": "code",
   "execution_count": 162,
   "metadata": {},
   "outputs": [],
   "source": [
    "jobs_df.loc[7, 'url':'method'] = 'http://jobs.daedalicsupport.com/index/build-engineer-(m/f/d).html', \\\n",
    "                                   '2023-01-07', 'Build Engineer', 'Engineer', \\\n",
    "                                   None, 'Daedalic Entertianment', 'Hamburg', \\\n",
    "                                   None, None, 'linkedin'"
   ]
  },
  {
   "cell_type": "code",
   "execution_count": 163,
   "metadata": {},
   "outputs": [],
   "source": [
    "jobs_df.loc[8, 'url':'method'] = 'https://careers.soundcloud.com/job?gh_jid=6561571002&gh_src=b2264ac52us', \\\n",
    "                                   '2023-01-10', 'Machine Learning Engineer', 'Engineer', \\\n",
    "                                   'Search and Recommendations', 'SoundCloud', 'Berlin', \\\n",
    "                                   None, None, 'linkedin'"
   ]
  },
  {
   "cell_type": "code",
   "execution_count": null,
   "metadata": {},
   "outputs": [],
   "source": [
    "jobs_df.loc[9, 'url':'method'] = 'https://www.native-instruments.com/en/career-center/career/6516976002', \\\n",
    "                                   '2023-01-11', 'Senior Software Engineer C++', 'Engineer', \\\n",
    "                                   'Authoring Platforms Team', 'Native Instruments', 'Berlin', \\\n",
    "                                   None, None, 'linkedin'"
   ]
  },
  {
   "cell_type": "code",
   "execution_count": null,
   "metadata": {},
   "outputs": [],
   "source": [
    "jobs_df.loc[9, 'url':'method'] = 'https://lautsprecherteufel.jobs.personio.de/job/690114?_pc=75581#apply', \\\n",
    "                                   '2023-01-11', 'Backend Developer PHP/SPRYKER', 'Developer', \\\n",
    "                                   None, 'Teufel', 'Berlin', None, None, 'linkedin'"
   ]
  },
  {
   "attachments": {},
   "cell_type": "markdown",
   "metadata": {},
   "source": [
    "### Initial Responses"
   ]
  },
  {
   "cell_type": "code",
   "execution_count": 164,
   "metadata": {},
   "outputs": [],
   "source": [
    "jobs_df.loc[3, 'date_init_resp':'initial_response'] = '1.9.23', 'Rejected'\n",
    "jobs_df.loc[5, 'date_init_resp':'initial_response'] = '1.11.23', 'Rejected'                                   \n",
    "jobs_df.loc[2, 'date_init_resp':'initial_response'] = '1.11.23', 'Rejected'                                "
   ]
  },
  {
   "cell_type": "code",
   "execution_count": 165,
   "metadata": {},
   "outputs": [],
   "source": [
    "responses = ['No Response' if type(x) != str else x for x in jobs_df.initial_response]\n",
    "jobs_df.loc[:, 'initial_response'] = responses"
   ]
  },
  {
   "attachments": {},
   "cell_type": "markdown",
   "metadata": {},
   "source": [
    "## Visualizations"
   ]
  },
  {
   "cell_type": "code",
   "execution_count": 258,
   "metadata": {},
   "outputs": [
    {
     "data": {
      "text/html": [
       "<div>\n",
       "<style scoped>\n",
       "    .dataframe tbody tr th:only-of-type {\n",
       "        vertical-align: middle;\n",
       "    }\n",
       "\n",
       "    .dataframe tbody tr th {\n",
       "        vertical-align: top;\n",
       "    }\n",
       "\n",
       "    .dataframe thead th {\n",
       "        text-align: right;\n",
       "    }\n",
       "</style>\n",
       "<table border=\"1\" class=\"dataframe\">\n",
       "  <thead>\n",
       "    <tr style=\"text-align: right;\">\n",
       "      <th></th>\n",
       "      <th>url</th>\n",
       "      <th>date_applied</th>\n",
       "      <th>job_title</th>\n",
       "      <th>job_cat</th>\n",
       "      <th>department</th>\n",
       "      <th>company</th>\n",
       "      <th>location</th>\n",
       "      <th>recruiter</th>\n",
       "      <th>referral</th>\n",
       "      <th>method</th>\n",
       "      <th>date_init_resp</th>\n",
       "      <th>initial_response</th>\n",
       "      <th>date_interview1</th>\n",
       "      <th>interview_comments</th>\n",
       "      <th>more_interviews</th>\n",
       "      <th>final_outcome</th>\n",
       "    </tr>\n",
       "  </thead>\n",
       "  <tbody>\n",
       "    <tr>\n",
       "      <th>0</th>\n",
       "      <td>https://jobs.lever.co/spotify/f6399d24-74ff-40...</td>\n",
       "      <td>2023-01-04</td>\n",
       "      <td>Machine Learning Engineer</td>\n",
       "      <td>Engineer</td>\n",
       "      <td>Content Intelligence</td>\n",
       "      <td>Spotify</td>\n",
       "      <td>Berlin/Remote</td>\n",
       "      <td>None</td>\n",
       "      <td>None</td>\n",
       "      <td>linkedin</td>\n",
       "      <td>NaT</td>\n",
       "      <td>No Response</td>\n",
       "      <td>NaT</td>\n",
       "      <td>NaN</td>\n",
       "      <td>NaN</td>\n",
       "      <td>NaN</td>\n",
       "    </tr>\n",
       "    <tr>\n",
       "      <th>1</th>\n",
       "      <td>https://join.com/companies/convex-energy/67116...</td>\n",
       "      <td>2023-01-04</td>\n",
       "      <td>Integrations Developer - C#/Python</td>\n",
       "      <td>Developer</td>\n",
       "      <td>IT Management</td>\n",
       "      <td>Convex Energy</td>\n",
       "      <td>Berlin</td>\n",
       "      <td>None</td>\n",
       "      <td>None</td>\n",
       "      <td>linkedin</td>\n",
       "      <td>NaT</td>\n",
       "      <td>No Response</td>\n",
       "      <td>NaT</td>\n",
       "      <td>NaN</td>\n",
       "      <td>NaN</td>\n",
       "      <td>NaN</td>\n",
       "    </tr>\n",
       "    <tr>\n",
       "      <th>2</th>\n",
       "      <td>https://bikemap.jobs.personio.com/job/415336?d...</td>\n",
       "      <td>2023-01-04</td>\n",
       "      <td>Backend Developer - Python</td>\n",
       "      <td>Developer</td>\n",
       "      <td>None</td>\n",
       "      <td>Bikemap</td>\n",
       "      <td>Vienna</td>\n",
       "      <td>None</td>\n",
       "      <td>None</td>\n",
       "      <td>linkedin</td>\n",
       "      <td>2023-01-11</td>\n",
       "      <td>Rejected</td>\n",
       "      <td>NaT</td>\n",
       "      <td>NaN</td>\n",
       "      <td>NaN</td>\n",
       "      <td>NaN</td>\n",
       "    </tr>\n",
       "  </tbody>\n",
       "</table>\n",
       "</div>"
      ],
      "text/plain": [
       "                                                 url date_applied  \\\n",
       "0  https://jobs.lever.co/spotify/f6399d24-74ff-40...   2023-01-04   \n",
       "1  https://join.com/companies/convex-energy/67116...   2023-01-04   \n",
       "2  https://bikemap.jobs.personio.com/job/415336?d...   2023-01-04   \n",
       "\n",
       "                            job_title    job_cat            department  \\\n",
       "0           Machine Learning Engineer   Engineer  Content Intelligence   \n",
       "1  Integrations Developer - C#/Python  Developer         IT Management   \n",
       "2          Backend Developer - Python  Developer                  None   \n",
       "\n",
       "         company       location recruiter referral    method date_init_resp  \\\n",
       "0        Spotify  Berlin/Remote      None     None  linkedin            NaT   \n",
       "1  Convex Energy         Berlin      None     None  linkedin            NaT   \n",
       "2        Bikemap         Vienna      None     None  linkedin     2023-01-11   \n",
       "\n",
       "  initial_response date_interview1 interview_comments more_interviews  \\\n",
       "0      No Response             NaT                NaN             NaN   \n",
       "1      No Response             NaT                NaN             NaN   \n",
       "2         Rejected             NaT                NaN             NaN   \n",
       "\n",
       "   final_outcome  \n",
       "0            NaN  \n",
       "1            NaN  \n",
       "2            NaN  "
      ]
     },
     "execution_count": 258,
     "metadata": {},
     "output_type": "execute_result"
    }
   ],
   "source": [
    "jobs_df.head(3)"
   ]
  },
  {
   "cell_type": "code",
   "execution_count": 167,
   "metadata": {},
   "outputs": [],
   "source": [
    "my_dates = np.unique(np.array([x.strftime('%Y-%m-%d') for x in jobs_df.date_applied], dtype='datetime64'))"
   ]
  },
  {
   "cell_type": "code",
   "execution_count": 168,
   "metadata": {},
   "outputs": [
    {
     "data": {
      "image/png": "[encoded data removed]",
      "text/plain": [
       "<Figure size 500x300 with 1 Axes>"
      ]
     },
     "metadata": {},
     "output_type": "display_data"
    }
   ],
   "source": [
    "fig1, ax1 = plt.subplots(figsize=(5,3))\n",
    "cat_palette = ['#e82e72', '#161f59', '#bdff99']\n",
    "fig1 = sns.countplot(x=jobs_df.job_cat, palette=cat_palette)\n",
    "ax1.set_title('Job Categories')\n",
    "plt.show(fig1)"
   ]
  },
  {
   "cell_type": "code",
   "execution_count": 176,
   "metadata": {},
   "outputs": [],
   "source": [
    "date_grouped_df = jobs_df.loc[:, ['date_applied','initial_response']].groupby('date_applied')\n",
    "grouped_keys = list(date_grouped_df.groups.keys())\n",
    "date_reject_counts = []\n",
    "for key in grouped_keys:\n",
    "    date_reject_counts.append(Counter(date_grouped_df.get_group(key).initial_response))"
   ]
  },
  {
   "cell_type": "code",
   "execution_count": 255,
   "metadata": {},
   "outputs": [],
   "source": [
    "no_response = []\n",
    "for x in date_reject_counts:\n",
    "    no_response.append(x['No Response'])\n",
    "rejected = []\n",
    "for x in date_reject_counts:\n",
    "    rejected.append(x['Rejected'])\n",
    "passed = []\n",
    "for x in date_reject_counts:\n",
    "    passed.append(x['Passed'])\n",
    "both = np.array(rejected) + np.array(no_response)\n",
    "width = 1"
   ]
  },
  {
   "cell_type": "code",
   "execution_count": 256,
   "metadata": {},
   "outputs": [
    {
     "data": {
      "image/png": "[encoded data removed]",
      "text/plain": [
       "<Figure size 640x480 with 1 Axes>"
      ]
     },
     "metadata": {},
     "output_type": "display_data"
    }
   ],
   "source": [
    "fig2, ax2 = plt.subplots()\n",
    "\n",
    "ax2.bar(my_dates, no_response, width, label='No Response', color='lightgrey')\n",
    "ax2.bar(my_dates, rejected, width, bottom=no_response, label='Rejected', color='darkred')\n",
    "ax2.bar(my_dates, passed, width, bottom=both, label='Passed', color='limegreen')\n",
    "\n",
    "ax2.set_xticks(grouped_keys)\n",
    "ax2.set_xticklabels([pd.to_datetime(tm).strftime('%b %-d') for tm in my_dates])\n",
    "ax2.set_title('Initial Responses')\n",
    "ax2.legend()\n",
    "\n",
    "plt.show()\n"
   ]
  },
  {
   "cell_type": "code",
   "execution_count": null,
   "metadata": {},
   "outputs": [],
   "source": []
  }
 ],
 "metadata": {
  "kernelspec": {
   "display_name": "lewagon",
   "language": "python",
   "name": "python3"
  },
  "language_info": {
   "codemirror_mode": {
    "name": "ipython",
    "version": 3
   },
   "file_extension": ".py",
   "mimetype": "text/x-python",
   "name": "python",
   "nbconvert_exporter": "python",
   "pygments_lexer": "ipython3",
   "version": "3.10.6 (main, Oct 10 2022, 22:29:47) [Clang 14.0.0 (clang-1400.0.29.102)]"
  },
  "orig_nbformat": 4,
  "vscode": {
   "interpreter": {
    "hash": "6ffc35d46f337c4201c4fad81bb678395bc2c122ed1eeab8d96f421dd7a87373"
   }
  }
 },
 "nbformat": 4,
 "nbformat_minor": 2
}
