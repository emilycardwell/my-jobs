{
 "cells": [
  {
   "attachments": {},
   "cell_type": "markdown",
   "metadata": {},
   "source": [
    "# My Job Applications 2023"
   ]
  },
  {
   "attachments": {},
   "cell_type": "markdown",
   "metadata": {},
   "source": [
    "### Imports"
   ]
  },
  {
   "cell_type": "code",
   "execution_count": 34,
   "metadata": {},
   "outputs": [],
   "source": [
    "import numpy as np\n",
    "import pandas as pd\n",
    "from datetime import datetime\n",
    "import seaborn as sns\n",
    "import matplotlib.pyplot as plt\n",
    "import matplotlib.dates as mpld\n",
    "from collections import Counter"
   ]
  },
  {
   "attachments": {},
   "cell_type": "markdown",
   "metadata": {},
   "source": [
    "## Applications"
   ]
  },
  {
   "attachments": {},
   "cell_type": "markdown",
   "metadata": {},
   "source": [
    "### Column Names"
   ]
  },
  {
   "cell_type": "code",
   "execution_count": 35,
   "metadata": {},
   "outputs": [],
   "source": [
    "app_column_names = [\n",
    "    'date_applied', 'job_title', 'job_cat', 'department',\n",
    "    'location', 'recruiter', 'referral', 'method', 'url'\n",
    "]"
   ]
  },
  {
   "attachments": {},
   "cell_type": "markdown",
   "metadata": {},
   "source": [
    "### Indexes"
   ]
  },
  {
   "cell_type": "code",
   "execution_count": 37,
   "metadata": {},
   "outputs": [],
   "source": [
    "company_indexes = []"
   ]
  },
  {
   "attachments": {},
   "cell_type": "markdown",
   "metadata": {},
   "source": [
    "### Write Data"
   ]
  },
  {
   "cell_type": "code",
   "execution_count": 38,
   "metadata": {},
   "outputs": [],
   "source": [
    "siemens_app = [\n",
    "    np.datetime64('2022-11-19'), 'Testingenieur/in für Embedded Systems', \n",
    "    'QA Engineer', 'Siemens Energy', 'Berlin', None, None, 'linkedin', \n",
    "    'https://jobs.siemens-energy.com/en_US/jobs/Login'\n",
    "]\n",
    "company_indexes.append('Siemens')\n",
    "spotify_app = [\n",
    "    np.datetime64('2023-01-04'), 'Machine Learning Engineer', 'ML Engineer', \n",
    "    'Content Intelligence', 'Berlin/Remote', None, None, 'linkedin',\n",
    "    'https://jobs.lever.co/spotify/f6399d24-74ff-406c-be20-ffdac88de4d0?lever-source=LinkedInJobs'\n",
    "]\n",
    "company_indexes.append('Spotify')\n",
    "\n",
    "convex_app = [\n",
    "    np.datetime64('2023-01-04'), 'Integrations Developer - C#/Python', \n",
    "    'Python Engineer', 'IT Management', 'Berlin', None, None, 'linkedin',\n",
    "    'https://join.com/companies/convex-energy/6711604-integrations-developer-c-python-m-f-d?pid=731067c1dfecf6015bf5&oid=040cad5b-9c17-4c36-8fc4-e1390e7d46ed'\n",
    "]\n",
    "company_indexes.append('Convex_Energy')\n",
    "\n",
    "bikemap_app = [\n",
    "    np.datetime64('2023-01-04'), 'Backend Developer - Python', 'Backend Engineer', \n",
    "    None, 'Vienna', None, None, 'linkedin', 'https://bikemap.jobs.personio.com/job/415336?display=de'\n",
    "]\n",
    "company_indexes.append('Bikemap')\n",
    "\n",
    "db_app = [\n",
    "    np.datetime64('2023-01-04'), 'DevOps Engineer mit Fokus auf Data Science', \n",
    "    'DevOps Engineer', 'DB Systel', 'Berlin', None, None, 'linkedin',\n",
    "    'https://karriere.deutschebahn.com/karriere-de/Suche/DevOps-Engineer-w-m-d-mit-Fokus-auf-Data-Science-9981626?jobId=194391', \n",
    "]\n",
    "company_indexes.append('DB')\n",
    "\n",
    "benz_app = [\n",
    "    np.datetime64('2023-01-04'), 'Site Reliability Engineer for Hybrid Cloud Platform', \n",
    "    'Cloud Engineer', 'MBition', 'Berlin', None, None, 'linkedin',\n",
    "    'https://mbition.io/jobs/?job=911357&apply=1&pid=e78ca23c-a06c-4c87-a70c-fcc7052e7ffa&it=Mz7a17-DxBfrsvGYFVyA5A'\n",
    "]\n",
    "company_indexes.append('Mercedes_Benz')\n",
    "\n",
    "accenture_app = [\n",
    "    np.datetime64('2023-01-04'), 'Trainee Data - AI/Big Data Analytics/Data Management', \n",
    "    'Data Analyst', None, 'Germany', None, 'Niamh', 'Accenture website',\n",
    "    'https://www.accenture.com/us-en/careers/jobdetails?id=R00005249_de&title=Trainee+Data+(AI+%2f+Big+Data+Analytics+%2f+Data+Management)+(all+genders)'\n",
    "]\n",
    "company_indexes.append('Accenture')\n",
    "focusrite_app = [\n",
    "    np.datetime64('2023-01-07'), 'Junior QA Engineer', \n",
    "    'QA Engineer - Audio Hardware & Firmware Testing', 'ADAM Audio', 'Berlin', \n",
    "    None, None, 'linkedin', 'https://apply.workable.com/focusrite/j/7291245450/'\n",
    "]\n",
    "company_indexes.append('Focusrite')\n",
    "\n",
    "daedalic_app = [\n",
    "    np.datetime64('2023-01-07'), 'Build Engineer', 'ML Engineer', None, 'Hamburg', \n",
    "    None, None, 'linkedin', 'http://jobs.daedalicsupport.com/index/build-engineer-(m/f/d).html'\n",
    "]\n",
    "company_indexes.append('Daedalic_Entertainment')\n",
    "\n",
    "soundcloud_app = [\n",
    "    np.datetime64('2023-01-10'), 'Machine Learning Engineer', 'ML Engineer', \n",
    "    'Search and Recommendations', 'Berlin', None, None, 'linkedin',\n",
    "    'https://careers.soundcloud.com/job?gh_jid=6561571002&gh_src=b2264ac52us'\n",
    "]\n",
    "company_indexes.append('SoundCloud')\n",
    "native_inst_app = [\n",
    "    np.datetime64('2023-01-11'), 'Senior Software Engineer C++', 'C++ Engineer', \n",
    "    'Authoring Platforms Team', 'Berlin', None, None, 'linkedin',\n",
    "    'https://www.native-instruments.com/en/career-center/career/6516976002'\n",
    "]\n",
    "company_indexes.append('Native_Instruments')\n",
    "\n",
    "teufel_app = [\n",
    "    np.datetime64('2023-01-11'), 'Backend Developer PHP/SPRYKER', 'Backend Engineer', \n",
    "    None, 'Berlin', None, None, 'linkedin',\n",
    "    'https://lautsprecherteufel.jobs.personio.de/job/690114?_pc=75581#apply'\n",
    "]\n",
    "company_indexes.append('Teufel')\n",
    "\n",
    "burmester_app = [\n",
    "    np.datetime64('2023-01-13'), 'Automotive Audio Engineer', 'Audio Engineer', \n",
    "    None, 'Berlin', 'Sanda Firlay', None, 'linkedin',\n",
    "    'https://jobapplication.hrworks.de/en/apply?companyId=o8ccafb&id=883dc0' \n",
    "]\n",
    "company_indexes.append('Burmester_Audiosysteme')"
   ]
  },
  {
   "attachments": {},
   "cell_type": "markdown",
   "metadata": {},
   "source": [
    "### Build DataFrame"
   ]
  },
  {
   "cell_type": "code",
   "execution_count": 46,
   "metadata": {},
   "outputs": [],
   "source": [
    "apps = [\n",
    "    siemens_app, spotify_app, convex_app, bikemap_app, db_app, benz_app, \n",
    "    accenture_app, focusrite_app, daedalic_app, soundcloud_app, native_inst_app, \n",
    "    teufel_app, burmester_app\n",
    "]"
   ]
  },
  {
   "cell_type": "code",
   "execution_count": 47,
   "metadata": {},
   "outputs": [
    {
     "data": {
      "text/html": [
       "<div>\n",
       "<style scoped>\n",
       "    .dataframe tbody tr th:only-of-type {\n",
       "        vertical-align: middle;\n",
       "    }\n",
       "\n",
       "    .dataframe tbody tr th {\n",
       "        vertical-align: top;\n",
       "    }\n",
       "\n",
       "    .dataframe thead th {\n",
       "        text-align: right;\n",
       "    }\n",
       "</style>\n",
       "<table border=\"1\" class=\"dataframe\">\n",
       "  <thead>\n",
       "    <tr style=\"text-align: right;\">\n",
       "      <th></th>\n",
       "      <th>date_applied</th>\n",
       "      <th>job_title</th>\n",
       "      <th>job_cat</th>\n",
       "      <th>department</th>\n",
       "      <th>location</th>\n",
       "      <th>recruiter</th>\n",
       "      <th>referral</th>\n",
       "      <th>method</th>\n",
       "      <th>url</th>\n",
       "    </tr>\n",
       "  </thead>\n",
       "  <tbody>\n",
       "    <tr>\n",
       "      <th>Siemens</th>\n",
       "      <td>2022-11-19</td>\n",
       "      <td>Testingenieur/in für Embedded Systems</td>\n",
       "      <td>QA Engineer</td>\n",
       "      <td>Siemens Energy</td>\n",
       "      <td>Berlin</td>\n",
       "      <td>None</td>\n",
       "      <td>None</td>\n",
       "      <td>linkedin</td>\n",
       "      <td>https://jobs.siemens-energy.com/en_US/jobs/Login</td>\n",
       "    </tr>\n",
       "    <tr>\n",
       "      <th>Spotify</th>\n",
       "      <td>2023-01-04</td>\n",
       "      <td>Machine Learning Engineer</td>\n",
       "      <td>ML Engineer</td>\n",
       "      <td>Content Intelligence</td>\n",
       "      <td>Berlin/Remote</td>\n",
       "      <td>None</td>\n",
       "      <td>None</td>\n",
       "      <td>linkedin</td>\n",
       "      <td>https://jobs.lever.co/spotify/f6399d24-74ff-40...</td>\n",
       "    </tr>\n",
       "    <tr>\n",
       "      <th>Convex_Energy</th>\n",
       "      <td>2023-01-04</td>\n",
       "      <td>Integrations Developer - C#/Python</td>\n",
       "      <td>Python Engineer</td>\n",
       "      <td>IT Management</td>\n",
       "      <td>Berlin</td>\n",
       "      <td>None</td>\n",
       "      <td>None</td>\n",
       "      <td>linkedin</td>\n",
       "      <td>https://join.com/companies/convex-energy/67116...</td>\n",
       "    </tr>\n",
       "    <tr>\n",
       "      <th>Bikemap</th>\n",
       "      <td>2023-01-04</td>\n",
       "      <td>Backend Developer - Python</td>\n",
       "      <td>Backend Engineer</td>\n",
       "      <td>None</td>\n",
       "      <td>Vienna</td>\n",
       "      <td>None</td>\n",
       "      <td>None</td>\n",
       "      <td>linkedin</td>\n",
       "      <td>https://bikemap.jobs.personio.com/job/415336?d...</td>\n",
       "    </tr>\n",
       "    <tr>\n",
       "      <th>DB</th>\n",
       "      <td>2023-01-04</td>\n",
       "      <td>DevOps Engineer mit Fokus auf Data Science</td>\n",
       "      <td>DevOps Engineer</td>\n",
       "      <td>DB Systel</td>\n",
       "      <td>Berlin</td>\n",
       "      <td>None</td>\n",
       "      <td>None</td>\n",
       "      <td>linkedin</td>\n",
       "      <td>https://karriere.deutschebahn.com/karriere-de/...</td>\n",
       "    </tr>\n",
       "    <tr>\n",
       "      <th>Mercedes_Benz</th>\n",
       "      <td>2023-01-04</td>\n",
       "      <td>Site Reliability Engineer for Hybrid Cloud Pla...</td>\n",
       "      <td>Cloud Engineer</td>\n",
       "      <td>MBition</td>\n",
       "      <td>Berlin</td>\n",
       "      <td>None</td>\n",
       "      <td>None</td>\n",
       "      <td>linkedin</td>\n",
       "      <td>https://mbition.io/jobs/?job=911357&amp;apply=1&amp;pi...</td>\n",
       "    </tr>\n",
       "    <tr>\n",
       "      <th>Accenture</th>\n",
       "      <td>2023-01-04</td>\n",
       "      <td>Trainee Data - AI/Big Data Analytics/Data Mana...</td>\n",
       "      <td>Data Analyst</td>\n",
       "      <td>None</td>\n",
       "      <td>Germany</td>\n",
       "      <td>None</td>\n",
       "      <td>Niamh</td>\n",
       "      <td>Accenture website</td>\n",
       "      <td>https://www.accenture.com/us-en/careers/jobdet...</td>\n",
       "    </tr>\n",
       "    <tr>\n",
       "      <th>Focusrite</th>\n",
       "      <td>2023-01-07</td>\n",
       "      <td>Junior QA Engineer</td>\n",
       "      <td>QA Engineer - Audio Hardware &amp; Firmware Testing</td>\n",
       "      <td>ADAM Audio</td>\n",
       "      <td>Berlin</td>\n",
       "      <td>None</td>\n",
       "      <td>None</td>\n",
       "      <td>linkedin</td>\n",
       "      <td>https://apply.workable.com/focusrite/j/7291245...</td>\n",
       "    </tr>\n",
       "    <tr>\n",
       "      <th>Daedalic_Entertainment</th>\n",
       "      <td>2023-01-07</td>\n",
       "      <td>Build Engineer</td>\n",
       "      <td>ML Engineer</td>\n",
       "      <td>None</td>\n",
       "      <td>Hamburg</td>\n",
       "      <td>None</td>\n",
       "      <td>None</td>\n",
       "      <td>linkedin</td>\n",
       "      <td>http://jobs.daedalicsupport.com/index/build-en...</td>\n",
       "    </tr>\n",
       "    <tr>\n",
       "      <th>SoundCloud</th>\n",
       "      <td>2023-01-10</td>\n",
       "      <td>Machine Learning Engineer</td>\n",
       "      <td>ML Engineer</td>\n",
       "      <td>Search and Recommendations</td>\n",
       "      <td>Berlin</td>\n",
       "      <td>None</td>\n",
       "      <td>None</td>\n",
       "      <td>linkedin</td>\n",
       "      <td>https://careers.soundcloud.com/job?gh_jid=6561...</td>\n",
       "    </tr>\n",
       "    <tr>\n",
       "      <th>Native_Instruments</th>\n",
       "      <td>2023-01-11</td>\n",
       "      <td>Senior Software Engineer C++</td>\n",
       "      <td>C++ Engineer</td>\n",
       "      <td>Authoring Platforms Team</td>\n",
       "      <td>Berlin</td>\n",
       "      <td>None</td>\n",
       "      <td>None</td>\n",
       "      <td>linkedin</td>\n",
       "      <td>https://www.native-instruments.com/en/career-c...</td>\n",
       "    </tr>\n",
       "    <tr>\n",
       "      <th>Teufel</th>\n",
       "      <td>2023-01-11</td>\n",
       "      <td>Backend Developer PHP/SPRYKER</td>\n",
       "      <td>Backend Engineer</td>\n",
       "      <td>None</td>\n",
       "      <td>Berlin</td>\n",
       "      <td>None</td>\n",
       "      <td>None</td>\n",
       "      <td>linkedin</td>\n",
       "      <td>https://lautsprecherteufel.jobs.personio.de/jo...</td>\n",
       "    </tr>\n",
       "    <tr>\n",
       "      <th>Burmester_Audiosysteme</th>\n",
       "      <td>2023-01-13</td>\n",
       "      <td>Automotive Audio Engineer</td>\n",
       "      <td>Audio Engineer</td>\n",
       "      <td>None</td>\n",
       "      <td>Berlin</td>\n",
       "      <td>Sanda Firlay</td>\n",
       "      <td>None</td>\n",
       "      <td>linkedin</td>\n",
       "      <td>https://jobapplication.hrworks.de/en/apply?com...</td>\n",
       "    </tr>\n",
       "  </tbody>\n",
       "</table>\n",
       "</div>"
      ],
      "text/plain": [
       "                       date_applied  \\\n",
       "Siemens                  2022-11-19   \n",
       "Spotify                  2023-01-04   \n",
       "Convex_Energy            2023-01-04   \n",
       "Bikemap                  2023-01-04   \n",
       "DB                       2023-01-04   \n",
       "Mercedes_Benz            2023-01-04   \n",
       "Accenture                2023-01-04   \n",
       "Focusrite                2023-01-07   \n",
       "Daedalic_Entertainment   2023-01-07   \n",
       "SoundCloud               2023-01-10   \n",
       "Native_Instruments       2023-01-11   \n",
       "Teufel                   2023-01-11   \n",
       "Burmester_Audiosysteme   2023-01-13   \n",
       "\n",
       "                                                                job_title  \\\n",
       "Siemens                             Testingenieur/in für Embedded Systems   \n",
       "Spotify                                         Machine Learning Engineer   \n",
       "Convex_Energy                          Integrations Developer - C#/Python   \n",
       "Bikemap                                        Backend Developer - Python   \n",
       "DB                             DevOps Engineer mit Fokus auf Data Science   \n",
       "Mercedes_Benz           Site Reliability Engineer for Hybrid Cloud Pla...   \n",
       "Accenture               Trainee Data - AI/Big Data Analytics/Data Mana...   \n",
       "Focusrite                                              Junior QA Engineer   \n",
       "Daedalic_Entertainment                                     Build Engineer   \n",
       "SoundCloud                                      Machine Learning Engineer   \n",
       "Native_Instruments                           Senior Software Engineer C++   \n",
       "Teufel                                      Backend Developer PHP/SPRYKER   \n",
       "Burmester_Audiosysteme                          Automotive Audio Engineer   \n",
       "\n",
       "                                                                job_cat  \\\n",
       "Siemens                                                     QA Engineer   \n",
       "Spotify                                                     ML Engineer   \n",
       "Convex_Energy                                           Python Engineer   \n",
       "Bikemap                                                Backend Engineer   \n",
       "DB                                                      DevOps Engineer   \n",
       "Mercedes_Benz                                            Cloud Engineer   \n",
       "Accenture                                                  Data Analyst   \n",
       "Focusrite               QA Engineer - Audio Hardware & Firmware Testing   \n",
       "Daedalic_Entertainment                                      ML Engineer   \n",
       "SoundCloud                                                  ML Engineer   \n",
       "Native_Instruments                                         C++ Engineer   \n",
       "Teufel                                                 Backend Engineer   \n",
       "Burmester_Audiosysteme                                   Audio Engineer   \n",
       "\n",
       "                                        department       location  \\\n",
       "Siemens                             Siemens Energy         Berlin   \n",
       "Spotify                       Content Intelligence  Berlin/Remote   \n",
       "Convex_Energy                        IT Management         Berlin   \n",
       "Bikemap                                       None         Vienna   \n",
       "DB                                       DB Systel         Berlin   \n",
       "Mercedes_Benz                              MBition         Berlin   \n",
       "Accenture                                     None        Germany   \n",
       "Focusrite                               ADAM Audio         Berlin   \n",
       "Daedalic_Entertainment                        None        Hamburg   \n",
       "SoundCloud              Search and Recommendations         Berlin   \n",
       "Native_Instruments        Authoring Platforms Team         Berlin   \n",
       "Teufel                                        None         Berlin   \n",
       "Burmester_Audiosysteme                        None         Berlin   \n",
       "\n",
       "                           recruiter referral             method  \\\n",
       "Siemens                         None     None           linkedin   \n",
       "Spotify                         None     None           linkedin   \n",
       "Convex_Energy                   None     None           linkedin   \n",
       "Bikemap                         None     None           linkedin   \n",
       "DB                              None     None           linkedin   \n",
       "Mercedes_Benz                   None     None           linkedin   \n",
       "Accenture                       None    Niamh  Accenture website   \n",
       "Focusrite                       None     None           linkedin   \n",
       "Daedalic_Entertainment          None     None           linkedin   \n",
       "SoundCloud                      None     None           linkedin   \n",
       "Native_Instruments              None     None           linkedin   \n",
       "Teufel                          None     None           linkedin   \n",
       "Burmester_Audiosysteme  Sanda Firlay     None           linkedin   \n",
       "\n",
       "                                                                      url  \n",
       "Siemens                  https://jobs.siemens-energy.com/en_US/jobs/Login  \n",
       "Spotify                 https://jobs.lever.co/spotify/f6399d24-74ff-40...  \n",
       "Convex_Energy           https://join.com/companies/convex-energy/67116...  \n",
       "Bikemap                 https://bikemap.jobs.personio.com/job/415336?d...  \n",
       "DB                      https://karriere.deutschebahn.com/karriere-de/...  \n",
       "Mercedes_Benz           https://mbition.io/jobs/?job=911357&apply=1&pi...  \n",
       "Accenture               https://www.accenture.com/us-en/careers/jobdet...  \n",
       "Focusrite               https://apply.workable.com/focusrite/j/7291245...  \n",
       "Daedalic_Entertainment  http://jobs.daedalicsupport.com/index/build-en...  \n",
       "SoundCloud              https://careers.soundcloud.com/job?gh_jid=6561...  \n",
       "Native_Instruments      https://www.native-instruments.com/en/career-c...  \n",
       "Teufel                  https://lautsprecherteufel.jobs.personio.de/jo...  \n",
       "Burmester_Audiosysteme  https://jobapplication.hrworks.de/en/apply?com...  "
      ]
     },
     "execution_count": 47,
     "metadata": {},
     "output_type": "execute_result"
    }
   ],
   "source": [
    "applications_df = pd.DataFrame(apps, index=company_indexes, columns=app_column_names)\n",
    "applications_df"
   ]
  },
  {
   "attachments": {},
   "cell_type": "markdown",
   "metadata": {},
   "source": [
    "### First Responses"
   ]
  },
  {
   "cell_type": "code",
   "execution_count": 53,
   "metadata": {},
   "outputs": [],
   "source": [
    "responses_cols = ['date_init_resp', 'initial_response', 'date_interview1', \n",
    "                  'interview_comments', 'next_steps', 'final_outcome']"
   ]
  },
  {
   "attachments": {},
   "cell_type": "markdown",
   "metadata": {},
   "source": [
    "#### Rejections"
   ]
  },
  {
   "cell_type": "code",
   "execution_count": 94,
   "metadata": {},
   "outputs": [],
   "source": [
    "rejections_idx = []\n",
    "\n",
    "db_fr = [np.datetime64('2023-01-09'), 'Rejected']\n",
    "rejections_idx.append('DB')\n",
    "\n",
    "accenture_fr = [np.datetime64('2023-01-11'), 'Rejected']\n",
    "rejections_idx.append('Accenture')\n",
    "\n",
    "bikemap_fr = [np.datetime64('2023-01-11'), 'Rejected']\n",
    "rejections_idx.append('Bikemap')\n",
    "\n",
    "teufel_fr = [np.datetime64('2023-01-19'), 'Rejected']\n",
    "rejections_idx.append('Teufel')"
   ]
  },
  {
   "cell_type": "code",
   "execution_count": 95,
   "metadata": {},
   "outputs": [],
   "source": [
    "rejections = [db_fr, accenture_fr, bikemap_fr, teufel_fr]"
   ]
  },
  {
   "attachments": {},
   "cell_type": "markdown",
   "metadata": {},
   "source": [
    "#### First Interviews"
   ]
  },
  {
   "cell_type": "code",
   "execution_count": 96,
   "metadata": {},
   "outputs": [],
   "source": [
    "fi_idx = []\n",
    "\n",
    "focusrite_fr = ['1.17.23', \"Passed\", '1.26.23', 'Interviewing with Andy Poole and Felix Beu']\n",
    "fi_idx.append(\"Focusrite\")"
   ]
  },
  {
   "attachments": {},
   "cell_type": "markdown",
   "metadata": {},
   "source": [
    "### DFs"
   ]
  },
  {
   "cell_type": "code",
   "execution_count": 97,
   "metadata": {},
   "outputs": [
    {
     "data": {
      "text/html": [
       "<div>\n",
       "<style scoped>\n",
       "    .dataframe tbody tr th:only-of-type {\n",
       "        vertical-align: middle;\n",
       "    }\n",
       "\n",
       "    .dataframe tbody tr th {\n",
       "        vertical-align: top;\n",
       "    }\n",
       "\n",
       "    .dataframe thead th {\n",
       "        text-align: right;\n",
       "    }\n",
       "</style>\n",
       "<table border=\"1\" class=\"dataframe\">\n",
       "  <thead>\n",
       "    <tr style=\"text-align: right;\">\n",
       "      <th></th>\n",
       "      <th>date_init_resp</th>\n",
       "      <th>initial_response</th>\n",
       "    </tr>\n",
       "  </thead>\n",
       "  <tbody>\n",
       "    <tr>\n",
       "      <th>DB</th>\n",
       "      <td>2023-01-09</td>\n",
       "      <td>Rejected</td>\n",
       "    </tr>\n",
       "    <tr>\n",
       "      <th>Accenture</th>\n",
       "      <td>2023-01-11</td>\n",
       "      <td>Rejected</td>\n",
       "    </tr>\n",
       "    <tr>\n",
       "      <th>Bikemap</th>\n",
       "      <td>2023-01-11</td>\n",
       "      <td>Rejected</td>\n",
       "    </tr>\n",
       "    <tr>\n",
       "      <th>Teufel</th>\n",
       "      <td>2023-01-19</td>\n",
       "      <td>Rejected</td>\n",
       "    </tr>\n",
       "  </tbody>\n",
       "</table>\n",
       "</div>"
      ],
      "text/plain": [
       "          date_init_resp initial_response\n",
       "DB            2023-01-09         Rejected\n",
       "Accenture     2023-01-11         Rejected\n",
       "Bikemap       2023-01-11         Rejected\n",
       "Teufel        2023-01-19         Rejected"
      ]
     },
     "metadata": {},
     "output_type": "display_data"
    }
   ],
   "source": [
    "fr_rej_df = pd.DataFrame(rejections, index=rejections_idx, columns=responses_cols[:2])\n",
    "display(fr_rej_df)"
   ]
  },
  {
   "cell_type": "code",
   "execution_count": null,
   "metadata": {},
   "outputs": [],
   "source": [
    "fr_pass_df = pd.DataFrame(focusrite_fr, index=fi_idx, columns=responses_cols[:4])\n",
    "display(fr_pass_df)"
   ]
  },
  {
   "attachments": {},
   "cell_type": "markdown",
   "metadata": {},
   "source": [
    "#### No Response"
   ]
  },
  {
   "cell_type": "code",
   "execution_count": null,
   "metadata": {},
   "outputs": [],
   "source": [
    "responses = ['No Response' if type(x) != str else x for x in jobs_df.initial_response]\n",
    "jobs_df.loc[:, 'initial_response'] = responses"
   ]
  },
  {
   "attachments": {},
   "cell_type": "markdown",
   "metadata": {},
   "source": [
    "## Visualizations"
   ]
  },
  {
   "cell_type": "code",
   "execution_count": null,
   "metadata": {},
   "outputs": [],
   "source": [
    "my_dates = np.unique(np.array([x.strftime('%Y-%m-%d') for x in jobs_df.date_applied], dtype='datetime64'))"
   ]
  },
  {
   "cell_type": "code",
   "execution_count": null,
   "metadata": {},
   "outputs": [],
   "source": [
    "fig1, ax1 = plt.subplots(figsize=(10,3))\n",
    "fig1 = sns.countplot(x=jobs_df.job_cat, palette='magma')\n",
    "ax1.set_title('Job Categories')\n",
    "ax1.set_xlabel('Job Category')\n",
    "plt.xticks(rotation=45)\n",
    "plt.show(fig1)"
   ]
  },
  {
   "cell_type": "code",
   "execution_count": null,
   "metadata": {},
   "outputs": [],
   "source": [
    "date_grouped_df = jobs_df.loc[:, ['date_applied','initial_response']].groupby('date_applied')\n",
    "grouped_keys = list(date_grouped_df.groups.keys())\n",
    "date_reject_counts = []\n",
    "for key in grouped_keys:\n",
    "    date_reject_counts.append(Counter(date_grouped_df.get_group(key).initial_response))"
   ]
  },
  {
   "cell_type": "code",
   "execution_count": null,
   "metadata": {},
   "outputs": [],
   "source": [
    "no_response = []\n",
    "for x in date_reject_counts:\n",
    "    no_response.append(x['No Response'])\n",
    "rejected = []\n",
    "for x in date_reject_counts:\n",
    "    rejected.append(x['Rejected'])\n",
    "passed = []\n",
    "for x in date_reject_counts:\n",
    "    passed.append(x['Passed'])\n",
    "both = np.array(rejected) + np.array(no_response)\n",
    "width = 1"
   ]
  },
  {
   "cell_type": "code",
   "execution_count": null,
   "metadata": {},
   "outputs": [],
   "source": [
    "fig2, ax2 = plt.subplots(figsize=(10,6))\n",
    "\n",
    "cat_palette = ['#e82e72', '#161f59', '#bdff99']\n",
    "\n",
    "ax2.bar(my_dates, no_response, width, label='No Response', color=cat_palette[0])\n",
    "ax2.bar(my_dates, rejected, width, bottom=no_response, label='Rejected', color=cat_palette[1])\n",
    "ax2.bar(my_dates, passed, width, bottom=both, label='Passed', color=cat_palette[2])\n",
    "\n",
    "ax2.set_xticks(grouped_keys)\n",
    "ax2.set_xticklabels([pd.to_datetime(tm).strftime('%b %-d') for tm in my_dates])\n",
    "ax2.set_title('Initial Responses')\n",
    "ax2.legend()\n",
    "\n",
    "plt.show()\n"
   ]
  },
  {
   "cell_type": "code",
   "execution_count": null,
   "metadata": {},
   "outputs": [],
   "source": []
  }
 ],
 "metadata": {
  "kernelspec": {
   "display_name": "lewagon",
   "language": "python",
   "name": "python3"
  },
  "language_info": {
   "codemirror_mode": {
    "name": "ipython",
    "version": 3
   },
   "file_extension": ".py",
   "mimetype": "text/x-python",
   "name": "python",
   "nbconvert_exporter": "python",
   "pygments_lexer": "ipython3",
   "version": "3.10.6"
  },
  "orig_nbformat": 4,
  "vscode": {
   "interpreter": {
    "hash": "6ffc35d46f337c4201c4fad81bb678395bc2c122ed1eeab8d96f421dd7a87373"
   }
  }
 },
 "nbformat": 4,
 "nbformat_minor": 2
}
