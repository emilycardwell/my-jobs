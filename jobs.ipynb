{
 "cells": [
  {
   "attachments": {},
   "cell_type": "markdown",
   "metadata": {},
   "source": [
    "# My Job Applications 2023"
   ]
  },
  {
   "attachments": {},
   "cell_type": "markdown",
   "metadata": {},
   "source": [
    "### Imports"
   ]
  },
  {
   "cell_type": "code",
   "execution_count": 90,
   "metadata": {},
   "outputs": [],
   "source": [
    "import numpy as np\n",
    "import pandas as pd\n",
    "from datetime import datetime\n",
    "import seaborn as sns\n",
    "import matplotlib.pyplot as plt\n",
    "import matplotlib.dates as mpld"
   ]
  },
  {
   "attachments": {},
   "cell_type": "markdown",
   "metadata": {},
   "source": [
    "### Empty Data Frame"
   ]
  },
  {
   "cell_type": "code",
   "execution_count": 91,
   "metadata": {},
   "outputs": [
    {
     "name": "stdout",
     "output_type": "stream",
     "text": [
      "<class 'pandas.core.frame.DataFrame'>\n",
      "Index: 0 entries\n",
      "Data columns (total 13 columns):\n",
      " #   Column              Non-Null Count  Dtype         \n",
      "---  ------              --------------  -----         \n",
      " 0   url                 0 non-null      object        \n",
      " 1   date_applied        0 non-null      datetime64[ns]\n",
      " 2   job_title           0 non-null      object        \n",
      " 3   department          0 non-null      object        \n",
      " 4   company             0 non-null      object        \n",
      " 5   location            0 non-null      object        \n",
      " 6   recruiter           0 non-null      object        \n",
      " 7   date_init_resp      0 non-null      datetime64[ns]\n",
      " 8   initial_response    0 non-null      object        \n",
      " 9   date_interview1     0 non-null      datetime64[ns]\n",
      " 10  interview_comments  0 non-null      object        \n",
      " 11  more_interviews     0 non-null      object        \n",
      " 12  final_outcome       0 non-null      int8          \n",
      "dtypes: datetime64[ns](3), int8(1), object(9)\n",
      "memory usage: 0.0+ bytes\n"
     ]
    }
   ],
   "source": [
    "df_columns = {'url': 'str', 'date_applied': 'datetime64[ns]', 'job_title': 'str', \n",
    "              'department': 'str', 'company': 'str', 'location': 'str', 'recruiter': 'str', \n",
    "              'date_init_resp': 'datetime64[ns]', 'initial_response': 'str', \n",
    "              'date_interview1': 'datetime64[ns]', 'interview_comments': 'str', \n",
    "              'more_interviews': 'str', 'final_outcome': 'int8'}\n",
    "\n",
    "jobs_df = pd.DataFrame({c: pd.Series(dtype=t) for c, t in df_columns.items()})\n",
    "jobs_df.info()"
   ]
  },
  {
   "attachments": {},
   "cell_type": "markdown",
   "metadata": {},
   "source": [
    "### Insert Data"
   ]
  },
  {
   "cell_type": "code",
   "execution_count": 92,
   "metadata": {},
   "outputs": [],
   "source": [
    "jobs_df.loc[0, 'url':'location'] = 'https://jobs.lever.co/spotify/f6399d24-74ff-\\\n",
    "406c-be20-ffdac88de4d0?lever-source=LinkedInJobs', \\\n",
    "                                   '2023-01-04', 'Machine Learning Engineer', \\\n",
    "                                   'Content Intelligence', 'Spotify', 'Berlin/Remote'\n",
    "jobs_df.loc[0, 'initial_response'] = '0'"
   ]
  },
  {
   "cell_type": "code",
   "execution_count": 93,
   "metadata": {},
   "outputs": [],
   "source": [
    "jobs_df.loc[1, 'url':'location'] = 'https://join.com/companies/convex-energy/671\\\n",
    "1604-integrations-developer-c-python-m-f-d?pid=731067c1dfecf6015bf5&oid=040cad5b-\\\n",
    "9c17-4c36-8fc4-e1390e7d46ed', \\\n",
    "                                    '2023-01-04', 'Integrations Developer - C#/Python', \\\n",
    "                                    'IT Management', 'Convex Energy', 'Berlin'\n",
    "jobs_df.loc[1, 'initial_response'] = '0'                                    "
   ]
  },
  {
   "cell_type": "code",
   "execution_count": 94,
   "metadata": {},
   "outputs": [],
   "source": [
    "jobs_df.loc[2, 'url':'location'] = 'https://bikemap.jobs.personio.com/job/415336?display=de', \\\n",
    "                                   '2023-01-04', 'Backend Developer - Python', \\\n",
    "                                   None, 'Bikemap', 'Vienna'\n",
    "jobs_df.loc[2, 'initial_response'] = '0'                                   "
   ]
  },
  {
   "cell_type": "code",
   "execution_count": 95,
   "metadata": {},
   "outputs": [],
   "source": [
    "jobs_df.loc[3, 'url':'location'] = 'https://karriere.deutschebahn.com/karriere-de/Suche/DevOps-Engineer-w-m-d-mit-Fokus\\\n",
    "-auf-Data-Science-9981626?jobId=194391', \\\n",
    "                                   '2023-01-04', 'DevOps Engineer mit Fokus auf Data Science', \\\n",
    "                                   'DB Systel', 'DB', 'Berlin'\n",
    "jobs_df.loc[3, 'date_init_resp':'initial_response'] = '1.9.23', 'Rejected'"
   ]
  },
  {
   "cell_type": "code",
   "execution_count": 96,
   "metadata": {},
   "outputs": [],
   "source": [
    "jobs_df.loc[4, 'url':'location'] = 'https://mbition.io/jobs/?job=911357&apply=1&\\\n",
    "pid=e78ca23c-a06c-4c87-a70c-fcc7052e7ffa&it=Mz7a17-DxBfrsvGYFVyA5A', \\\n",
    "                                   '2023-01-04', 'Site Reliability Engineer for Hybrid Cloud Platform', \\\n",
    "                                   'MBition', 'Mercedes-Benz', 'Berlin'\n",
    "jobs_df.loc[4, 'initial_response'] = '0'                                   "
   ]
  },
  {
   "cell_type": "code",
   "execution_count": 97,
   "metadata": {},
   "outputs": [],
   "source": [
    "jobs_df.loc[5, 'url':'location'] = 'https://www.accenture.com/us-en/careers/job\\\n",
    "details?id=R00005249_de&title=Trainee+Data+(AI+%2f+Big+Data+Analytics+%2f+Data+Management)+(all+genders)', \\\n",
    "                                   '2023-01-04', 'Trainee Data - AI/Big Data Analytics/Data Management', \\\n",
    "                                   None, 'Accenture', 'Germany'\n",
    "jobs_df.loc[5, 'initial_response'] = '0'                                   "
   ]
  },
  {
   "cell_type": "code",
   "execution_count": 98,
   "metadata": {},
   "outputs": [],
   "source": [
    "jobs_df.loc[6, 'url':'location'] = 'https://apply.workable.com/focusrite/j/7291245450/', \\\n",
    "                                   '2023-01-07', 'Junior QA Engineer', \\\n",
    "                                   'Audio Hardware & Firmware Testing', \\\n",
    "                                   'ADAM Audio (Focusrite)', 'Berlin'\n",
    "jobs_df.loc[6, 'initial_response'] = '0'"
   ]
  },
  {
   "cell_type": "code",
   "execution_count": 99,
   "metadata": {},
   "outputs": [],
   "source": [
    "jobs_df.loc[7, 'url':'location'] = 'http://jobs.daedalicsupport.com/index/build-engineer-(m/f/d).html', \\\n",
    "                                   '2023-01-07', 'Build Engineer', \\\n",
    "                                   None, 'Daedalic Entertianment', 'Hamburg'\n",
    "jobs_df.loc[7, 'initial_response'] = '0'                                   "
   ]
  },
  {
   "cell_type": "code",
   "execution_count": 100,
   "metadata": {},
   "outputs": [],
   "source": [
    "jobs_df.loc[8, 'url':'location'] = 'https://careers.soundcloud.com/job?gh_jid=6561571002&gh_src=b2264ac52us', \\\n",
    "                                   '2023-01-10', 'Machine Learning Engineer', \\\n",
    "                                   'Search and Recommendations', 'SoundCloud', 'Berlin'\n",
    "jobs_df.loc[8, 'initial_response'] = '0'                                                                      "
   ]
  },
  {
   "cell_type": "code",
   "execution_count": null,
   "metadata": {},
   "outputs": [],
   "source": []
  },
  {
   "cell_type": "code",
   "execution_count": 101,
   "metadata": {},
   "outputs": [
    {
     "data": {
      "text/html": [
       "<div>\n",
       "<style scoped>\n",
       "    .dataframe tbody tr th:only-of-type {\n",
       "        vertical-align: middle;\n",
       "    }\n",
       "\n",
       "    .dataframe tbody tr th {\n",
       "        vertical-align: top;\n",
       "    }\n",
       "\n",
       "    .dataframe thead th {\n",
       "        text-align: right;\n",
       "    }\n",
       "</style>\n",
       "<table border=\"1\" class=\"dataframe\">\n",
       "  <thead>\n",
       "    <tr style=\"text-align: right;\">\n",
       "      <th></th>\n",
       "      <th>url</th>\n",
       "      <th>date_applied</th>\n",
       "      <th>job_title</th>\n",
       "      <th>department</th>\n",
       "      <th>company</th>\n",
       "      <th>location</th>\n",
       "      <th>recruiter</th>\n",
       "      <th>date_init_resp</th>\n",
       "      <th>initial_response</th>\n",
       "      <th>date_interview1</th>\n",
       "      <th>interview_comments</th>\n",
       "      <th>more_interviews</th>\n",
       "      <th>final_outcome</th>\n",
       "    </tr>\n",
       "  </thead>\n",
       "  <tbody>\n",
       "    <tr>\n",
       "      <th>0</th>\n",
       "      <td>https://jobs.lever.co/spotify/f6399d24-74ff-40...</td>\n",
       "      <td>2023-01-04</td>\n",
       "      <td>Machine Learning Engineer</td>\n",
       "      <td>Content Intelligence</td>\n",
       "      <td>Spotify</td>\n",
       "      <td>Berlin/Remote</td>\n",
       "      <td>NaN</td>\n",
       "      <td>NaT</td>\n",
       "      <td>0</td>\n",
       "      <td>NaT</td>\n",
       "      <td>NaN</td>\n",
       "      <td>NaN</td>\n",
       "      <td>NaN</td>\n",
       "    </tr>\n",
       "    <tr>\n",
       "      <th>1</th>\n",
       "      <td>https://join.com/companies/convex-energy/67116...</td>\n",
       "      <td>2023-01-04</td>\n",
       "      <td>Integrations Developer - C#/Python</td>\n",
       "      <td>IT Management</td>\n",
       "      <td>Convex Energy</td>\n",
       "      <td>Berlin</td>\n",
       "      <td>NaN</td>\n",
       "      <td>NaT</td>\n",
       "      <td>0</td>\n",
       "      <td>NaT</td>\n",
       "      <td>NaN</td>\n",
       "      <td>NaN</td>\n",
       "      <td>NaN</td>\n",
       "    </tr>\n",
       "    <tr>\n",
       "      <th>2</th>\n",
       "      <td>https://bikemap.jobs.personio.com/job/415336?d...</td>\n",
       "      <td>2023-01-04</td>\n",
       "      <td>Backend Developer - Python</td>\n",
       "      <td>None</td>\n",
       "      <td>Bikemap</td>\n",
       "      <td>Vienna</td>\n",
       "      <td>NaN</td>\n",
       "      <td>NaT</td>\n",
       "      <td>0</td>\n",
       "      <td>NaT</td>\n",
       "      <td>NaN</td>\n",
       "      <td>NaN</td>\n",
       "      <td>NaN</td>\n",
       "    </tr>\n",
       "    <tr>\n",
       "      <th>3</th>\n",
       "      <td>https://karriere.deutschebahn.com/karriere-de/...</td>\n",
       "      <td>2023-01-04</td>\n",
       "      <td>DevOps Engineer mit Fokus auf Data Science</td>\n",
       "      <td>DB Systel</td>\n",
       "      <td>DB</td>\n",
       "      <td>Berlin</td>\n",
       "      <td>NaN</td>\n",
       "      <td>2023-01-09</td>\n",
       "      <td>Rejected</td>\n",
       "      <td>NaT</td>\n",
       "      <td>NaN</td>\n",
       "      <td>NaN</td>\n",
       "      <td>NaN</td>\n",
       "    </tr>\n",
       "    <tr>\n",
       "      <th>4</th>\n",
       "      <td>https://mbition.io/jobs/?job=911357&amp;apply=1&amp;pi...</td>\n",
       "      <td>2023-01-04</td>\n",
       "      <td>Site Reliability Engineer for Hybrid Cloud Pla...</td>\n",
       "      <td>MBition</td>\n",
       "      <td>Mercedes-Benz</td>\n",
       "      <td>Berlin</td>\n",
       "      <td>NaN</td>\n",
       "      <td>NaT</td>\n",
       "      <td>0</td>\n",
       "      <td>NaT</td>\n",
       "      <td>NaN</td>\n",
       "      <td>NaN</td>\n",
       "      <td>NaN</td>\n",
       "    </tr>\n",
       "    <tr>\n",
       "      <th>5</th>\n",
       "      <td>https://www.accenture.com/us-en/careers/jobdet...</td>\n",
       "      <td>2023-01-04</td>\n",
       "      <td>Trainee Data - AI/Big Data Analytics/Data Mana...</td>\n",
       "      <td>None</td>\n",
       "      <td>Accenture</td>\n",
       "      <td>Germany</td>\n",
       "      <td>NaN</td>\n",
       "      <td>NaT</td>\n",
       "      <td>0</td>\n",
       "      <td>NaT</td>\n",
       "      <td>NaN</td>\n",
       "      <td>NaN</td>\n",
       "      <td>NaN</td>\n",
       "    </tr>\n",
       "    <tr>\n",
       "      <th>6</th>\n",
       "      <td>https://apply.workable.com/focusrite/j/7291245...</td>\n",
       "      <td>2023-01-07</td>\n",
       "      <td>Junior QA Engineer</td>\n",
       "      <td>Audio Hardware &amp; Firmware Testing</td>\n",
       "      <td>ADAM Audio (Focusrite)</td>\n",
       "      <td>Berlin</td>\n",
       "      <td>NaN</td>\n",
       "      <td>NaT</td>\n",
       "      <td>0</td>\n",
       "      <td>NaT</td>\n",
       "      <td>NaN</td>\n",
       "      <td>NaN</td>\n",
       "      <td>NaN</td>\n",
       "    </tr>\n",
       "    <tr>\n",
       "      <th>7</th>\n",
       "      <td>http://jobs.daedalicsupport.com/index/build-en...</td>\n",
       "      <td>2023-01-07</td>\n",
       "      <td>Build Engineer</td>\n",
       "      <td>None</td>\n",
       "      <td>Daedalic Entertianment</td>\n",
       "      <td>Hamburg</td>\n",
       "      <td>NaN</td>\n",
       "      <td>NaT</td>\n",
       "      <td>0</td>\n",
       "      <td>NaT</td>\n",
       "      <td>NaN</td>\n",
       "      <td>NaN</td>\n",
       "      <td>NaN</td>\n",
       "    </tr>\n",
       "    <tr>\n",
       "      <th>8</th>\n",
       "      <td>https://careers.soundcloud.com/job?gh_jid=6561...</td>\n",
       "      <td>2023-01-10</td>\n",
       "      <td>Machine Learning Engineer</td>\n",
       "      <td>Search and Recommendations</td>\n",
       "      <td>SoundCloud</td>\n",
       "      <td>Berlin</td>\n",
       "      <td>NaN</td>\n",
       "      <td>NaT</td>\n",
       "      <td>0</td>\n",
       "      <td>NaT</td>\n",
       "      <td>NaN</td>\n",
       "      <td>NaN</td>\n",
       "      <td>NaN</td>\n",
       "    </tr>\n",
       "  </tbody>\n",
       "</table>\n",
       "</div>"
      ],
      "text/plain": [
       "                                                 url date_applied  \\\n",
       "0  https://jobs.lever.co/spotify/f6399d24-74ff-40...   2023-01-04   \n",
       "1  https://join.com/companies/convex-energy/67116...   2023-01-04   \n",
       "2  https://bikemap.jobs.personio.com/job/415336?d...   2023-01-04   \n",
       "3  https://karriere.deutschebahn.com/karriere-de/...   2023-01-04   \n",
       "4  https://mbition.io/jobs/?job=911357&apply=1&pi...   2023-01-04   \n",
       "5  https://www.accenture.com/us-en/careers/jobdet...   2023-01-04   \n",
       "6  https://apply.workable.com/focusrite/j/7291245...   2023-01-07   \n",
       "7  http://jobs.daedalicsupport.com/index/build-en...   2023-01-07   \n",
       "8  https://careers.soundcloud.com/job?gh_jid=6561...   2023-01-10   \n",
       "\n",
       "                                           job_title  \\\n",
       "0                          Machine Learning Engineer   \n",
       "1                 Integrations Developer - C#/Python   \n",
       "2                         Backend Developer - Python   \n",
       "3         DevOps Engineer mit Fokus auf Data Science   \n",
       "4  Site Reliability Engineer for Hybrid Cloud Pla...   \n",
       "5  Trainee Data - AI/Big Data Analytics/Data Mana...   \n",
       "6                                 Junior QA Engineer   \n",
       "7                                     Build Engineer   \n",
       "8                          Machine Learning Engineer   \n",
       "\n",
       "                          department                 company       location  \\\n",
       "0               Content Intelligence                 Spotify  Berlin/Remote   \n",
       "1                      IT Management           Convex Energy         Berlin   \n",
       "2                               None                 Bikemap         Vienna   \n",
       "3                          DB Systel                      DB         Berlin   \n",
       "4                            MBition           Mercedes-Benz         Berlin   \n",
       "5                               None               Accenture        Germany   \n",
       "6  Audio Hardware & Firmware Testing  ADAM Audio (Focusrite)         Berlin   \n",
       "7                               None  Daedalic Entertianment        Hamburg   \n",
       "8         Search and Recommendations              SoundCloud         Berlin   \n",
       "\n",
       "  recruiter date_init_resp initial_response date_interview1  \\\n",
       "0       NaN            NaT                0             NaT   \n",
       "1       NaN            NaT                0             NaT   \n",
       "2       NaN            NaT                0             NaT   \n",
       "3       NaN     2023-01-09         Rejected             NaT   \n",
       "4       NaN            NaT                0             NaT   \n",
       "5       NaN            NaT                0             NaT   \n",
       "6       NaN            NaT                0             NaT   \n",
       "7       NaN            NaT                0             NaT   \n",
       "8       NaN            NaT                0             NaT   \n",
       "\n",
       "  interview_comments more_interviews  final_outcome  \n",
       "0                NaN             NaN            NaN  \n",
       "1                NaN             NaN            NaN  \n",
       "2                NaN             NaN            NaN  \n",
       "3                NaN             NaN            NaN  \n",
       "4                NaN             NaN            NaN  \n",
       "5                NaN             NaN            NaN  \n",
       "6                NaN             NaN            NaN  \n",
       "7                NaN             NaN            NaN  \n",
       "8                NaN             NaN            NaN  "
      ]
     },
     "execution_count": 101,
     "metadata": {},
     "output_type": "execute_result"
    }
   ],
   "source": [
    "jobs_df"
   ]
  },
  {
   "attachments": {},
   "cell_type": "markdown",
   "metadata": {},
   "source": [
    "## Graphs"
   ]
  },
  {
   "cell_type": "code",
   "execution_count": 113,
   "metadata": {},
   "outputs": [
    {
     "data": {
      "text/plain": [
       "[Text(0, 0, 'Jan 4'), Text(1, 0, 'Jan 7'), Text(2, 0, 'Jan 10')]"
      ]
     },
     "execution_count": 113,
     "metadata": {},
     "output_type": "execute_result"
    },
    {
     "data": {
      "image/png": "[encoded data removed]",
      "text/plain": [
       "<Figure size 1000x600 with 1 Axes>"
      ]
     },
     "metadata": {},
     "output_type": "display_data"
    }
   ],
   "source": [
    "fig, ax = plt.subplots(figsize=(10,6))\n",
    "my_reject_palette = ['#e82e72', '#161f59', '#bdff99']\n",
    "fig = sns.countplot(x=jobs_df.date_applied, hue=jobs_df.initial_response, palette=my_reject_palette)\n",
    "my_dates = np.unique(np.array([x.strftime('%Y-%m-%d') for x in jobs_df.date_applied], dtype='datetime64'))\n",
    "ax.set_xticklabels([pd.to_datetime(tm).strftime('%b %-d') for tm in my_dates])"
   ]
  },
  {
   "cell_type": "code",
   "execution_count": null,
   "metadata": {},
   "outputs": [],
   "source": []
  }
 ],
 "metadata": {
  "kernelspec": {
   "display_name": "lewagon",
   "language": "python",
   "name": "python3"
  },
  "language_info": {
   "codemirror_mode": {
    "name": "ipython",
    "version": 3
   },
   "file_extension": ".py",
   "mimetype": "text/x-python",
   "name": "python",
   "nbconvert_exporter": "python",
   "pygments_lexer": "ipython3",
   "version": "3.10.6"
  },
  "orig_nbformat": 4,
  "vscode": {
   "interpreter": {
    "hash": "6ffc35d46f337c4201c4fad81bb678395bc2c122ed1eeab8d96f421dd7a87373"
   }
  }
 },
 "nbformat": 4,
 "nbformat_minor": 2
}
