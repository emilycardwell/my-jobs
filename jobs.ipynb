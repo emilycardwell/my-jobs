{
 "cells": [
  {
   "attachments": {},
   "cell_type": "markdown",
   "metadata": {},
   "source": [
    "# My Job Applications 2023"
   ]
  },
  {
   "attachments": {},
   "cell_type": "markdown",
   "metadata": {},
   "source": [
    "### Imports"
   ]
  },
  {
   "cell_type": "code",
   "execution_count": 1,
   "metadata": {},
   "outputs": [],
   "source": [
    "import numpy as np\n",
    "import pandas as pd"
   ]
  },
  {
   "attachments": {},
   "cell_type": "markdown",
   "metadata": {},
   "source": [
    "### Empty Data Frame"
   ]
  },
  {
   "cell_type": "code",
   "execution_count": 12,
   "metadata": {},
   "outputs": [
    {
     "name": "stdout",
     "output_type": "stream",
     "text": [
      "<class 'pandas.core.frame.DataFrame'>\n",
      "Index: 0 entries\n",
      "Data columns (total 10 columns):\n",
      " #   Column              Non-Null Count  Dtype         \n",
      "---  ------              --------------  -----         \n",
      " 0   date_applied        0 non-null      datetime64[ns]\n",
      " 1   job_title           0 non-null      object        \n",
      " 2   company             0 non-null      object        \n",
      " 3   location            0 non-null      object        \n",
      " 4   date_init_resp      0 non-null      datetime64[ns]\n",
      " 5   initial_response    0 non-null      int8          \n",
      " 6   date_interview1     0 non-null      datetime64[ns]\n",
      " 7   interview_comments  0 non-null      object        \n",
      " 8   more_interviews     0 non-null      object        \n",
      " 9   final_outcome       0 non-null      int8          \n",
      "dtypes: datetime64[ns](3), int8(2), object(5)\n",
      "memory usage: 0.0+ bytes\n"
     ]
    }
   ],
   "source": [
    "df_columns = {'date_applied': 'datetime64[ns]', 'job_title': 'str', 'company': 'str', \n",
    "              'location': 'str', 'date_init_resp': 'datetime64[ns]', \n",
    "              'initial_response': 'int8', 'date_interview1': 'datetime64[ns]',\n",
    "              'interview_comments': 'str', 'more_interviews': 'str', \n",
    "              'final_outcome': 'int8'}\n",
    "\n",
    "jobs_df = pd.DataFrame({c: pd.Series(dtype=t) for c, t in df_columns.items()})\n",
    "jobs_df.info()"
   ]
  },
  {
   "attachments": {},
   "cell_type": "markdown",
   "metadata": {},
   "source": [
    "### Insert Data"
   ]
  },
  {
   "cell_type": "code",
   "execution_count": null,
   "metadata": {},
   "outputs": [],
   "source": [
    "new_jobs_jan = \n",
    "\n",
    "jobs_df.append(new_jobs_jan)"
   ]
  }
 ],
 "metadata": {
  "kernelspec": {
   "display_name": "lewagon",
   "language": "python",
   "name": "python3"
  },
  "language_info": {
   "codemirror_mode": {
    "name": "ipython",
    "version": 3
   },
   "file_extension": ".py",
   "mimetype": "text/x-python",
   "name": "python",
   "nbconvert_exporter": "python",
   "pygments_lexer": "ipython3",
   "version": "3.10.6"
  },
  "orig_nbformat": 4,
  "vscode": {
   "interpreter": {
    "hash": "6ffc35d46f337c4201c4fad81bb678395bc2c122ed1eeab8d96f421dd7a87373"
   }
  }
 },
 "nbformat": 4,
 "nbformat_minor": 2
}
