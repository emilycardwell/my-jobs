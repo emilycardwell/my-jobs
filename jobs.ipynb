{
 "cells": [
  {
   "cell_type": "markdown",
   "metadata": {},
   "source": [
    "# My Job Applications 2023\n",
    "\n",
    "***"
   ]
  },
  {
   "cell_type": "markdown",
   "metadata": {},
   "source": [
    "## Imports & Stored Data"
   ]
  },
  {
   "cell_type": "code",
   "execution_count": 1,
   "metadata": {},
   "outputs": [],
   "source": [
    "import numpy as np\n",
    "import pandas as pd\n",
    "from datetime import datetime, timedelta\n",
    "from collections import Counter\n",
    "from dateutil.relativedelta import relativedelta\n",
    "\n",
    "import json\n",
    "\n",
    "import seaborn as sns\n",
    "import matplotlib.pyplot as plt\n",
    "import matplotlib.dates as mpld"
   ]
  },
  {
   "cell_type": "code",
   "execution_count": 2,
   "metadata": {
    "scrolled": true
   },
   "outputs": [
    {
     "data": {
      "text/html": [
       "<div>\n",
       "<style scoped>\n",
       "    .dataframe tbody tr th:only-of-type {\n",
       "        vertical-align: middle;\n",
       "    }\n",
       "\n",
       "    .dataframe tbody tr th {\n",
       "        vertical-align: top;\n",
       "    }\n",
       "\n",
       "    .dataframe thead th {\n",
       "        text-align: right;\n",
       "    }\n",
       "</style>\n",
       "<table border=\"1\" class=\"dataframe\">\n",
       "  <thead>\n",
       "    <tr style=\"text-align: right;\">\n",
       "      <th></th>\n",
       "      <th></th>\n",
       "      <th>job_title</th>\n",
       "      <th>job_cat</th>\n",
       "      <th>department</th>\n",
       "      <th>location</th>\n",
       "      <th>recruiter</th>\n",
       "      <th>referral</th>\n",
       "      <th>method</th>\n",
       "      <th>url</th>\n",
       "      <th>initial_response</th>\n",
       "      <th>date_init_resp</th>\n",
       "      <th>date_interview1</th>\n",
       "      <th>interviewers</th>\n",
       "      <th>interview_notes</th>\n",
       "      <th>next_steps</th>\n",
       "      <th>final_outcome</th>\n",
       "      <th>feedback</th>\n",
       "    </tr>\n",
       "    <tr>\n",
       "      <th>company_name</th>\n",
       "      <th>date_applied</th>\n",
       "      <th></th>\n",
       "      <th></th>\n",
       "      <th></th>\n",
       "      <th></th>\n",
       "      <th></th>\n",
       "      <th></th>\n",
       "      <th></th>\n",
       "      <th></th>\n",
       "      <th></th>\n",
       "      <th></th>\n",
       "      <th></th>\n",
       "      <th></th>\n",
       "      <th></th>\n",
       "      <th></th>\n",
       "      <th></th>\n",
       "      <th></th>\n",
       "    </tr>\n",
       "  </thead>\n",
       "  <tbody>\n",
       "    <tr>\n",
       "      <th>Accenture</th>\n",
       "      <th>2023-01-04</th>\n",
       "      <td>Trainee Data - AI/Big Data Analytics/Data Mana...</td>\n",
       "      <td>Data Analyst</td>\n",
       "      <td>NaN</td>\n",
       "      <td>Germany</td>\n",
       "      <td>NaN</td>\n",
       "      <td>Niamh</td>\n",
       "      <td>Accenture website</td>\n",
       "      <td>https://www.accenture.com/us-en/careers/jobdet...</td>\n",
       "      <td>Rejected</td>\n",
       "      <td>2023-01-11</td>\n",
       "      <td>NaN</td>\n",
       "      <td>NaN</td>\n",
       "      <td>NaN</td>\n",
       "      <td>NaN</td>\n",
       "      <td>NaN</td>\n",
       "      <td>NaN</td>\n",
       "    </tr>\n",
       "    <tr>\n",
       "      <th>Alexander Thamm</th>\n",
       "      <th>2023-02-09</th>\n",
       "      <td>Junior Data Engineer</td>\n",
       "      <td>Data Analyst</td>\n",
       "      <td>NaN</td>\n",
       "      <td>Innsbruck</td>\n",
       "      <td>NaN</td>\n",
       "      <td>NaN</td>\n",
       "      <td>linkedin</td>\n",
       "      <td>https://join.com/companies/alexanderthamm/7085...</td>\n",
       "      <td>No Response</td>\n",
       "      <td>NaN</td>\n",
       "      <td>NaN</td>\n",
       "      <td>NaN</td>\n",
       "      <td>NaN</td>\n",
       "      <td>NaN</td>\n",
       "      <td>NaN</td>\n",
       "      <td>NaN</td>\n",
       "    </tr>\n",
       "    <tr>\n",
       "      <th>Avid</th>\n",
       "      <th>2023-02-09</th>\n",
       "      <td>DevOps Developer</td>\n",
       "      <td>DevOps Engineer</td>\n",
       "      <td>Audio Products</td>\n",
       "      <td>Montreal (hybrid/remote)</td>\n",
       "      <td>NaN</td>\n",
       "      <td>NaN</td>\n",
       "      <td>linkedin</td>\n",
       "      <td>https://avid.wd5.myworkdayjobs.com/AVID/job/Hy...</td>\n",
       "      <td>No Response</td>\n",
       "      <td>NaN</td>\n",
       "      <td>NaN</td>\n",
       "      <td>NaN</td>\n",
       "      <td>NaN</td>\n",
       "      <td>NaN</td>\n",
       "      <td>NaN</td>\n",
       "      <td>NaN</td>\n",
       "    </tr>\n",
       "    <tr>\n",
       "      <th>Bikemap</th>\n",
       "      <th>2023-01-04</th>\n",
       "      <td>Backend Developer - Python</td>\n",
       "      <td>Backend Engineer</td>\n",
       "      <td>NaN</td>\n",
       "      <td>Vienna</td>\n",
       "      <td>NaN</td>\n",
       "      <td>NaN</td>\n",
       "      <td>linkedin</td>\n",
       "      <td>https://bikemap.jobs.personio.com/job/415336?d...</td>\n",
       "      <td>Rejected</td>\n",
       "      <td>2023-01-11</td>\n",
       "      <td>NaN</td>\n",
       "      <td>NaN</td>\n",
       "      <td>NaN</td>\n",
       "      <td>NaN</td>\n",
       "      <td>NaN</td>\n",
       "      <td>NaN</td>\n",
       "    </tr>\n",
       "    <tr>\n",
       "      <th>Burmester_Audiosysteme</th>\n",
       "      <th>2023-01-13</th>\n",
       "      <td>Automotive Audio Engineer</td>\n",
       "      <td>Audio Engineer</td>\n",
       "      <td>NaN</td>\n",
       "      <td>Berlin</td>\n",
       "      <td>Sanda Firlay</td>\n",
       "      <td>NaN</td>\n",
       "      <td>linkedin</td>\n",
       "      <td>https://jobapplication.hrworks.de/en/apply?com...</td>\n",
       "      <td>Rejected</td>\n",
       "      <td>2023-01-23</td>\n",
       "      <td>NaN</td>\n",
       "      <td>NaN</td>\n",
       "      <td>NaN</td>\n",
       "      <td>NaN</td>\n",
       "      <td>NaN</td>\n",
       "      <td>NaN</td>\n",
       "    </tr>\n",
       "    <tr>\n",
       "      <th>Convex_Energy</th>\n",
       "      <th>2023-01-04</th>\n",
       "      <td>Integrations Developer - C#/Python</td>\n",
       "      <td>Python Engineer</td>\n",
       "      <td>IT Management</td>\n",
       "      <td>Berlin</td>\n",
       "      <td>NaN</td>\n",
       "      <td>NaN</td>\n",
       "      <td>linkedin</td>\n",
       "      <td>https://join.com/companies/convex-energy/67116...</td>\n",
       "      <td>Rejected</td>\n",
       "      <td>2023-02-01</td>\n",
       "      <td>NaN</td>\n",
       "      <td>NaN</td>\n",
       "      <td>NaN</td>\n",
       "      <td>NaN</td>\n",
       "      <td>NaN</td>\n",
       "      <td>NaN</td>\n",
       "    </tr>\n",
       "    <tr>\n",
       "      <th>DB</th>\n",
       "      <th>2023-01-04</th>\n",
       "      <td>DevOps Engineer mit Fokus auf Data Science</td>\n",
       "      <td>DevOps Engineer</td>\n",
       "      <td>DB Systel</td>\n",
       "      <td>Berlin</td>\n",
       "      <td>NaN</td>\n",
       "      <td>NaN</td>\n",
       "      <td>linkedin</td>\n",
       "      <td>https://karriere.deutschebahn.com/karriere-de/...</td>\n",
       "      <td>Rejected</td>\n",
       "      <td>2023-01-09</td>\n",
       "      <td>NaN</td>\n",
       "      <td>NaN</td>\n",
       "      <td>NaN</td>\n",
       "      <td>NaN</td>\n",
       "      <td>NaN</td>\n",
       "      <td>NaN</td>\n",
       "    </tr>\n",
       "    <tr>\n",
       "      <th>Daedalic_Entertainment</th>\n",
       "      <th>2023-01-07</th>\n",
       "      <td>Build Engineer</td>\n",
       "      <td>ML Engineer</td>\n",
       "      <td>NaN</td>\n",
       "      <td>Hamburg</td>\n",
       "      <td>NaN</td>\n",
       "      <td>NaN</td>\n",
       "      <td>linkedin</td>\n",
       "      <td>http://jobs.daedalicsupport.com/index/build-en...</td>\n",
       "      <td>No Response</td>\n",
       "      <td>NaN</td>\n",
       "      <td>NaN</td>\n",
       "      <td>NaN</td>\n",
       "      <td>NaN</td>\n",
       "      <td>NaN</td>\n",
       "      <td>NaN</td>\n",
       "      <td>NaN</td>\n",
       "    </tr>\n",
       "    <tr>\n",
       "      <th>Focusrite</th>\n",
       "      <th>2023-01-07</th>\n",
       "      <td>Junior QA Engineer - Audio Hardware &amp; Firmware...</td>\n",
       "      <td>QA Engineer</td>\n",
       "      <td>ADAM Audio</td>\n",
       "      <td>Berlin</td>\n",
       "      <td>NaN</td>\n",
       "      <td>NaN</td>\n",
       "      <td>linkedin</td>\n",
       "      <td>https://apply.workable.com/focusrite/j/7291245...</td>\n",
       "      <td>Passed</td>\n",
       "      <td>2023-01-17</td>\n",
       "      <td>2023-01-31</td>\n",
       "      <td>Andy Poole, QA Manager, and Felix Beu, QA Engi...</td>\n",
       "      <td>will hear back from them by Feb 6</td>\n",
       "      <td>followup email</td>\n",
       "      <td>Rejected</td>\n",
       "      <td>\"some candidates have deeper knowledge of tech...</td>\n",
       "    </tr>\n",
       "    <tr>\n",
       "      <th>McKinsey &amp; Co</th>\n",
       "      <th>2023-02-09</th>\n",
       "      <td>Junior Analytics Associate</td>\n",
       "      <td>Data Analyst</td>\n",
       "      <td>McKinsey Digital</td>\n",
       "      <td>Oslo</td>\n",
       "      <td>NaN</td>\n",
       "      <td>NaN</td>\n",
       "      <td>linkedin</td>\n",
       "      <td>https://www.mckinsey.com/careers/search-jobs/j...</td>\n",
       "      <td>No Response</td>\n",
       "      <td>NaN</td>\n",
       "      <td>NaN</td>\n",
       "      <td>NaN</td>\n",
       "      <td>NaN</td>\n",
       "      <td>NaN</td>\n",
       "      <td>NaN</td>\n",
       "      <td>NaN</td>\n",
       "    </tr>\n",
       "    <tr>\n",
       "      <th>Mercedes_Benz</th>\n",
       "      <th>2023-01-04</th>\n",
       "      <td>Site Reliability Engineer for Hybrid Cloud Pla...</td>\n",
       "      <td>Cloud Engineer</td>\n",
       "      <td>MBition</td>\n",
       "      <td>Berlin</td>\n",
       "      <td>NaN</td>\n",
       "      <td>NaN</td>\n",
       "      <td>linkedin</td>\n",
       "      <td>https://mbition.io/jobs/?job=911357&amp;apply=1&amp;pi...</td>\n",
       "      <td>Rejected</td>\n",
       "      <td>2023-01-27</td>\n",
       "      <td>NaN</td>\n",
       "      <td>NaN</td>\n",
       "      <td>NaN</td>\n",
       "      <td>NaN</td>\n",
       "      <td>NaN</td>\n",
       "      <td>NaN</td>\n",
       "    </tr>\n",
       "    <tr>\n",
       "      <th rowspan=\"2\" valign=\"top\">Native_Instruments</th>\n",
       "      <th>2023-01-11</th>\n",
       "      <td>Senior Software Engineer C++</td>\n",
       "      <td>C++ Engineer</td>\n",
       "      <td>Authoring Platforms Team</td>\n",
       "      <td>Berlin</td>\n",
       "      <td>NaN</td>\n",
       "      <td>NaN</td>\n",
       "      <td>linkedin</td>\n",
       "      <td>https://www.native-instruments.com/en/career-c...</td>\n",
       "      <td>No Response</td>\n",
       "      <td>NaN</td>\n",
       "      <td>NaN</td>\n",
       "      <td>NaN</td>\n",
       "      <td>NaN</td>\n",
       "      <td>NaN</td>\n",
       "      <td>NaN</td>\n",
       "      <td>NaN</td>\n",
       "    </tr>\n",
       "    <tr>\n",
       "      <th>2023-01-22</th>\n",
       "      <td>QA &amp; Support - ERP &amp; Integration</td>\n",
       "      <td>QA Engineer</td>\n",
       "      <td>ERP Team</td>\n",
       "      <td>Berlin</td>\n",
       "      <td>NaN</td>\n",
       "      <td>NaN</td>\n",
       "      <td>linkedin</td>\n",
       "      <td>https://www.native-instruments.com/en/career-c...</td>\n",
       "      <td>Rejected</td>\n",
       "      <td>2023-01-24</td>\n",
       "      <td>NaN</td>\n",
       "      <td>NaN</td>\n",
       "      <td>NaN</td>\n",
       "      <td>NaN</td>\n",
       "      <td>NaN</td>\n",
       "      <td>NaN</td>\n",
       "    </tr>\n",
       "    <tr>\n",
       "      <th>ONDEWO</th>\n",
       "      <th>2023-02-09</th>\n",
       "      <td>Python Developer</td>\n",
       "      <td>Python Engineer</td>\n",
       "      <td>NaN</td>\n",
       "      <td>Vienna</td>\n",
       "      <td>NaN</td>\n",
       "      <td>NaN</td>\n",
       "      <td>linkedin</td>\n",
       "      <td>https://join.com/companies/ondewo/2100044/appl...</td>\n",
       "      <td>No Response</td>\n",
       "      <td>NaN</td>\n",
       "      <td>NaN</td>\n",
       "      <td>NaN</td>\n",
       "      <td>NaN</td>\n",
       "      <td>NaN</td>\n",
       "      <td>NaN</td>\n",
       "      <td>NaN</td>\n",
       "    </tr>\n",
       "    <tr>\n",
       "      <th>Sennheiser</th>\n",
       "      <th>2023-01-26</th>\n",
       "      <td>QA Engineer - Audio DSP</td>\n",
       "      <td>QA Engineer</td>\n",
       "      <td>Research and Development</td>\n",
       "      <td>Hamburg</td>\n",
       "      <td>NaN</td>\n",
       "      <td>NaN</td>\n",
       "      <td>website</td>\n",
       "      <td>https://sennheiser.referrals.selectminds.com/j...</td>\n",
       "      <td>Rejected</td>\n",
       "      <td>2023-02-02</td>\n",
       "      <td>NaN</td>\n",
       "      <td>NaN</td>\n",
       "      <td>NaN</td>\n",
       "      <td>NaN</td>\n",
       "      <td>NaN</td>\n",
       "      <td>NaN</td>\n",
       "    </tr>\n",
       "    <tr>\n",
       "      <th>Siemens</th>\n",
       "      <th>2022-11-19</th>\n",
       "      <td>Testingenieur/in für Embedded Systems</td>\n",
       "      <td>QA Engineer</td>\n",
       "      <td>Siemens Energy</td>\n",
       "      <td>Berlin</td>\n",
       "      <td>NaN</td>\n",
       "      <td>NaN</td>\n",
       "      <td>linkedin</td>\n",
       "      <td>https://jobs.siemens-energy.com/en_US/jobs/Login</td>\n",
       "      <td>No Response</td>\n",
       "      <td>NaN</td>\n",
       "      <td>NaN</td>\n",
       "      <td>NaN</td>\n",
       "      <td>NaN</td>\n",
       "      <td>NaN</td>\n",
       "      <td>NaN</td>\n",
       "      <td>NaN</td>\n",
       "    </tr>\n",
       "    <tr>\n",
       "      <th>Sonnen</th>\n",
       "      <th>2022-11-19</th>\n",
       "      <td>Python Backend Developer Trading</td>\n",
       "      <td>Python Engineer</td>\n",
       "      <td>NaN</td>\n",
       "      <td>Berlin</td>\n",
       "      <td>NaN</td>\n",
       "      <td>NaN</td>\n",
       "      <td>linkedin</td>\n",
       "      <td>NaN</td>\n",
       "      <td>Rejected</td>\n",
       "      <td>2023-02-09</td>\n",
       "      <td>NaN</td>\n",
       "      <td>NaN</td>\n",
       "      <td>NaN</td>\n",
       "      <td>NaN</td>\n",
       "      <td>NaN</td>\n",
       "      <td>NaN</td>\n",
       "    </tr>\n",
       "    <tr>\n",
       "      <th>SoundCloud</th>\n",
       "      <th>2023-01-11</th>\n",
       "      <td>Machine Learning Engineer</td>\n",
       "      <td>ML Engineer</td>\n",
       "      <td>Search and Recommendations</td>\n",
       "      <td>Berlin</td>\n",
       "      <td>NaN</td>\n",
       "      <td>NaN</td>\n",
       "      <td>linkedin</td>\n",
       "      <td>https://careers.soundcloud.com/job?gh_jid=6561...</td>\n",
       "      <td>No Response</td>\n",
       "      <td>NaN</td>\n",
       "      <td>NaN</td>\n",
       "      <td>NaN</td>\n",
       "      <td>NaN</td>\n",
       "      <td>NaN</td>\n",
       "      <td>NaN</td>\n",
       "      <td>NaN</td>\n",
       "    </tr>\n",
       "    <tr>\n",
       "      <th>Spotify</th>\n",
       "      <th>2023-01-04</th>\n",
       "      <td>Machine Learning Engineer</td>\n",
       "      <td>ML Engineer</td>\n",
       "      <td>Content Intelligence</td>\n",
       "      <td>Berlin/Remote</td>\n",
       "      <td>NaN</td>\n",
       "      <td>NaN</td>\n",
       "      <td>linkedin</td>\n",
       "      <td>https://jobs.lever.co/spotify/f6399d24-74ff-40...</td>\n",
       "      <td>No Response</td>\n",
       "      <td>NaN</td>\n",
       "      <td>NaN</td>\n",
       "      <td>NaN</td>\n",
       "      <td>NaN</td>\n",
       "      <td>NaN</td>\n",
       "      <td>NaN</td>\n",
       "      <td>NaN</td>\n",
       "    </tr>\n",
       "    <tr>\n",
       "      <th>Teufel</th>\n",
       "      <th>2023-01-11</th>\n",
       "      <td>Backend Developer PHP/SPRYKER</td>\n",
       "      <td>Backend Engineer</td>\n",
       "      <td>NaN</td>\n",
       "      <td>Berlin</td>\n",
       "      <td>NaN</td>\n",
       "      <td>NaN</td>\n",
       "      <td>linkedin</td>\n",
       "      <td>https://lautsprecherteufel.jobs.personio.de/jo...</td>\n",
       "      <td>Rejected</td>\n",
       "      <td>2023-01-19</td>\n",
       "      <td>NaN</td>\n",
       "      <td>NaN</td>\n",
       "      <td>NaN</td>\n",
       "      <td>NaN</td>\n",
       "      <td>NaN</td>\n",
       "      <td>NaN</td>\n",
       "    </tr>\n",
       "    <tr>\n",
       "      <th>Zalando</th>\n",
       "      <th>2023-01-23</th>\n",
       "      <td>Graduate Software Engineer - Connected Network</td>\n",
       "      <td>Python Engineer</td>\n",
       "      <td>Zalando SE</td>\n",
       "      <td>Berlin</td>\n",
       "      <td>Tomas Christodoulou</td>\n",
       "      <td>Rachel Moss</td>\n",
       "      <td>referral</td>\n",
       "      <td>https://jobs.zalando.com/en/jobs/4772836-gradu...</td>\n",
       "      <td>Passed</td>\n",
       "      <td>2023-01-25</td>\n",
       "      <td>2023-02-02</td>\n",
       "      <td>Kate Hockey, Talent Aquisition Partner (Recrui...</td>\n",
       "      <td>given take-home test, hinted that I should do ...</td>\n",
       "      <td>coding test (finished)</td>\n",
       "      <td>Waiting</td>\n",
       "      <td>NaN</td>\n",
       "    </tr>\n",
       "  </tbody>\n",
       "</table>\n",
       "</div>"
      ],
      "text/plain": [
       "                                                                             job_title  \\\n",
       "company_name           date_applied                                                      \n",
       "Accenture              2023-01-04    Trainee Data - AI/Big Data Analytics/Data Mana...   \n",
       "Alexander Thamm        2023-02-09                                 Junior Data Engineer   \n",
       "Avid                   2023-02-09                                     DevOps Developer   \n",
       "Bikemap                2023-01-04                           Backend Developer - Python   \n",
       "Burmester_Audiosysteme 2023-01-13                            Automotive Audio Engineer   \n",
       "Convex_Energy          2023-01-04                   Integrations Developer - C#/Python   \n",
       "DB                     2023-01-04           DevOps Engineer mit Fokus auf Data Science   \n",
       "Daedalic_Entertainment 2023-01-07                                       Build Engineer   \n",
       "Focusrite              2023-01-07    Junior QA Engineer - Audio Hardware & Firmware...   \n",
       "McKinsey & Co          2023-02-09                           Junior Analytics Associate   \n",
       "Mercedes_Benz          2023-01-04    Site Reliability Engineer for Hybrid Cloud Pla...   \n",
       "Native_Instruments     2023-01-11                         Senior Software Engineer C++   \n",
       "                       2023-01-22                     QA & Support - ERP & Integration   \n",
       "ONDEWO                 2023-02-09                                     Python Developer   \n",
       "Sennheiser             2023-01-26                              QA Engineer - Audio DSP   \n",
       "Siemens                2022-11-19                Testingenieur/in für Embedded Systems   \n",
       "Sonnen                 2022-11-19                     Python Backend Developer Trading   \n",
       "SoundCloud             2023-01-11                            Machine Learning Engineer   \n",
       "Spotify                2023-01-04                            Machine Learning Engineer   \n",
       "Teufel                 2023-01-11                        Backend Developer PHP/SPRYKER   \n",
       "Zalando                2023-01-23       Graduate Software Engineer - Connected Network   \n",
       "\n",
       "                                              job_cat  \\\n",
       "company_name           date_applied                     \n",
       "Accenture              2023-01-04        Data Analyst   \n",
       "Alexander Thamm        2023-02-09        Data Analyst   \n",
       "Avid                   2023-02-09     DevOps Engineer   \n",
       "Bikemap                2023-01-04    Backend Engineer   \n",
       "Burmester_Audiosysteme 2023-01-13      Audio Engineer   \n",
       "Convex_Energy          2023-01-04     Python Engineer   \n",
       "DB                     2023-01-04     DevOps Engineer   \n",
       "Daedalic_Entertainment 2023-01-07         ML Engineer   \n",
       "Focusrite              2023-01-07         QA Engineer   \n",
       "McKinsey & Co          2023-02-09        Data Analyst   \n",
       "Mercedes_Benz          2023-01-04      Cloud Engineer   \n",
       "Native_Instruments     2023-01-11        C++ Engineer   \n",
       "                       2023-01-22         QA Engineer   \n",
       "ONDEWO                 2023-02-09     Python Engineer   \n",
       "Sennheiser             2023-01-26         QA Engineer   \n",
       "Siemens                2022-11-19         QA Engineer   \n",
       "Sonnen                 2022-11-19     Python Engineer   \n",
       "SoundCloud             2023-01-11         ML Engineer   \n",
       "Spotify                2023-01-04         ML Engineer   \n",
       "Teufel                 2023-01-11    Backend Engineer   \n",
       "Zalando                2023-01-23     Python Engineer   \n",
       "\n",
       "                                                     department  \\\n",
       "company_name           date_applied                               \n",
       "Accenture              2023-01-04                           NaN   \n",
       "Alexander Thamm        2023-02-09                           NaN   \n",
       "Avid                   2023-02-09                Audio Products   \n",
       "Bikemap                2023-01-04                           NaN   \n",
       "Burmester_Audiosysteme 2023-01-13                           NaN   \n",
       "Convex_Energy          2023-01-04                 IT Management   \n",
       "DB                     2023-01-04                     DB Systel   \n",
       "Daedalic_Entertainment 2023-01-07                           NaN   \n",
       "Focusrite              2023-01-07                    ADAM Audio   \n",
       "McKinsey & Co          2023-02-09              McKinsey Digital   \n",
       "Mercedes_Benz          2023-01-04                       MBition   \n",
       "Native_Instruments     2023-01-11      Authoring Platforms Team   \n",
       "                       2023-01-22                      ERP Team   \n",
       "ONDEWO                 2023-02-09                           NaN   \n",
       "Sennheiser             2023-01-26      Research and Development   \n",
       "Siemens                2022-11-19                Siemens Energy   \n",
       "Sonnen                 2022-11-19                           NaN   \n",
       "SoundCloud             2023-01-11    Search and Recommendations   \n",
       "Spotify                2023-01-04          Content Intelligence   \n",
       "Teufel                 2023-01-11                           NaN   \n",
       "Zalando                2023-01-23                    Zalando SE   \n",
       "\n",
       "                                                     location  \\\n",
       "company_name           date_applied                             \n",
       "Accenture              2023-01-04                     Germany   \n",
       "Alexander Thamm        2023-02-09                   Innsbruck   \n",
       "Avid                   2023-02-09    Montreal (hybrid/remote)   \n",
       "Bikemap                2023-01-04                      Vienna   \n",
       "Burmester_Audiosysteme 2023-01-13                      Berlin   \n",
       "Convex_Energy          2023-01-04                      Berlin   \n",
       "DB                     2023-01-04                      Berlin   \n",
       "Daedalic_Entertainment 2023-01-07                     Hamburg   \n",
       "Focusrite              2023-01-07                      Berlin   \n",
       "McKinsey & Co          2023-02-09                        Oslo   \n",
       "Mercedes_Benz          2023-01-04                      Berlin   \n",
       "Native_Instruments     2023-01-11                      Berlin   \n",
       "                       2023-01-22                      Berlin   \n",
       "ONDEWO                 2023-02-09                      Vienna   \n",
       "Sennheiser             2023-01-26                     Hamburg   \n",
       "Siemens                2022-11-19                      Berlin   \n",
       "Sonnen                 2022-11-19                      Berlin   \n",
       "SoundCloud             2023-01-11                      Berlin   \n",
       "Spotify                2023-01-04               Berlin/Remote   \n",
       "Teufel                 2023-01-11                      Berlin   \n",
       "Zalando                2023-01-23                      Berlin   \n",
       "\n",
       "                                               recruiter     referral  \\\n",
       "company_name           date_applied                                     \n",
       "Accenture              2023-01-04                    NaN        Niamh   \n",
       "Alexander Thamm        2023-02-09                    NaN          NaN   \n",
       "Avid                   2023-02-09                    NaN          NaN   \n",
       "Bikemap                2023-01-04                    NaN          NaN   \n",
       "Burmester_Audiosysteme 2023-01-13           Sanda Firlay          NaN   \n",
       "Convex_Energy          2023-01-04                    NaN          NaN   \n",
       "DB                     2023-01-04                    NaN          NaN   \n",
       "Daedalic_Entertainment 2023-01-07                    NaN          NaN   \n",
       "Focusrite              2023-01-07                    NaN          NaN   \n",
       "McKinsey & Co          2023-02-09                    NaN          NaN   \n",
       "Mercedes_Benz          2023-01-04                    NaN          NaN   \n",
       "Native_Instruments     2023-01-11                    NaN          NaN   \n",
       "                       2023-01-22                    NaN          NaN   \n",
       "ONDEWO                 2023-02-09                    NaN          NaN   \n",
       "Sennheiser             2023-01-26                    NaN          NaN   \n",
       "Siemens                2022-11-19                    NaN          NaN   \n",
       "Sonnen                 2022-11-19                    NaN          NaN   \n",
       "SoundCloud             2023-01-11                    NaN          NaN   \n",
       "Spotify                2023-01-04                    NaN          NaN   \n",
       "Teufel                 2023-01-11                    NaN          NaN   \n",
       "Zalando                2023-01-23    Tomas Christodoulou  Rachel Moss   \n",
       "\n",
       "                                                method  \\\n",
       "company_name           date_applied                      \n",
       "Accenture              2023-01-04    Accenture website   \n",
       "Alexander Thamm        2023-02-09             linkedin   \n",
       "Avid                   2023-02-09             linkedin   \n",
       "Bikemap                2023-01-04             linkedin   \n",
       "Burmester_Audiosysteme 2023-01-13             linkedin   \n",
       "Convex_Energy          2023-01-04             linkedin   \n",
       "DB                     2023-01-04             linkedin   \n",
       "Daedalic_Entertainment 2023-01-07             linkedin   \n",
       "Focusrite              2023-01-07             linkedin   \n",
       "McKinsey & Co          2023-02-09             linkedin   \n",
       "Mercedes_Benz          2023-01-04             linkedin   \n",
       "Native_Instruments     2023-01-11             linkedin   \n",
       "                       2023-01-22             linkedin   \n",
       "ONDEWO                 2023-02-09             linkedin   \n",
       "Sennheiser             2023-01-26              website   \n",
       "Siemens                2022-11-19             linkedin   \n",
       "Sonnen                 2022-11-19             linkedin   \n",
       "SoundCloud             2023-01-11             linkedin   \n",
       "Spotify                2023-01-04             linkedin   \n",
       "Teufel                 2023-01-11             linkedin   \n",
       "Zalando                2023-01-23             referral   \n",
       "\n",
       "                                                                                   url  \\\n",
       "company_name           date_applied                                                      \n",
       "Accenture              2023-01-04    https://www.accenture.com/us-en/careers/jobdet...   \n",
       "Alexander Thamm        2023-02-09    https://join.com/companies/alexanderthamm/7085...   \n",
       "Avid                   2023-02-09    https://avid.wd5.myworkdayjobs.com/AVID/job/Hy...   \n",
       "Bikemap                2023-01-04    https://bikemap.jobs.personio.com/job/415336?d...   \n",
       "Burmester_Audiosysteme 2023-01-13    https://jobapplication.hrworks.de/en/apply?com...   \n",
       "Convex_Energy          2023-01-04    https://join.com/companies/convex-energy/67116...   \n",
       "DB                     2023-01-04    https://karriere.deutschebahn.com/karriere-de/...   \n",
       "Daedalic_Entertainment 2023-01-07    http://jobs.daedalicsupport.com/index/build-en...   \n",
       "Focusrite              2023-01-07    https://apply.workable.com/focusrite/j/7291245...   \n",
       "McKinsey & Co          2023-02-09    https://www.mckinsey.com/careers/search-jobs/j...   \n",
       "Mercedes_Benz          2023-01-04    https://mbition.io/jobs/?job=911357&apply=1&pi...   \n",
       "Native_Instruments     2023-01-11    https://www.native-instruments.com/en/career-c...   \n",
       "                       2023-01-22    https://www.native-instruments.com/en/career-c...   \n",
       "ONDEWO                 2023-02-09    https://join.com/companies/ondewo/2100044/appl...   \n",
       "Sennheiser             2023-01-26    https://sennheiser.referrals.selectminds.com/j...   \n",
       "Siemens                2022-11-19     https://jobs.siemens-energy.com/en_US/jobs/Login   \n",
       "Sonnen                 2022-11-19                                                  NaN   \n",
       "SoundCloud             2023-01-11    https://careers.soundcloud.com/job?gh_jid=6561...   \n",
       "Spotify                2023-01-04    https://jobs.lever.co/spotify/f6399d24-74ff-40...   \n",
       "Teufel                 2023-01-11    https://lautsprecherteufel.jobs.personio.de/jo...   \n",
       "Zalando                2023-01-23    https://jobs.zalando.com/en/jobs/4772836-gradu...   \n",
       "\n",
       "                                    initial_response date_init_resp  \\\n",
       "company_name           date_applied                                   \n",
       "Accenture              2023-01-04           Rejected     2023-01-11   \n",
       "Alexander Thamm        2023-02-09        No Response            NaN   \n",
       "Avid                   2023-02-09        No Response            NaN   \n",
       "Bikemap                2023-01-04           Rejected     2023-01-11   \n",
       "Burmester_Audiosysteme 2023-01-13           Rejected     2023-01-23   \n",
       "Convex_Energy          2023-01-04           Rejected     2023-02-01   \n",
       "DB                     2023-01-04           Rejected     2023-01-09   \n",
       "Daedalic_Entertainment 2023-01-07        No Response            NaN   \n",
       "Focusrite              2023-01-07             Passed     2023-01-17   \n",
       "McKinsey & Co          2023-02-09        No Response            NaN   \n",
       "Mercedes_Benz          2023-01-04           Rejected     2023-01-27   \n",
       "Native_Instruments     2023-01-11        No Response            NaN   \n",
       "                       2023-01-22           Rejected     2023-01-24   \n",
       "ONDEWO                 2023-02-09        No Response            NaN   \n",
       "Sennheiser             2023-01-26           Rejected     2023-02-02   \n",
       "Siemens                2022-11-19        No Response            NaN   \n",
       "Sonnen                 2022-11-19           Rejected     2023-02-09   \n",
       "SoundCloud             2023-01-11        No Response            NaN   \n",
       "Spotify                2023-01-04        No Response            NaN   \n",
       "Teufel                 2023-01-11           Rejected     2023-01-19   \n",
       "Zalando                2023-01-23             Passed     2023-01-25   \n",
       "\n",
       "                                    date_interview1  \\\n",
       "company_name           date_applied                   \n",
       "Accenture              2023-01-04               NaN   \n",
       "Alexander Thamm        2023-02-09               NaN   \n",
       "Avid                   2023-02-09               NaN   \n",
       "Bikemap                2023-01-04               NaN   \n",
       "Burmester_Audiosysteme 2023-01-13               NaN   \n",
       "Convex_Energy          2023-01-04               NaN   \n",
       "DB                     2023-01-04               NaN   \n",
       "Daedalic_Entertainment 2023-01-07               NaN   \n",
       "Focusrite              2023-01-07        2023-01-31   \n",
       "McKinsey & Co          2023-02-09               NaN   \n",
       "Mercedes_Benz          2023-01-04               NaN   \n",
       "Native_Instruments     2023-01-11               NaN   \n",
       "                       2023-01-22               NaN   \n",
       "ONDEWO                 2023-02-09               NaN   \n",
       "Sennheiser             2023-01-26               NaN   \n",
       "Siemens                2022-11-19               NaN   \n",
       "Sonnen                 2022-11-19               NaN   \n",
       "SoundCloud             2023-01-11               NaN   \n",
       "Spotify                2023-01-04               NaN   \n",
       "Teufel                 2023-01-11               NaN   \n",
       "Zalando                2023-01-23        2023-02-02   \n",
       "\n",
       "                                                                          interviewers  \\\n",
       "company_name           date_applied                                                      \n",
       "Accenture              2023-01-04                                                  NaN   \n",
       "Alexander Thamm        2023-02-09                                                  NaN   \n",
       "Avid                   2023-02-09                                                  NaN   \n",
       "Bikemap                2023-01-04                                                  NaN   \n",
       "Burmester_Audiosysteme 2023-01-13                                                  NaN   \n",
       "Convex_Energy          2023-01-04                                                  NaN   \n",
       "DB                     2023-01-04                                                  NaN   \n",
       "Daedalic_Entertainment 2023-01-07                                                  NaN   \n",
       "Focusrite              2023-01-07    Andy Poole, QA Manager, and Felix Beu, QA Engi...   \n",
       "McKinsey & Co          2023-02-09                                                  NaN   \n",
       "Mercedes_Benz          2023-01-04                                                  NaN   \n",
       "Native_Instruments     2023-01-11                                                  NaN   \n",
       "                       2023-01-22                                                  NaN   \n",
       "ONDEWO                 2023-02-09                                                  NaN   \n",
       "Sennheiser             2023-01-26                                                  NaN   \n",
       "Siemens                2022-11-19                                                  NaN   \n",
       "Sonnen                 2022-11-19                                                  NaN   \n",
       "SoundCloud             2023-01-11                                                  NaN   \n",
       "Spotify                2023-01-04                                                  NaN   \n",
       "Teufel                 2023-01-11                                                  NaN   \n",
       "Zalando                2023-01-23    Kate Hockey, Talent Aquisition Partner (Recrui...   \n",
       "\n",
       "                                                                       interview_notes  \\\n",
       "company_name           date_applied                                                      \n",
       "Accenture              2023-01-04                                                  NaN   \n",
       "Alexander Thamm        2023-02-09                                                  NaN   \n",
       "Avid                   2023-02-09                                                  NaN   \n",
       "Bikemap                2023-01-04                                                  NaN   \n",
       "Burmester_Audiosysteme 2023-01-13                                                  NaN   \n",
       "Convex_Energy          2023-01-04                                                  NaN   \n",
       "DB                     2023-01-04                                                  NaN   \n",
       "Daedalic_Entertainment 2023-01-07                                                  NaN   \n",
       "Focusrite              2023-01-07                    will hear back from them by Feb 6   \n",
       "McKinsey & Co          2023-02-09                                                  NaN   \n",
       "Mercedes_Benz          2023-01-04                                                  NaN   \n",
       "Native_Instruments     2023-01-11                                                  NaN   \n",
       "                       2023-01-22                                                  NaN   \n",
       "ONDEWO                 2023-02-09                                                  NaN   \n",
       "Sennheiser             2023-01-26                                                  NaN   \n",
       "Siemens                2022-11-19                                                  NaN   \n",
       "Sonnen                 2022-11-19                                                  NaN   \n",
       "SoundCloud             2023-01-11                                                  NaN   \n",
       "Spotify                2023-01-04                                                  NaN   \n",
       "Teufel                 2023-01-11                                                  NaN   \n",
       "Zalando                2023-01-23    given take-home test, hinted that I should do ...   \n",
       "\n",
       "                                                 next_steps final_outcome  \\\n",
       "company_name           date_applied                                         \n",
       "Accenture              2023-01-04                       NaN           NaN   \n",
       "Alexander Thamm        2023-02-09                       NaN           NaN   \n",
       "Avid                   2023-02-09                       NaN           NaN   \n",
       "Bikemap                2023-01-04                       NaN           NaN   \n",
       "Burmester_Audiosysteme 2023-01-13                       NaN           NaN   \n",
       "Convex_Energy          2023-01-04                       NaN           NaN   \n",
       "DB                     2023-01-04                       NaN           NaN   \n",
       "Daedalic_Entertainment 2023-01-07                       NaN           NaN   \n",
       "Focusrite              2023-01-07            followup email      Rejected   \n",
       "McKinsey & Co          2023-02-09                       NaN           NaN   \n",
       "Mercedes_Benz          2023-01-04                       NaN           NaN   \n",
       "Native_Instruments     2023-01-11                       NaN           NaN   \n",
       "                       2023-01-22                       NaN           NaN   \n",
       "ONDEWO                 2023-02-09                       NaN           NaN   \n",
       "Sennheiser             2023-01-26                       NaN           NaN   \n",
       "Siemens                2022-11-19                       NaN           NaN   \n",
       "Sonnen                 2022-11-19                       NaN           NaN   \n",
       "SoundCloud             2023-01-11                       NaN           NaN   \n",
       "Spotify                2023-01-04                       NaN           NaN   \n",
       "Teufel                 2023-01-11                       NaN           NaN   \n",
       "Zalando                2023-01-23    coding test (finished)       Waiting   \n",
       "\n",
       "                                                                              feedback  \n",
       "company_name           date_applied                                                     \n",
       "Accenture              2023-01-04                                                  NaN  \n",
       "Alexander Thamm        2023-02-09                                                  NaN  \n",
       "Avid                   2023-02-09                                                  NaN  \n",
       "Bikemap                2023-01-04                                                  NaN  \n",
       "Burmester_Audiosysteme 2023-01-13                                                  NaN  \n",
       "Convex_Energy          2023-01-04                                                  NaN  \n",
       "DB                     2023-01-04                                                  NaN  \n",
       "Daedalic_Entertainment 2023-01-07                                                  NaN  \n",
       "Focusrite              2023-01-07    \"some candidates have deeper knowledge of tech...  \n",
       "McKinsey & Co          2023-02-09                                                  NaN  \n",
       "Mercedes_Benz          2023-01-04                                                  NaN  \n",
       "Native_Instruments     2023-01-11                                                  NaN  \n",
       "                       2023-01-22                                                  NaN  \n",
       "ONDEWO                 2023-02-09                                                  NaN  \n",
       "Sennheiser             2023-01-26                                                  NaN  \n",
       "Siemens                2022-11-19                                                  NaN  \n",
       "Sonnen                 2022-11-19                                                  NaN  \n",
       "SoundCloud             2023-01-11                                                  NaN  \n",
       "Spotify                2023-01-04                                                  NaN  \n",
       "Teufel                 2023-01-11                                                  NaN  \n",
       "Zalando                2023-01-23                                                  NaN  "
      ]
     },
     "execution_count": 2,
     "metadata": {},
     "output_type": "execute_result"
    }
   ],
   "source": [
    "old_jobs_df = pd.read_json('job_data.json', orient='table')\n",
    "old_jobs_df"
   ]
  },
  {
   "cell_type": "markdown",
   "metadata": {},
   "source": [
    "## Input New Data"
   ]
  },
  {
   "cell_type": "markdown",
   "metadata": {},
   "source": [
    "### Apps"
   ]
  },
  {
   "cell_type": "code",
   "execution_count": 3,
   "metadata": {},
   "outputs": [],
   "source": [
    "index_cols = ['company_name', 'date_applied']"
   ]
  },
  {
   "cell_type": "code",
   "execution_count": 4,
   "metadata": {},
   "outputs": [
    {
     "name": "stdout",
     "output_type": "stream",
     "text": [
      "['company_name', 'date_applied', 'job_title', 'job_cat', 'department', 'location', 'recruiter', 'referral', 'method', 'url', 'initial_response']\n"
     ]
    }
   ],
   "source": [
    "app_column_names = [\n",
    "    'company_name', 'date_applied', 'job_title', 'job_cat', \n",
    "    'department', 'location', 'recruiter', 'referral', \n",
    "    'method', 'url', 'initial_response'\n",
    "]\n",
    "print(app_column_names)"
   ]
  },
  {
   "cell_type": "code",
   "execution_count": 5,
   "metadata": {},
   "outputs": [],
   "source": [
    "# company_app = [\n",
    "#     'company_name', 'date_applied', 'job_title', \n",
    "#     'job_cat', 'department', 'location', \n",
    "#     'recruiter', 'referral', 'method', \n",
    "#     'url', 'initial_response'\n",
    "# ]\n",
    "\n"
   ]
  },
  {
   "cell_type": "code",
   "execution_count": 6,
   "metadata": {},
   "outputs": [],
   "source": [
    "# apps = [company_app]"
   ]
  },
  {
   "cell_type": "markdown",
   "metadata": {},
   "source": [
    "##### Apps DF"
   ]
  },
  {
   "cell_type": "code",
   "execution_count": 7,
   "metadata": {},
   "outputs": [],
   "source": [
    "# applications_df = pd.DataFrame(apps, columns=app_column_names).set_index(index_cols).sort_index()"
   ]
  },
  {
   "cell_type": "code",
   "execution_count": 8,
   "metadata": {
    "scrolled": true
   },
   "outputs": [],
   "source": [
    "# # Change NaN to 'No Response' \n",
    "# format_response = ['No Response' if not x else x for x in applications_df.initial_response]\n",
    "# applications_df.loc[:, 'initial_response'] = format_response\n",
    "# applications_df"
   ]
  },
  {
   "cell_type": "markdown",
   "metadata": {
    "heading_collapsed": true
   },
   "source": [
    "### Responses"
   ]
  },
  {
   "cell_type": "code",
   "execution_count": 9,
   "metadata": {
    "hidden": true
   },
   "outputs": [
    {
     "name": "stdout",
     "output_type": "stream",
     "text": [
      "['company_name', 'date_applied'] ['initial_response', 'date_init_resp', 'date_interview1', 'interviewers', 'interview_notes', 'next_steps', 'final_outcome', 'feedback']\n"
     ]
    }
   ],
   "source": [
    "responses_cols = [\n",
    "    'initial_response', 'date_init_resp', \n",
    "    'date_interview1', 'interviewers', \n",
    "    'interview_notes', 'next_steps', \n",
    "    'final_outcome', 'feedback'\n",
    "]\n",
    "print(index_cols, responses_cols)"
   ]
  },
  {
   "cell_type": "markdown",
   "metadata": {
    "hidden": true
   },
   "source": [
    "#### Rejections"
   ]
  },
  {
   "cell_type": "code",
   "execution_count": 10,
   "metadata": {
    "hidden": true
   },
   "outputs": [],
   "source": [
    "# company_fr = [\n",
    "#     'company_name', 'date_applied', \n",
    "#     'initial_response', 'date_init_resp'\n",
    "# ]"
   ]
  },
  {
   "cell_type": "code",
   "execution_count": 11,
   "metadata": {
    "hidden": true
   },
   "outputs": [],
   "source": [
    "# rejections = [company_fr]"
   ]
  },
  {
   "cell_type": "markdown",
   "metadata": {
    "hidden": true
   },
   "source": [
    "##### Immediate Rejections DF"
   ]
  },
  {
   "cell_type": "code",
   "execution_count": 12,
   "metadata": {
    "hidden": true
   },
   "outputs": [],
   "source": [
    "# rej_cols = index_cols + responses_cols[:2]\n",
    "# immediate_rejections_df = pd.DataFrame(rejections, columns=rej_cols).set_index(index_cols).sort_index()\n",
    "# immediate_rejections_df.head(1)"
   ]
  },
  {
   "cell_type": "markdown",
   "metadata": {
    "hidden": true
   },
   "source": [
    "#### Passed to First Interview"
   ]
  },
  {
   "cell_type": "code",
   "execution_count": 13,
   "metadata": {
    "hidden": true
   },
   "outputs": [],
   "source": [
    "# company_fr = [\n",
    "#     'company_name', 'date_applied', \n",
    "#     'initial_response', 'date_init_resp', \n",
    "#     'date_interview1', 'interviewers'\n",
    "# ]"
   ]
  },
  {
   "cell_type": "code",
   "execution_count": 14,
   "metadata": {
    "hidden": true
   },
   "outputs": [],
   "source": [
    "# passed = [company_fr]"
   ]
  },
  {
   "cell_type": "markdown",
   "metadata": {
    "hidden": true
   },
   "source": [
    "##### Passed DF"
   ]
  },
  {
   "cell_type": "code",
   "execution_count": 15,
   "metadata": {
    "hidden": true
   },
   "outputs": [],
   "source": [
    "# passed_cols = index_cols + responses_cols[:4]\n",
    "# passed_fr_df = pd.DataFrame(passed, columns=passed_cols).set_index(index_cols).sort_index()"
   ]
  },
  {
   "cell_type": "markdown",
   "metadata": {
    "hidden": true
   },
   "source": [
    "#### Post-interview & Next Steps"
   ]
  },
  {
   "cell_type": "code",
   "execution_count": 16,
   "metadata": {
    "hidden": true
   },
   "outputs": [],
   "source": [
    "# company_ns = ['company_name', 'date_applied', 'interview_notes', 'next_steps']"
   ]
  },
  {
   "cell_type": "code",
   "execution_count": 17,
   "metadata": {
    "hidden": true
   },
   "outputs": [],
   "source": [
    "# interviews = [company_ns]"
   ]
  },
  {
   "cell_type": "markdown",
   "metadata": {
    "hidden": true
   },
   "source": [
    "##### Post-interview/Next Steps DF"
   ]
  },
  {
   "cell_type": "code",
   "execution_count": 18,
   "metadata": {
    "hidden": true
   },
   "outputs": [],
   "source": [
    "# post_cols = index_cols + responses_cols[6:8]\n",
    "# post_iterview_df = pd.DataFrame(interviews, columns=post_cols).set_index(index_cols).sort_index()"
   ]
  },
  {
   "cell_type": "markdown",
   "metadata": {
    "hidden": true
   },
   "source": [
    "#### Final Outcomes"
   ]
  },
  {
   "cell_type": "code",
   "execution_count": 19,
   "metadata": {
    "hidden": true
   },
   "outputs": [],
   "source": [
    "# company_lr = ['company_name', 'date_applied', 'final_outcome', 'feedback']"
   ]
  },
  {
   "cell_type": "code",
   "execution_count": 20,
   "metadata": {
    "hidden": true
   },
   "outputs": [],
   "source": [
    "# final_responses = [company_lr]"
   ]
  },
  {
   "cell_type": "markdown",
   "metadata": {
    "hidden": true
   },
   "source": [
    "##### Final outcome DF"
   ]
  },
  {
   "cell_type": "code",
   "execution_count": 21,
   "metadata": {
    "hidden": true
   },
   "outputs": [],
   "source": [
    "# fo_cols = index_cols + responses_cols[-2:]\n",
    "# final_outcome_df = pd.DataFrame(final_responses, columns=fo_cols).set_index(index_cols).sort_index()"
   ]
  },
  {
   "cell_type": "markdown",
   "metadata": {},
   "source": [
    "## Write to JSON"
   ]
  },
  {
   "cell_type": "markdown",
   "metadata": {},
   "source": [
    "### Optional Joining of Multiple Added DFs"
   ]
  },
  {
   "cell_type": "code",
   "execution_count": 22,
   "metadata": {},
   "outputs": [],
   "source": [
    "# new_jobs_df = applications_df.join(responses_df)"
   ]
  },
  {
   "cell_type": "code",
   "execution_count": 23,
   "metadata": {},
   "outputs": [],
   "source": [
    "# new_jobs_df = pd.concat([old_jobs_df, applications_df]).sort_index()"
   ]
  },
  {
   "cell_type": "code",
   "execution_count": 24,
   "metadata": {},
   "outputs": [],
   "source": [
    "# new_jobs_df = old_jobs_df"
   ]
  },
  {
   "cell_type": "code",
   "execution_count": 25,
   "metadata": {},
   "outputs": [],
   "source": [
    "# result = new_jobs_df.to_json(orient='table')\n",
    "# parsed = json.loads(result)\n",
    "\n",
    "# with open(\"job_data.json\", \"w\") as jsonFile:\n",
    "#     json.dump(parsed, jsonFile, indent=4)\n",
    "\n",
    "# jobs_df = pd.read_json('job_data.json', orient='table')\n",
    "# jobs_df"
   ]
  },
  {
   "cell_type": "markdown",
   "metadata": {},
   "source": [
    "## Visualizations"
   ]
  },
  {
   "cell_type": "markdown",
   "metadata": {},
   "source": [
    "#### If no new data added:"
   ]
  },
  {
   "cell_type": "code",
   "execution_count": 29,
   "metadata": {},
   "outputs": [],
   "source": [
    "jobs_df = old_jobs_df"
   ]
  },
  {
   "cell_type": "markdown",
   "metadata": {},
   "source": [
    "### Job Categories"
   ]
  },
  {
   "cell_type": "code",
   "execution_count": 30,
   "metadata": {},
   "outputs": [
    {
     "data": {
      "image/png": "[encoded data removed]",
      "text/plain": [
       "<Figure size 1000x300 with 1 Axes>"
      ]
     },
     "metadata": {},
     "output_type": "display_data"
    }
   ],
   "source": [
    "fig1, ax1 = plt.subplots(figsize=(10,3))\n",
    "fig1 = sns.countplot(x=jobs_df.job_cat, palette='magma')\n",
    "ax1.set_title('Job Categories')\n",
    "ax1.set_xlabel('Job Category')\n",
    "plt.xticks(rotation=45)\n",
    "plt.show(fig1)"
   ]
  },
  {
   "cell_type": "markdown",
   "metadata": {},
   "source": [
    "### Initial Responses by Date"
   ]
  },
  {
   "cell_type": "code",
   "execution_count": 31,
   "metadata": {},
   "outputs": [],
   "source": [
    "X = jobs_df.loc[:, ['initial_response']].reset_index('company_name', drop=True)\n",
    "graph_df = X.groupby('date_applied').value_counts().unstack(fill_value=0)\n",
    "graph_df.index.name = None"
   ]
  },
  {
   "cell_type": "code",
   "execution_count": 32,
   "metadata": {
    "scrolled": false
   },
   "outputs": [
    {
     "data": {
      "image/png": "[encoded data removed]",
      "text/plain": [
       "<Figure size 700x500 with 1 Axes>"
      ]
     },
     "metadata": {},
     "output_type": "display_data"
    }
   ],
   "source": [
    "resp_graph = graph_df.loc[:, ['No Response', 'Rejected', 'Passed']].plot(\n",
    "    figsize=(7,5),\n",
    "    kind='bar', \n",
    "    stacked=True, \n",
    "    color={'No Response': 'wheat', 'Rejected': 'darksalmon', 'Passed': 'yellowgreen'},\n",
    "    ylabel='Count',\n",
    "    ylim=(0,7),\n",
    "    xlabel='Date Applied',\n",
    "    title='Initial Responses'\n",
    ")\n",
    "\n",
    "formatted_dates = [pd.to_datetime(x).strftime('%b %-d') for x in graph_df.index]\n",
    "resp_graph.set_xticklabels(formatted_dates, rotation=0)\n",
    "\n",
    "plt.show()"
   ]
  },
  {
   "cell_type": "markdown",
   "metadata": {},
   "source": [
    "### Timeline of Job Applications and Outcomes"
   ]
  },
  {
   "cell_type": "code",
   "execution_count": 33,
   "metadata": {},
   "outputs": [],
   "source": [
    "outcomes_df = jobs_df.loc[:, ['initial_response', 'final_outcome']].droplevel(level=0).sort_index().reset_index()\n",
    "for idx in outcomes_df.index:\n",
    "    row = outcomes_df.loc[idx]\n",
    "    if row.final_outcome == 'Rejected' and row.initial_response == \"Passed\":\n",
    "        row.final_outcome = 'Rejected Post-Interview'\n",
    "    elif row.initial_response == 'Rejected':\n",
    "        row.final_outcome = 'Immediate Rejection'\n",
    "    elif row.initial_response == 'No Response':\n",
    "        row.final_outcome = 'No Response'\n",
    "outcomes_df.drop(columns='initial_response', inplace=True)"
   ]
  },
  {
   "cell_type": "code",
   "execution_count": 34,
   "metadata": {},
   "outputs": [],
   "source": [
    "grouped_outcomes_df = outcomes_df.groupby('date_applied')\n",
    "outcome_dates = list(grouped_outcomes_df.groups.keys())"
   ]
  },
  {
   "cell_type": "code",
   "execution_count": 35,
   "metadata": {},
   "outputs": [
    {
     "data": {
      "text/plain": [
       "[Counter({'Immediate Rejection': 1, 'No Response': 1}),\n",
       " Counter({'Immediate Rejection': 5, 'No Response': 1}),\n",
       " Counter({'No Response': 1, 'Rejected Post-Interview': 1}),\n",
       " Counter({'Immediate Rejection': 1, 'No Response': 2}),\n",
       " Counter({'Immediate Rejection': 1}),\n",
       " Counter({'Immediate Rejection': 1}),\n",
       " Counter({'Waiting': 1}),\n",
       " Counter({'Immediate Rejection': 1}),\n",
       " Counter({'No Response': 4})]"
      ]
     },
     "execution_count": 35,
     "metadata": {},
     "output_type": "execute_result"
    }
   ],
   "source": [
    "outcomes_counter = [Counter(grouped_outcomes_df.get_group(date).final_outcome) for date in outcome_dates]\n",
    "outcomes_counter"
   ]
  },
  {
   "cell_type": "code",
   "execution_count": 36,
   "metadata": {},
   "outputs": [],
   "source": [
    "no_response = []\n",
    "immediate_rejection = []\n",
    "rejected_post_int = []\n",
    "waiting = []\n",
    "\n",
    "for x in outcomes_counter:\n",
    "    no_response.append(x['No Response'])\n",
    "    immediate_rejection.append(x['Immediate Rejection'])\n",
    "    rejected_post_int.append(x['Rejected Post-Interview'])\n",
    "    waiting.append(x['Waiting'])"
   ]
  },
  {
   "cell_type": "code",
   "execution_count": 37,
   "metadata": {},
   "outputs": [],
   "source": [
    "outcome_dts = [pd.to_datetime(x).strftime('%Y-%m-%d') for x in outcome_dates]\n",
    "dts_array = np.array(outcome_dts, dtype='datetime64')"
   ]
  },
  {
   "cell_type": "code",
   "execution_count": 38,
   "metadata": {},
   "outputs": [],
   "source": [
    "x_lines = pd.date_range(\n",
    "    pd.to_datetime(dts_array[0]) - relativedelta(days=5), \n",
    "    pd.to_datetime(dts_array[-1]) + relativedelta(days=2), freq='SMS'\n",
    ")\n",
    "\n",
    "x_labes = [x.strftime('%b %-d') for x in x_lines]"
   ]
  },
  {
   "cell_type": "code",
   "execution_count": 39,
   "metadata": {},
   "outputs": [
    {
     "data": {
      "image/png": "[encoded data removed]",
      "text/plain": [
       "<Figure size 1200x400 with 1 Axes>"
      ]
     },
     "metadata": {},
     "output_type": "display_data"
    }
   ],
   "source": [
    "fig2, ax2 = plt.subplots(figsize=(12,4))\n",
    "\n",
    "cat_palette = ['black', 'crimson', 'lightskyblue', '#ceaddc', 'yellowgreen']\n",
    "w = 1\n",
    "\n",
    "second = np.array(rejected_post_int) + np.array(immediate_rejection)\n",
    "top = second + np.array(no_response)\n",
    "\n",
    "\n",
    "im_rej_bar = ax2.bar(\n",
    "    dts_array, immediate_rejection, width=w, label='Immediate Rejection', \n",
    "    color=cat_palette[0], edgecolor='black', linewidth=0.5\n",
    ")\n",
    "\n",
    "rej_post_bar = ax2.bar(\n",
    "    dts_array, rejected_post_int, width=w, bottom=immediate_rejection, \n",
    "    label='Rejected Post-Interview', color=cat_palette[1], \n",
    "    edgecolor='black', linewidth=0.5\n",
    ")\n",
    "\n",
    "no_resp_bar = ax2.bar(\n",
    "    dts_array, no_response, width=w, bottom=second, label='No Response', \n",
    "    color=cat_palette[2], edgecolor='black', linewidth=0.5\n",
    ")\n",
    "\n",
    "waiting_bar = ax2.bar(\n",
    "    dts_array, waiting, width=w, bottom=top, label='Waiting', \n",
    "    color=cat_palette[3], edgecolor='black', linewidth=0.5\n",
    ")\n",
    "\n",
    "\n",
    "l1 = ax2.vlines(\n",
    "    datetime.today(), 0, 7, \n",
    "    linestyles='dashed', color='blue', label='Today'\n",
    ")\n",
    "\n",
    "ax2.set_xticks(x_lines)\n",
    "ax2.set_xticklabels(x_labes)\n",
    "ax2.set_ybound(0, 7)\n",
    "\n",
    "ax2.set_xlabel('Date Applied')\n",
    "ax2.set_ylabel('Count')\n",
    "ax2.set_title('Dates Applied and Outcomes of Job Applications')\n",
    "ax2.legend(loc='upper left')\n",
    "\n",
    "plt.show()"
   ]
  },
  {
   "cell_type": "code",
   "execution_count": null,
   "metadata": {},
   "outputs": [],
   "source": []
  },
  {
   "cell_type": "code",
   "execution_count": null,
   "metadata": {},
   "outputs": [],
   "source": []
  },
  {
   "cell_type": "code",
   "execution_count": null,
   "metadata": {},
   "outputs": [],
   "source": []
  }
 ],
 "metadata": {
  "kernelspec": {
   "display_name": "Python 3 (ipykernel)",
   "language": "python",
   "name": "python3"
  },
  "language_info": {
   "codemirror_mode": {
    "name": "ipython",
    "version": 3
   },
   "file_extension": ".py",
   "mimetype": "text/x-python",
   "name": "python",
   "nbconvert_exporter": "python",
   "pygments_lexer": "ipython3",
   "version": "3.10.6"
  },
  "toc": {
   "base_numbering": 1,
   "nav_menu": {},
   "number_sections": true,
   "sideBar": true,
   "skip_h1_title": false,
   "title_cell": "Table of Contents",
   "title_sidebar": "Contents",
   "toc_cell": false,
   "toc_position": {},
   "toc_section_display": true,
   "toc_window_display": false
  },
  "vscode": {
   "interpreter": {
    "hash": "6ffc35d46f337c4201c4fad81bb678395bc2c122ed1eeab8d96f421dd7a87373"
   }
  }
 },
 "nbformat": 4,
 "nbformat_minor": 2
}
