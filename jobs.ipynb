{
 "cells": [
  {
   "attachments": {},
   "cell_type": "markdown",
   "metadata": {},
   "source": [
    "# My Job Applications 2023"
   ]
  },
  {
   "attachments": {},
   "cell_type": "markdown",
   "metadata": {},
   "source": [
    "### Imports"
   ]
  },
  {
   "cell_type": "code",
   "execution_count": 1,
   "metadata": {},
   "outputs": [],
   "source": [
    "import numpy as np\n",
    "import pandas as pd"
   ]
  },
  {
   "attachments": {},
   "cell_type": "markdown",
   "metadata": {},
   "source": [
    "### Empty Data Frame"
   ]
  },
  {
   "cell_type": "code",
   "execution_count": 35,
   "metadata": {},
   "outputs": [
    {
     "name": "stdout",
     "output_type": "stream",
     "text": [
      "<class 'pandas.core.frame.DataFrame'>\n",
      "Index: 0 entries\n",
      "Data columns (total 13 columns):\n",
      " #   Column              Non-Null Count  Dtype         \n",
      "---  ------              --------------  -----         \n",
      " 0   url                 0 non-null      object        \n",
      " 1   date_applied        0 non-null      datetime64[ns]\n",
      " 2   job_title           0 non-null      object        \n",
      " 3   department          0 non-null      object        \n",
      " 4   company             0 non-null      object        \n",
      " 5   location            0 non-null      object        \n",
      " 6   recruiter           0 non-null      object        \n",
      " 7   date_init_resp      0 non-null      datetime64[ns]\n",
      " 8   initial_response    0 non-null      int8          \n",
      " 9   date_interview1     0 non-null      datetime64[ns]\n",
      " 10  interview_comments  0 non-null      object        \n",
      " 11  more_interviews     0 non-null      object        \n",
      " 12  final_outcome       0 non-null      int8          \n",
      "dtypes: datetime64[ns](3), int8(2), object(8)\n",
      "memory usage: 0.0+ bytes\n"
     ]
    }
   ],
   "source": [
    "df_columns = {'url': 'str', 'date_applied': 'datetime64[ns]', 'job_title': 'str', \n",
    "              'department': 'str', 'company': 'str', 'location': 'str', 'recruiter': 'str', \n",
    "              'date_init_resp': 'datetime64[ns]', 'initial_response': 'int8', \n",
    "              'date_interview1': 'datetime64[ns]', 'interview_comments': 'str', \n",
    "              'more_interviews': 'str', 'final_outcome': 'int8'}\n",
    "\n",
    "jobs_df = pd.DataFrame({c: pd.Series(dtype=t) for c, t in df_columns.items()})\n",
    "jobs_df.info()"
   ]
  },
  {
   "attachments": {},
   "cell_type": "markdown",
   "metadata": {},
   "source": [
    "### Insert Data"
   ]
  },
  {
   "cell_type": "code",
   "execution_count": 49,
   "metadata": {},
   "outputs": [],
   "source": [
    "jobs_df.loc[0, 'url':'location'] = 'https://jobs.lever.co/spotify/f6399d24-74ff-\\\n",
    "406c-be20-ffdac88de4d0?lever-source=LinkedInJobs', \\\n",
    "                                   '2023-01-04', 'Machine Learning Engineer', \\\n",
    "                                   'Content Intelligence', 'Spotify', 'Berlin/Remote'"
   ]
  },
  {
   "cell_type": "code",
   "execution_count": null,
   "metadata": {},
   "outputs": [],
   "source": []
  },
  {
   "cell_type": "code",
   "execution_count": 52,
   "metadata": {},
   "outputs": [
    {
     "data": {
      "text/html": [
       "<div>\n",
       "<style scoped>\n",
       "    .dataframe tbody tr th:only-of-type {\n",
       "        vertical-align: middle;\n",
       "    }\n",
       "\n",
       "    .dataframe tbody tr th {\n",
       "        vertical-align: top;\n",
       "    }\n",
       "\n",
       "    .dataframe thead th {\n",
       "        text-align: right;\n",
       "    }\n",
       "</style>\n",
       "<table border=\"1\" class=\"dataframe\">\n",
       "  <thead>\n",
       "    <tr style=\"text-align: right;\">\n",
       "      <th></th>\n",
       "      <th>url</th>\n",
       "      <th>date_applied</th>\n",
       "      <th>job_title</th>\n",
       "      <th>department</th>\n",
       "      <th>company</th>\n",
       "      <th>location</th>\n",
       "      <th>recruiter</th>\n",
       "      <th>date_init_resp</th>\n",
       "      <th>initial_response</th>\n",
       "      <th>date_interview1</th>\n",
       "      <th>interview_comments</th>\n",
       "      <th>more_interviews</th>\n",
       "      <th>final_outcome</th>\n",
       "    </tr>\n",
       "  </thead>\n",
       "  <tbody>\n",
       "    <tr>\n",
       "      <th>0</th>\n",
       "      <td>https://jobs.lever.co/spotify/f6399d24-74ff-40...</td>\n",
       "      <td>2023-01-04</td>\n",
       "      <td>Machine Learning Engineer</td>\n",
       "      <td>Content Intelligence</td>\n",
       "      <td>Spotify</td>\n",
       "      <td>Berlin/Remote</td>\n",
       "      <td>NaN</td>\n",
       "      <td>NaT</td>\n",
       "      <td>NaN</td>\n",
       "      <td>NaT</td>\n",
       "      <td>NaN</td>\n",
       "      <td>NaN</td>\n",
       "      <td>NaN</td>\n",
       "    </tr>\n",
       "  </tbody>\n",
       "</table>\n",
       "</div>"
      ],
      "text/plain": [
       "                                                 url date_applied  \\\n",
       "0  https://jobs.lever.co/spotify/f6399d24-74ff-40...   2023-01-04   \n",
       "\n",
       "                   job_title            department  company       location  \\\n",
       "0  Machine Learning Engineer  Content Intelligence  Spotify  Berlin/Remote   \n",
       "\n",
       "  recruiter date_init_resp  initial_response date_interview1  \\\n",
       "0       NaN            NaT               NaN             NaT   \n",
       "\n",
       "  interview_comments more_interviews  final_outcome  \n",
       "0                NaN             NaN            NaN  "
      ]
     },
     "execution_count": 52,
     "metadata": {},
     "output_type": "execute_result"
    }
   ],
   "source": [
    "jobs_df"
   ]
  },
  {
   "cell_type": "code",
   "execution_count": null,
   "metadata": {},
   "outputs": [],
   "source": []
  }
 ],
 "metadata": {
  "kernelspec": {
   "display_name": "lewagon",
   "language": "python",
   "name": "python3"
  },
  "language_info": {
   "codemirror_mode": {
    "name": "ipython",
    "version": 3
   },
   "file_extension": ".py",
   "mimetype": "text/x-python",
   "name": "python",
   "nbconvert_exporter": "python",
   "pygments_lexer": "ipython3",
   "version": "3.10.6"
  },
  "orig_nbformat": 4,
  "vscode": {
   "interpreter": {
    "hash": "6ffc35d46f337c4201c4fad81bb678395bc2c122ed1eeab8d96f421dd7a87373"
   }
  }
 },
 "nbformat": 4,
 "nbformat_minor": 2
}
