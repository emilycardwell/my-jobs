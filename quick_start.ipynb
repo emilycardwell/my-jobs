{
 "cells": [
  {
   "attachments": {},
   "cell_type": "markdown",
   "metadata": {},
   "source": [
    "# Job Applications and Interview Prep\n",
    "\n",
    "\n",
    "\n",
    "Project by Emily Cardwell\n",
    "***"
   ]
  },
  {
   "cell_type": "markdown",
   "metadata": {},
   "source": [
    "### Imports (run me first)"
   ]
  },
  {
   "cell_type": "code",
   "execution_count": null,
   "metadata": {},
   "outputs": [],
   "source": [
    "from py_files.data_functions import read_df, get_app_info, \\\n",
    "    add_app, add_init_response, add_more_ints, add_final_outcome, \\\n",
    "    add_work, add_prep\n",
    "from py_files.visualization_functions import work_prep_multiplot, show_timeline, \\\n",
    "    jobs_multiplot\n",
    "import pandas as pd\n",
    "\n",
    "\n",
    "%load_ext autoreload\n",
    "%autoreload 2"
   ]
  },
  {
   "cell_type": "markdown",
   "metadata": {},
   "source": [
    "### **YOU MUST EDIT SOME FURTHER CELLS BEFORE RUNNING (marked in green)**\n",
    "\n",
    "**If no answer for a field, insert None instead of string**"
   ]
  },
  {
   "cell_type": "markdown",
   "metadata": {},
   "source": [
    "## Add job application OR change status"
   ]
  },
  {
   "cell_type": "code",
   "execution_count": null,
   "metadata": {},
   "outputs": [],
   "source": [
    "# ADD NEW APPLICATION\n",
    "add_app('date_applied (YYYY-MM-DD)', 'company_name', 'job_title',\n",
    "        'job_cat', 'department', 'location', 'recruiter',\n",
    "        'referral', 'method', 'url')"
   ]
  },
  {
   "cell_type": "code",
   "execution_count": null,
   "metadata": {},
   "outputs": [],
   "source": [
    "# ADD INITIAL RESPONSE OF 'PASSED'\n",
    "add_init_response('company_name_like', 'date_init_resp', 'Passed',\n",
    "                  'date_interview1', 'interview1_details')\n"
   ]
  },
  {
   "cell_type": "code",
   "execution_count": null,
   "metadata": {},
   "outputs": [],
   "source": [
    "# ADD INITIAL RESPONSE OF 'REJECTED'\n",
    "add_init_response('company_name_like', 'date_init_resp', 'Rejected')"
   ]
  },
  {
   "cell_type": "code",
   "execution_count": null,
   "metadata": {},
   "outputs": [],
   "source": [
    "# ADD ANY ADDITIONAL INTERVIEWS\n",
    "add_more_ints('company_name_like', 'interview_no', 'date_interview', 'interview_details')"
   ]
  },
  {
   "cell_type": "code",
   "execution_count": null,
   "metadata": {},
   "outputs": [],
   "source": [
    "# ADD FINAL OUTCOME\n",
    "add_final_outcome('company_name_like', 'outcome (Offer/No Offer)', None)"
   ]
  },
  {
   "cell_type": "markdown",
   "metadata": {},
   "source": [
    "### Show Application(s)"
   ]
  },
  {
   "cell_type": "code",
   "execution_count": null,
   "metadata": {},
   "outputs": [],
   "source": [
    "old_jobs_df = read_df(\"jobs\")\n",
    "old_jobs_df"
   ]
  },
  {
   "cell_type": "code",
   "execution_count": null,
   "metadata": {},
   "outputs": [],
   "source": [
    "# FIND APPLICATIONS USING REGEX SEARCH (EDIT STRING BELOW)\n",
    "app = get_app_info('company_name_like')\n",
    "app"
   ]
  },
  {
   "cell_type": "markdown",
   "metadata": {},
   "source": [
    "## Add Work Projects"
   ]
  },
  {
   "cell_type": "code",
   "execution_count": null,
   "metadata": {},
   "outputs": [],
   "source": [
    "# ADD WORK PROJECT (TODAY'S DATE IS DEFAULT)\n",
    "new_data = ['website', 'web design']\n",
    "new_df = add_work(new_data)"
   ]
  },
  {
   "cell_type": "code",
   "execution_count": null,
   "metadata": {},
   "outputs": [],
   "source": [
    "# ADD WORK PROJECT (SPECIFY DATE)\n",
    "new_data = ['project_name', 'project_category']\n",
    "new_df = add_work(new_data, 'date (YYYY-MM-DD)')"
   ]
  },
  {
   "cell_type": "markdown",
   "metadata": {},
   "source": [
    "### Show Work DF"
   ]
  },
  {
   "cell_type": "code",
   "execution_count": null,
   "metadata": {},
   "outputs": [],
   "source": [
    "work_df = read_df(folder_name='work')\n",
    "work_df"
   ]
  },
  {
   "cell_type": "markdown",
   "metadata": {},
   "source": [
    "## Add/Show Prep"
   ]
  },
  {
   "cell_type": "code",
   "execution_count": null,
   "metadata": {},
   "outputs": [],
   "source": [
    "# ADD PREP (CAN ADD MULTIPLE WEBSITES AND TYPES)\n",
    "new_prep = [\n",
    "    ['website', 'type'],\n",
    "    ['website', 'type'],\n",
    "    ['website', 'type'],\n",
    "    ['website', 'type']\n",
    "]\n",
    "date_completed = '2024-01-20'\n",
    "\n",
    "add_prep(new_prep, date=date_completed)"
   ]
  },
  {
   "cell_type": "markdown",
   "metadata": {},
   "source": [
    "### Show Prep DF (no need to edit values)"
   ]
  },
  {
   "cell_type": "code",
   "execution_count": null,
   "metadata": {},
   "outputs": [],
   "source": [
    "prep_df = read_df('prep')\n",
    "prep_df"
   ]
  },
  {
   "cell_type": "markdown",
   "metadata": {},
   "source": [
    "## Visualizations (don't edit values)"
   ]
  },
  {
   "cell_type": "code",
   "execution_count": null,
   "metadata": {},
   "outputs": [],
   "source": [
    "work_prep_multiplot()"
   ]
  },
  {
   "cell_type": "code",
   "execution_count": null,
   "metadata": {},
   "outputs": [],
   "source": [
    "show_timeline()"
   ]
  },
  {
   "cell_type": "code",
   "execution_count": null,
   "metadata": {},
   "outputs": [],
   "source": [
    "jobs_multiplot()"
   ]
  }
 ],
 "metadata": {
  "kernelspec": {
   "display_name": "lewagon",
   "language": "python",
   "name": "python3"
  },
  "language_info": {
   "codemirror_mode": {
    "name": "ipython",
    "version": 3
   },
   "file_extension": ".py",
   "mimetype": "text/x-python",
   "name": "python",
   "nbconvert_exporter": "python",
   "pygments_lexer": "ipython3",
   "version": "3.10.6"
  },
  "orig_nbformat": 4,
  "vscode": {
   "interpreter": {
    "hash": "6ffc35d46f337c4201c4fad81bb678395bc2c122ed1eeab8d96f421dd7a87373"
   }
  }
 },
 "nbformat": 4,
 "nbformat_minor": 2
}
