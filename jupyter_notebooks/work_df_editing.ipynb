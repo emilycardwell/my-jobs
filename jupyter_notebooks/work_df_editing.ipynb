{
 "cells": [
  {
   "attachments": {},
   "cell_type": "markdown",
   "metadata": {},
   "source": [
    "# Work DF Editing"
   ]
  },
  {
   "cell_type": "code",
   "execution_count": 26,
   "metadata": {},
   "outputs": [
    {
     "name": "stdout",
     "output_type": "stream",
     "text": [
      "The autoreload extension is already loaded. To reload it, use:\n",
      "  %reload_ext autoreload\n"
     ]
    }
   ],
   "source": [
    "import pandas as pd\n",
    "from py_files.data_functions import add_work, read_df\n",
    "import datetime\n",
    "\n",
    "%load_ext autoreload\n",
    "%autoreload 2"
   ]
  },
  {
   "cell_type": "code",
   "execution_count": 37,
   "metadata": {},
   "outputs": [
    {
     "data": {
      "text/plain": [
       "['2023-04-10', '2023-04-11', '2023-04-12', '2023-04-13', '2023-04-14']"
      ]
     },
     "execution_count": 37,
     "metadata": {},
     "output_type": "execute_result"
    }
   ],
   "source": [
    "start_date = datetime.date(2023, 4, 10)\n",
    "end_date = datetime.date(2023, 4, 14)\n",
    "delta = datetime.timedelta(days=1)\n",
    "\n",
    "dates_list = []\n",
    "while start_date <= end_date:\n",
    "    dates_list.append(start_date.strftime(\"%Y-%m-%d\"))\n",
    "    start_date += delta\n",
    "\n",
    "# weekdays = []\n",
    "# weekends = [5, 6, 12, 13, 19, 20]\n",
    "# i = 0\n",
    "# for d in dates_list:\n",
    "#     if i in weekends:\n",
    "#         i += 1\n",
    "#         pass\n",
    "#     else:\n",
    "#         weekdays.append(d)\n",
    "#         i += 1\n",
    "    \n",
    "dates_list"
   ]
  },
  {
   "cell_type": "code",
   "execution_count": 41,
   "metadata": {},
   "outputs": [
    {
     "data": {
      "text/plain": [
       "[['My Website', 'Web Development', Timestamp('2023-04-10 00:00:00')],\n",
       " ['My Website', 'Web Development', Timestamp('2023-04-11 00:00:00')],\n",
       " ['My Website', 'Web Development', Timestamp('2023-04-12 00:00:00')],\n",
       " ['My Website', 'Web Development', Timestamp('2023-04-13 00:00:00')],\n",
       " ['My Website', 'Web Development', Timestamp('2023-04-14 00:00:00')]]"
      ]
     },
     "execution_count": 41,
     "metadata": {},
     "output_type": "execute_result"
    }
   ],
   "source": [
    "work_cols = ['job', 'category', 'date']\n",
    "new_data = []\n",
    "for d in dates_list:\n",
    "    new_data.append(['My Website', 'Web Development', pd.Timestamp(d, )])\n",
    "new_data"
   ]
  },
  {
   "cell_type": "code",
   "execution_count": 42,
   "metadata": {},
   "outputs": [
    {
     "data": {
      "text/plain": [
       "pandas._libs.tslibs.timestamps.Timestamp"
      ]
     },
     "execution_count": 42,
     "metadata": {},
     "output_type": "execute_result"
    }
   ],
   "source": [
    "new_df = add_work(new_data)\n",
    "\n",
    "row1 = new_df.iloc[0]\n",
    "type(row1.loc['date'])"
   ]
  },
  {
   "cell_type": "code",
   "execution_count": 31,
   "metadata": {},
   "outputs": [
    {
     "data": {
      "text/plain": [
       "pandas._libs.tslibs.timestamps.Timestamp"
      ]
     },
     "execution_count": 31,
     "metadata": {},
     "output_type": "execute_result"
    }
   ],
   "source": [
    "old_work_df = read_df('work')\n",
    "row1 = old_work_df.iloc[0]\n",
    "type(row1.loc['date'])"
   ]
  },
  {
   "cell_type": "code",
   "execution_count": null,
   "metadata": {},
   "outputs": [],
   "source": []
  }
 ],
 "metadata": {
  "kernelspec": {
   "display_name": "jobs",
   "language": "python",
   "name": "python3"
  },
  "language_info": {
   "codemirror_mode": {
    "name": "ipython",
    "version": 3
   },
   "file_extension": ".py",
   "mimetype": "text/x-python",
   "name": "python",
   "nbconvert_exporter": "python",
   "pygments_lexer": "ipython3",
   "version": "3.10.6"
  },
  "orig_nbformat": 4
 },
 "nbformat": 4,
 "nbformat_minor": 2
}
