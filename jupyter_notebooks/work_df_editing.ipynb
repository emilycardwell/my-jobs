{
 "cells": [
  {
   "attachments": {},
   "cell_type": "markdown",
   "metadata": {},
   "source": [
    "# Work DF Editing"
   ]
  },
  {
   "cell_type": "code",
   "execution_count": 1,
   "metadata": {},
   "outputs": [],
   "source": [
    "import pandas as pd\n",
    "from py_files.data_functions import add_work, read_df\n",
    "import datetime\n",
    "\n",
    "%load_ext autoreload\n",
    "%autoreload 2"
   ]
  },
  {
   "cell_type": "code",
   "execution_count": 2,
   "metadata": {},
   "outputs": [],
   "source": [
    "# old_df = read_df('work')\n",
    "# old_df"
   ]
  },
  {
   "cell_type": "code",
   "execution_count": 2,
   "metadata": {},
   "outputs": [],
   "source": [
    "# start_date = datetime.date(2023, 4, 24)\n",
    "# end_date = datetime.date(2023, 4, 26)\n",
    "# delta = datetime.timedelta(days=1)\n",
    "\n",
    "# dates_list = []\n",
    "# while start_date <= end_date:\n",
    "#     dates_list.append(start_date.strftime(\"%Y-%m-%d\"))\n",
    "#     start_date += delta\n",
    "\n",
    "# weekdays = []\n",
    "# weekends = [5, 6, 12, 13, 19, 20]\n",
    "# i = 0\n",
    "# for d in dates_list:\n",
    "#     if i in weekends:\n",
    "#         i += 1\n",
    "#         pass\n",
    "#     else:\n",
    "#         weekdays.append(d)\n",
    "#         i += 1\n",
    "    \n",
    "# weekdays"
   ]
  },
  {
   "cell_type": "code",
   "execution_count": 3,
   "metadata": {},
   "outputs": [],
   "source": [
    "# work_cols = ['job', 'category', 'date']\n",
    "# new_data = []\n",
    "# for d in dates_list:\n",
    "#     new_data.append(['job', 'category', d])\n",
    "# new_data"
   ]
  },
  {
   "cell_type": "code",
   "execution_count": 31,
   "metadata": {},
   "outputs": [],
   "source": [
    "# new_df = add_work(new_data)"
   ]
  },
  {
   "cell_type": "code",
   "execution_count": null,
   "metadata": {},
   "outputs": [],
   "source": []
  }
 ],
 "metadata": {
  "kernelspec": {
   "display_name": "jobs",
   "language": "python",
   "name": "python3"
  },
  "language_info": {
   "codemirror_mode": {
    "name": "ipython",
    "version": 3
   },
   "file_extension": ".py",
   "mimetype": "text/x-python",
   "name": "python",
   "nbconvert_exporter": "python",
   "pygments_lexer": "ipython3",
   "version": "3.10.6"
  },
  "orig_nbformat": 4
 },
 "nbformat": 4,
 "nbformat_minor": 2
}
