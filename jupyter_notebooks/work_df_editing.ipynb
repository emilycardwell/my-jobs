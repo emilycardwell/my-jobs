{
 "cells": [
  {
   "attachments": {},
   "cell_type": "markdown",
   "metadata": {},
   "source": [
    "# Work DF Editing"
   ]
  },
  {
   "cell_type": "code",
   "execution_count": 12,
   "metadata": {},
   "outputs": [
    {
     "ename": "AttributeError",
     "evalue": "'DataFrame' object has no attribute 'date_applied'",
     "output_type": "error",
     "traceback": [
      "\u001b[0;31m---------------------------------------------------------------------------\u001b[0m",
      "\u001b[0;31mAttributeError\u001b[0m                            Traceback (most recent call last)",
      "Cell \u001b[0;32mIn[12], line 3\u001b[0m\n\u001b[1;32m      1\u001b[0m \u001b[39mimport\u001b[39;00m \u001b[39mpandas\u001b[39;00m \u001b[39mas\u001b[39;00m \u001b[39mpd\u001b[39;00m\n\u001b[1;32m      2\u001b[0m \u001b[39mfrom\u001b[39;00m \u001b[39mpy_files\u001b[39;00m\u001b[39m.\u001b[39;00m\u001b[39mdata_functions\u001b[39;00m \u001b[39mimport\u001b[39;00m add_work, read_df, add_to_json\n\u001b[0;32m----> 3\u001b[0m \u001b[39mfrom\u001b[39;00m \u001b[39mpy_files\u001b[39;00m\u001b[39m.\u001b[39;00m\u001b[39mget_df_functions\u001b[39;00m \u001b[39mimport\u001b[39;00m get_timeline_df\n\u001b[1;32m      4\u001b[0m \u001b[39mimport\u001b[39;00m \u001b[39mdatetime\u001b[39;00m\n\u001b[1;32m      6\u001b[0m get_ipython()\u001b[39m.\u001b[39mrun_line_magic(\u001b[39m'\u001b[39m\u001b[39mload_ext\u001b[39m\u001b[39m'\u001b[39m, \u001b[39m'\u001b[39m\u001b[39mautoreload\u001b[39m\u001b[39m'\u001b[39m)\n",
      "File \u001b[0;32m~/code/emilycardwell/my-jobs/py_files/get_df_functions.py:15\u001b[0m\n\u001b[1;32m     13\u001b[0m \u001b[39m''' GLOBAL VARIABLES '''\u001b[39;00m\n\u001b[1;32m     14\u001b[0m jobs_df \u001b[39m=\u001b[39m read_df()\n\u001b[0;32m---> 15\u001b[0m unique_dates \u001b[39m=\u001b[39m \u001b[39msorted\u001b[39m(\u001b[39mlist\u001b[39m(\u001b[39mset\u001b[39m(jobs_df\u001b[39m.\u001b[39;49mdate_applied)))\n\u001b[1;32m     16\u001b[0m string_dates \u001b[39m=\u001b[39m [\u001b[39mstr\u001b[39m(pd\u001b[39m.\u001b[39mto_datetime(x)\u001b[39m.\u001b[39mstrftime(\u001b[39m'\u001b[39m\u001b[39m%\u001b[39m\u001b[39mb \u001b[39m\u001b[39m%-d\u001b[39;00m\u001b[39m'\u001b[39m)) \u001b[39mfor\u001b[39;00m x \u001b[39min\u001b[39;00m unique_dates]\n\u001b[1;32m     18\u001b[0m \u001b[39m''' SHOWING GRAPHS '''\u001b[39;00m\n",
      "File \u001b[0;32m~/.pyenv/versions/3.10.6/envs/jobs/lib/python3.10/site-packages/pandas-2.0.0rc0-py3.10-macosx-12.6-x86_64.egg/pandas/core/generic.py:5973\u001b[0m, in \u001b[0;36mNDFrame.__getattr__\u001b[0;34m(self, name)\u001b[0m\n\u001b[1;32m   5966\u001b[0m \u001b[39mif\u001b[39;00m (\n\u001b[1;32m   5967\u001b[0m     name \u001b[39mnot\u001b[39;00m \u001b[39min\u001b[39;00m \u001b[39mself\u001b[39m\u001b[39m.\u001b[39m_internal_names_set\n\u001b[1;32m   5968\u001b[0m     \u001b[39mand\u001b[39;00m name \u001b[39mnot\u001b[39;00m \u001b[39min\u001b[39;00m \u001b[39mself\u001b[39m\u001b[39m.\u001b[39m_metadata\n\u001b[1;32m   5969\u001b[0m     \u001b[39mand\u001b[39;00m name \u001b[39mnot\u001b[39;00m \u001b[39min\u001b[39;00m \u001b[39mself\u001b[39m\u001b[39m.\u001b[39m_accessors\n\u001b[1;32m   5970\u001b[0m     \u001b[39mand\u001b[39;00m \u001b[39mself\u001b[39m\u001b[39m.\u001b[39m_info_axis\u001b[39m.\u001b[39m_can_hold_identifiers_and_holds_name(name)\n\u001b[1;32m   5971\u001b[0m ):\n\u001b[1;32m   5972\u001b[0m     \u001b[39mreturn\u001b[39;00m \u001b[39mself\u001b[39m[name]\n\u001b[0;32m-> 5973\u001b[0m \u001b[39mreturn\u001b[39;00m \u001b[39mobject\u001b[39;49m\u001b[39m.\u001b[39;49m\u001b[39m__getattribute__\u001b[39;49m(\u001b[39mself\u001b[39;49m, name)\n",
      "\u001b[0;31mAttributeError\u001b[0m: 'DataFrame' object has no attribute 'date_applied'"
     ]
    }
   ],
   "source": [
    "import pandas as pd\n",
    "from py_files.data_functions import add_work, read_df, add_to_json\n",
    "from py_files.get_df_functions import get_timeline_df\n",
    "import datetime\n",
    "\n",
    "%load_ext autoreload\n",
    "%autoreload 2"
   ]
  },
  {
   "attachments": {},
   "cell_type": "markdown",
   "metadata": {},
   "source": [
    "## Show DF"
   ]
  },
  {
   "cell_type": "code",
   "execution_count": 5,
   "metadata": {},
   "outputs": [
    {
     "data": {
      "text/html": [
       "<div>\n",
       "<style scoped>\n",
       "    .dataframe tbody tr th:only-of-type {\n",
       "        vertical-align: middle;\n",
       "    }\n",
       "\n",
       "    .dataframe tbody tr th {\n",
       "        vertical-align: top;\n",
       "    }\n",
       "\n",
       "    .dataframe thead th {\n",
       "        text-align: right;\n",
       "    }\n",
       "</style>\n",
       "<table border=\"1\" class=\"dataframe\">\n",
       "  <thead>\n",
       "    <tr style=\"text-align: right;\">\n",
       "      <th></th>\n",
       "      <th>job</th>\n",
       "      <th>category</th>\n",
       "      <th>date_of_job</th>\n",
       "    </tr>\n",
       "  </thead>\n",
       "  <tbody>\n",
       "    <tr>\n",
       "      <th>123</th>\n",
       "      <td>my-jobs</td>\n",
       "      <td>Data Engineering/Analysis</td>\n",
       "      <td>2023-05-09</td>\n",
       "    </tr>\n",
       "    <tr>\n",
       "      <th>124</th>\n",
       "      <td>my-jobs</td>\n",
       "      <td>Data Engineering/Analysis</td>\n",
       "      <td>2023-05-11</td>\n",
       "    </tr>\n",
       "    <tr>\n",
       "      <th>125</th>\n",
       "      <td>chord-cleaning</td>\n",
       "      <td>Data Engineering</td>\n",
       "      <td>2023-05-12</td>\n",
       "    </tr>\n",
       "    <tr>\n",
       "      <th>126</th>\n",
       "      <td>chord-cleaning</td>\n",
       "      <td>Data Engineering</td>\n",
       "      <td>2023-05-12</td>\n",
       "    </tr>\n",
       "    <tr>\n",
       "      <th>127</th>\n",
       "      <td>Jobs</td>\n",
       "      <td>Research</td>\n",
       "      <td>2023-05-13</td>\n",
       "    </tr>\n",
       "    <tr>\n",
       "      <th>128</th>\n",
       "      <td>Jobs</td>\n",
       "      <td>Research</td>\n",
       "      <td>2023-05-13</td>\n",
       "    </tr>\n",
       "    <tr>\n",
       "      <th>129</th>\n",
       "      <td>chord-cleaning</td>\n",
       "      <td>Software Engineering</td>\n",
       "      <td>2023-05-15</td>\n",
       "    </tr>\n",
       "    <tr>\n",
       "      <th>130</th>\n",
       "      <td>my-jobs</td>\n",
       "      <td>Data Engineering/Analysis</td>\n",
       "      <td>2023-05-15</td>\n",
       "    </tr>\n",
       "    <tr>\n",
       "      <th>131</th>\n",
       "      <td>Jobs</td>\n",
       "      <td>Research</td>\n",
       "      <td>2023-05-22</td>\n",
       "    </tr>\n",
       "    <tr>\n",
       "      <th>132</th>\n",
       "      <td>chord-cleaning</td>\n",
       "      <td>Software Engineering</td>\n",
       "      <td>2023-05-22</td>\n",
       "    </tr>\n",
       "  </tbody>\n",
       "</table>\n",
       "</div>"
      ],
      "text/plain": [
       "                job                   category date_of_job\n",
       "123         my-jobs  Data Engineering/Analysis  2023-05-09\n",
       "124         my-jobs  Data Engineering/Analysis  2023-05-11\n",
       "125  chord-cleaning           Data Engineering  2023-05-12\n",
       "126  chord-cleaning           Data Engineering  2023-05-12\n",
       "127            Jobs                   Research  2023-05-13\n",
       "128            Jobs                   Research  2023-05-13\n",
       "129  chord-cleaning       Software Engineering  2023-05-15\n",
       "130         my-jobs  Data Engineering/Analysis  2023-05-15\n",
       "131            Jobs                   Research  2023-05-22\n",
       "132  chord-cleaning       Software Engineering  2023-05-22"
      ]
     },
     "execution_count": 5,
     "metadata": {},
     "output_type": "execute_result"
    }
   ],
   "source": [
    "old_df = read_df('work')\n",
    "old_df.tail(10)\n",
    "# old_df.category.unique()"
   ]
  },
  {
   "attachments": {},
   "cell_type": "markdown",
   "metadata": {},
   "source": [
    "## Create rows"
   ]
  },
  {
   "attachments": {},
   "cell_type": "markdown",
   "metadata": {},
   "source": [
    "### Today"
   ]
  },
  {
   "cell_type": "code",
   "execution_count": 11,
   "metadata": {},
   "outputs": [
    {
     "ename": "NameError",
     "evalue": "name 'datetime' is not defined",
     "output_type": "error",
     "traceback": [
      "\u001b[0;31m---------------------------------------------------------------------------\u001b[0m",
      "\u001b[0;31mNameError\u001b[0m                                 Traceback (most recent call last)",
      "Cell \u001b[0;32mIn[11], line 1\u001b[0m\n\u001b[0;32m----> 1\u001b[0m datetime\u001b[39m.\u001b[39mdate\u001b[39m.\u001b[39mtoday\n",
      "\u001b[0;31mNameError\u001b[0m: name 'datetime' is not defined"
     ]
    }
   ],
   "source": [
    "datetime.date.today"
   ]
  },
  {
   "cell_type": "code",
   "execution_count": 1,
   "metadata": {},
   "outputs": [
    {
     "data": {
      "text/plain": [
       "['chord-cleaning', 'Software Engineering']"
      ]
     },
     "execution_count": 1,
     "metadata": {},
     "output_type": "execute_result"
    }
   ],
   "source": [
    "# work_cols = ['job', 'category']\n",
    "new_data = ['chord-cleaning', 'Software Engineering']\n",
    "new_data"
   ]
  },
  {
   "cell_type": "code",
   "execution_count": 4,
   "metadata": {},
   "outputs": [
    {
     "name": "stdout",
     "output_type": "stream",
     "text": [
      "new data added sucessfully to /Users/Emily/code/emilycardwell/my-jobs/data/work_new.json\n",
      "file renamed:  /Users/Emily/code/emilycardwell/my-jobs/data/work.json\n",
      "<class 'pandas.core.frame.DataFrame'>\n",
      "Index: 133 entries, 0 to 132\n",
      "Columns: 3 entries, job to date_of_job\n",
      "dtypes: object(3)\n",
      "memory usage: 4.2+ KB\n"
     ]
    }
   ],
   "source": [
    "new_df = add_work(new_data)"
   ]
  },
  {
   "attachments": {},
   "cell_type": "markdown",
   "metadata": {},
   "source": [
    "### Past Dates"
   ]
  },
  {
   "cell_type": "code",
   "execution_count": 14,
   "metadata": {},
   "outputs": [],
   "source": [
    "# start_date = datetime.date(2023, 2, 16)\n",
    "# end_date = datetime.date(2023, 2, 25)\n",
    "# delta = datetime.timedelta(days=1)\n",
    "\n",
    "# dates_list = []\n",
    "# while start_date <= end_date:\n",
    "#     dates_list.append(start_date.strftime(\"%Y-%m-%d\"))\n",
    "#     start_date += delta\n",
    "\n",
    "# weekdays = []\n",
    "# weekends = [2, 3]\n",
    "# i = 0\n",
    "# for d in dates_list:\n",
    "#     if i in weekends:\n",
    "#         i += 1\n",
    "#         pass\n",
    "#     else:\n",
    "#         weekdays.append(d)\n",
    "#         i += 1\n",
    "    \n",
    "# weekdays"
   ]
  },
  {
   "cell_type": "code",
   "execution_count": 10,
   "metadata": {},
   "outputs": [
    {
     "data": {
      "text/plain": [
       "[['my-jobs', 'Software Engineering']]"
      ]
     },
     "execution_count": 10,
     "metadata": {},
     "output_type": "execute_result"
    }
   ],
   "source": [
    "# work_cols = ['job', 'category', 'date']\n",
    "new_data = ['my-jobs', 'Software Engineering', '2023-05-22']\n",
    "new_data"
   ]
  },
  {
   "cell_type": "code",
   "execution_count": null,
   "metadata": {},
   "outputs": [],
   "source": [
    "new_df = add_work(new_data, date)"
   ]
  },
  {
   "attachments": {},
   "cell_type": "markdown",
   "metadata": {},
   "source": [
    "## Other Editing"
   ]
  },
  {
   "cell_type": "code",
   "execution_count": 100,
   "metadata": {},
   "outputs": [],
   "source": [
    "# tl_df = get_timeline_df()\n",
    "# old_df = read_df('work')"
   ]
  },
  {
   "cell_type": "code",
   "execution_count": 99,
   "metadata": {},
   "outputs": [],
   "source": [
    "# tl_df.tail(5)"
   ]
  },
  {
   "cell_type": "code",
   "execution_count": 98,
   "metadata": {},
   "outputs": [],
   "source": [
    "# old_df.tail(10)"
   ]
  },
  {
   "cell_type": "code",
   "execution_count": 97,
   "metadata": {},
   "outputs": [],
   "source": [
    "# # new_df = old_df.copy()\n",
    "# concat_df = pd.concat([new_df, new_df.iloc[[112]], new_df.iloc[[112]], new_df.iloc[[114]]])\n",
    "# reset_df = concat_df.sort_values('date_of_job').reset_index(drop=True)\n",
    "# reset_df.tail(10)"
   ]
  },
  {
   "cell_type": "code",
   "execution_count": 96,
   "metadata": {},
   "outputs": [],
   "source": [
    "# # new_df = old_df.copy()\n",
    "# reset_df.loc[112, 'date_of_job'] = '2023-02-27'\n",
    "# reset_df.tail(10)"
   ]
  },
  {
   "cell_type": "code",
   "execution_count": 95,
   "metadata": {},
   "outputs": [],
   "source": [
    "# add_to_json(reset_df, idx=None, comp_name=None, date_comp=None, file_name='work')"
   ]
  },
  {
   "cell_type": "code",
   "execution_count": null,
   "metadata": {},
   "outputs": [],
   "source": []
  }
 ],
 "metadata": {
  "kernelspec": {
   "display_name": "jobs",
   "language": "python",
   "name": "python3"
  },
  "language_info": {
   "codemirror_mode": {
    "name": "ipython",
    "version": 3
   },
   "file_extension": ".py",
   "mimetype": "text/x-python",
   "name": "python",
   "nbconvert_exporter": "python",
   "pygments_lexer": "ipython3",
   "version": "3.10.6"
  },
  "orig_nbformat": 4
 },
 "nbformat": 4,
 "nbformat_minor": 2
}
