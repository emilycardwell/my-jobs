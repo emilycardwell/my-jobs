{
 "cells": [
  {
   "attachments": {},
   "cell_type": "markdown",
   "metadata": {},
   "source": [
    "# Work DF Editing"
   ]
  },
  {
   "cell_type": "code",
   "execution_count": 2,
   "metadata": {},
   "outputs": [],
   "source": [
    "import pandas as pd\n",
    "from py_files.data_functions import add_work, read_df, add_to_json\n",
    "from py_files.get_df_functions import get_timeline_df\n",
    "import datetime\n",
    "\n",
    "%load_ext autoreload\n",
    "%autoreload 2"
   ]
  },
  {
   "attachments": {},
   "cell_type": "markdown",
   "metadata": {},
   "source": [
    "## Show DF"
   ]
  },
  {
   "cell_type": "code",
   "execution_count": 4,
   "metadata": {},
   "outputs": [
    {
     "data": {
      "text/html": [
       "<div>\n",
       "<style scoped>\n",
       "    .dataframe tbody tr th:only-of-type {\n",
       "        vertical-align: middle;\n",
       "    }\n",
       "\n",
       "    .dataframe tbody tr th {\n",
       "        vertical-align: top;\n",
       "    }\n",
       "\n",
       "    .dataframe thead th {\n",
       "        text-align: right;\n",
       "    }\n",
       "</style>\n",
       "<table border=\"1\" class=\"dataframe\">\n",
       "  <thead>\n",
       "    <tr style=\"text-align: right;\">\n",
       "      <th></th>\n",
       "      <th>job</th>\n",
       "      <th>category</th>\n",
       "      <th>date_of_job</th>\n",
       "    </tr>\n",
       "  </thead>\n",
       "  <tbody>\n",
       "    <tr>\n",
       "      <th>121</th>\n",
       "      <td>chord-cleaning</td>\n",
       "      <td>Data Engineering</td>\n",
       "      <td>2023-05-08</td>\n",
       "    </tr>\n",
       "    <tr>\n",
       "      <th>122</th>\n",
       "      <td>chord-cleaning</td>\n",
       "      <td>Data Engineering</td>\n",
       "      <td>2023-05-08</td>\n",
       "    </tr>\n",
       "    <tr>\n",
       "      <th>123</th>\n",
       "      <td>my-jobs</td>\n",
       "      <td>Data Engineering/Analysis</td>\n",
       "      <td>2023-05-09</td>\n",
       "    </tr>\n",
       "    <tr>\n",
       "      <th>124</th>\n",
       "      <td>my-jobs</td>\n",
       "      <td>Data Engineering/Analysis</td>\n",
       "      <td>2023-05-11</td>\n",
       "    </tr>\n",
       "    <tr>\n",
       "      <th>125</th>\n",
       "      <td>chord-cleaning</td>\n",
       "      <td>Data Engineering</td>\n",
       "      <td>2023-05-12</td>\n",
       "    </tr>\n",
       "    <tr>\n",
       "      <th>126</th>\n",
       "      <td>chord-cleaning</td>\n",
       "      <td>Data Engineering</td>\n",
       "      <td>2023-05-12</td>\n",
       "    </tr>\n",
       "    <tr>\n",
       "      <th>127</th>\n",
       "      <td>Jobs</td>\n",
       "      <td>Research</td>\n",
       "      <td>2023-05-13</td>\n",
       "    </tr>\n",
       "    <tr>\n",
       "      <th>128</th>\n",
       "      <td>Jobs</td>\n",
       "      <td>Research</td>\n",
       "      <td>2023-05-13</td>\n",
       "    </tr>\n",
       "    <tr>\n",
       "      <th>129</th>\n",
       "      <td>my-jobs</td>\n",
       "      <td>Data Engineering/Analysis</td>\n",
       "      <td>2023-05-15</td>\n",
       "    </tr>\n",
       "    <tr>\n",
       "      <th>130</th>\n",
       "      <td>chord-cleaning</td>\n",
       "      <td>Software Engineering</td>\n",
       "      <td>2023-05-15</td>\n",
       "    </tr>\n",
       "  </tbody>\n",
       "</table>\n",
       "</div>"
      ],
      "text/plain": [
       "                job                   category date_of_job\n",
       "121  chord-cleaning           Data Engineering  2023-05-08\n",
       "122  chord-cleaning           Data Engineering  2023-05-08\n",
       "123         my-jobs  Data Engineering/Analysis  2023-05-09\n",
       "124         my-jobs  Data Engineering/Analysis  2023-05-11\n",
       "125  chord-cleaning           Data Engineering  2023-05-12\n",
       "126  chord-cleaning           Data Engineering  2023-05-12\n",
       "127            Jobs                   Research  2023-05-13\n",
       "128            Jobs                   Research  2023-05-13\n",
       "129         my-jobs  Data Engineering/Analysis  2023-05-15\n",
       "130  chord-cleaning       Software Engineering  2023-05-15"
      ]
     },
     "execution_count": 4,
     "metadata": {},
     "output_type": "execute_result"
    }
   ],
   "source": [
    "old_df = read_df('work')\n",
    "old_df.tail(10)\n",
    "# old_df.category.unique()"
   ]
  },
  {
   "attachments": {},
   "cell_type": "markdown",
   "metadata": {},
   "source": [
    "## Create rows"
   ]
  },
  {
   "cell_type": "code",
   "execution_count": 14,
   "metadata": {},
   "outputs": [],
   "source": [
    "# start_date = datetime.date(2023, 2, 16)\n",
    "# end_date = datetime.date(2023, 2, 25)\n",
    "# delta = datetime.timedelta(days=1)\n",
    "\n",
    "# dates_list = []\n",
    "# while start_date <= end_date:\n",
    "#     dates_list.append(start_date.strftime(\"%Y-%m-%d\"))\n",
    "#     start_date += delta\n",
    "\n",
    "# weekdays = []\n",
    "# weekends = [2, 3]\n",
    "# i = 0\n",
    "# for d in dates_list:\n",
    "#     if i in weekends:\n",
    "#         i += 1\n",
    "#         pass\n",
    "#     else:\n",
    "#         weekdays.append(d)\n",
    "#         i += 1\n",
    "    \n",
    "# weekdays"
   ]
  },
  {
   "cell_type": "code",
   "execution_count": 1,
   "metadata": {},
   "outputs": [],
   "source": [
    "dates_list = ['2023-05-22']"
   ]
  },
  {
   "cell_type": "code",
   "execution_count": 5,
   "metadata": {},
   "outputs": [
    {
     "data": {
      "text/plain": [
       "[['Jobs', 'Research', '2023-05-22']]"
      ]
     },
     "execution_count": 5,
     "metadata": {},
     "output_type": "execute_result"
    }
   ],
   "source": [
    "# work_cols = ['job', 'category', 'date_of_job']\n",
    "new_data = []\n",
    "for d in dates_list:\n",
    "    new_data.append(['Jobs', 'Research', d])\n",
    "new_data"
   ]
  },
  {
   "cell_type": "code",
   "execution_count": 6,
   "metadata": {},
   "outputs": [
    {
     "name": "stdout",
     "output_type": "stream",
     "text": [
      "new data added sucessfully to /Users/Emily/code/emilycardwell/my-jobs/data/work_new.json\n",
      "file renamed:  /Users/Emily/code/emilycardwell/my-jobs/data/work.json\n",
      "<class 'pandas.core.frame.DataFrame'>\n",
      "Index: 132 entries, 0 to 131\n",
      "Columns: 3 entries, job to date_of_job\n",
      "dtypes: object(3)\n",
      "memory usage: 4.1+ KB\n"
     ]
    }
   ],
   "source": [
    "new_df = add_work(new_data)"
   ]
  },
  {
   "attachments": {},
   "cell_type": "markdown",
   "metadata": {},
   "source": [
    "## Other Editing"
   ]
  },
  {
   "cell_type": "code",
   "execution_count": 100,
   "metadata": {},
   "outputs": [],
   "source": [
    "# tl_df = get_timeline_df()\n",
    "# old_df = read_df('work')"
   ]
  },
  {
   "cell_type": "code",
   "execution_count": 99,
   "metadata": {},
   "outputs": [],
   "source": [
    "# tl_df.tail(5)"
   ]
  },
  {
   "cell_type": "code",
   "execution_count": 98,
   "metadata": {},
   "outputs": [],
   "source": [
    "# old_df.tail(10)"
   ]
  },
  {
   "cell_type": "code",
   "execution_count": 97,
   "metadata": {},
   "outputs": [],
   "source": [
    "# # new_df = old_df.copy()\n",
    "# concat_df = pd.concat([new_df, new_df.iloc[[112]], new_df.iloc[[112]], new_df.iloc[[114]]])\n",
    "# reset_df = concat_df.sort_values('date_of_job').reset_index(drop=True)\n",
    "# reset_df.tail(10)"
   ]
  },
  {
   "cell_type": "code",
   "execution_count": 96,
   "metadata": {},
   "outputs": [],
   "source": [
    "# # new_df = old_df.copy()\n",
    "# reset_df.loc[112, 'date_of_job'] = '2023-02-27'\n",
    "# reset_df.tail(10)"
   ]
  },
  {
   "cell_type": "code",
   "execution_count": 95,
   "metadata": {},
   "outputs": [],
   "source": [
    "# add_to_json(reset_df, idx=None, comp_name=None, date_comp=None, file_name='work')"
   ]
  },
  {
   "cell_type": "code",
   "execution_count": null,
   "metadata": {},
   "outputs": [],
   "source": []
  }
 ],
 "metadata": {
  "kernelspec": {
   "display_name": "jobs",
   "language": "python",
   "name": "python3"
  },
  "language_info": {
   "codemirror_mode": {
    "name": "ipython",
    "version": 3
   },
   "file_extension": ".py",
   "mimetype": "text/x-python",
   "name": "python",
   "nbconvert_exporter": "python",
   "pygments_lexer": "ipython3",
   "version": "3.10.6"
  },
  "orig_nbformat": 4
 },
 "nbformat": 4,
 "nbformat_minor": 2
}
