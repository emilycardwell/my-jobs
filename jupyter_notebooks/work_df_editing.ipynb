{
 "cells": [
  {
   "attachments": {},
   "cell_type": "markdown",
   "metadata": {},
   "source": [
    "# Work DF Editing"
   ]
  },
  {
   "cell_type": "code",
   "execution_count": null,
   "metadata": {},
   "outputs": [],
   "source": [
    "import pandas as pd\n",
    "from py_files.data_functions import add_work, read_df, add_to_json\n",
    "from py_files.get_df_functions import get_timeline_df\n",
    "import datetime\n",
    "\n",
    "%load_ext autoreload\n",
    "%autoreload 2"
   ]
  },
  {
   "attachments": {},
   "cell_type": "markdown",
   "metadata": {},
   "source": [
    "## Show DF"
   ]
  },
  {
   "cell_type": "code",
   "execution_count": 17,
   "metadata": {},
   "outputs": [
    {
     "data": {
      "text/html": [
       "<div>\n",
       "<style scoped>\n",
       "    .dataframe tbody tr th:only-of-type {\n",
       "        vertical-align: middle;\n",
       "    }\n",
       "\n",
       "    .dataframe tbody tr th {\n",
       "        vertical-align: top;\n",
       "    }\n",
       "\n",
       "    .dataframe thead th {\n",
       "        text-align: right;\n",
       "    }\n",
       "</style>\n",
       "<table border=\"1\" class=\"dataframe\">\n",
       "  <thead>\n",
       "    <tr style=\"text-align: right;\">\n",
       "      <th></th>\n",
       "      <th>job</th>\n",
       "      <th>category</th>\n",
       "      <th>date</th>\n",
       "    </tr>\n",
       "  </thead>\n",
       "  <tbody>\n",
       "    <tr>\n",
       "      <th>129</th>\n",
       "      <td>chord-cleaning</td>\n",
       "      <td>Software Engineering</td>\n",
       "      <td>2023-05-15</td>\n",
       "    </tr>\n",
       "    <tr>\n",
       "      <th>130</th>\n",
       "      <td>my-jobs</td>\n",
       "      <td>Data Engineering/Analysis</td>\n",
       "      <td>2023-05-15</td>\n",
       "    </tr>\n",
       "    <tr>\n",
       "      <th>131</th>\n",
       "      <td>chord-cleaning</td>\n",
       "      <td>Software Engineering</td>\n",
       "      <td>2023-05-22</td>\n",
       "    </tr>\n",
       "    <tr>\n",
       "      <th>132</th>\n",
       "      <td>Jobs</td>\n",
       "      <td>Research</td>\n",
       "      <td>2023-05-22</td>\n",
       "    </tr>\n",
       "    <tr>\n",
       "      <th>133</th>\n",
       "      <td>Jobs</td>\n",
       "      <td>Research</td>\n",
       "      <td>2023-05-23</td>\n",
       "    </tr>\n",
       "    <tr>\n",
       "      <th>134</th>\n",
       "      <td>my-jobs</td>\n",
       "      <td>Data Engineering</td>\n",
       "      <td>2023-05-23</td>\n",
       "    </tr>\n",
       "    <tr>\n",
       "      <th>135</th>\n",
       "      <td>Jobs</td>\n",
       "      <td>Research</td>\n",
       "      <td>2023-05-24</td>\n",
       "    </tr>\n",
       "    <tr>\n",
       "      <th>136</th>\n",
       "      <td>Jobs</td>\n",
       "      <td>Research</td>\n",
       "      <td>2023-05-24</td>\n",
       "    </tr>\n",
       "    <tr>\n",
       "      <th>137</th>\n",
       "      <td>my-jobs</td>\n",
       "      <td>Data Engineering/Analysis</td>\n",
       "      <td>2023-05-25</td>\n",
       "    </tr>\n",
       "    <tr>\n",
       "      <th>138</th>\n",
       "      <td>my-jobs</td>\n",
       "      <td>Data Engineering/Analysis</td>\n",
       "      <td>2023-05-25</td>\n",
       "    </tr>\n",
       "  </tbody>\n",
       "</table>\n",
       "</div>"
      ],
      "text/plain": [
       "                job                   category        date\n",
       "129  chord-cleaning       Software Engineering  2023-05-15\n",
       "130         my-jobs  Data Engineering/Analysis  2023-05-15\n",
       "131  chord-cleaning       Software Engineering  2023-05-22\n",
       "132            Jobs                   Research  2023-05-22\n",
       "133            Jobs                   Research  2023-05-23\n",
       "134         my-jobs           Data Engineering  2023-05-23\n",
       "135            Jobs                   Research  2023-05-24\n",
       "136            Jobs                   Research  2023-05-24\n",
       "137         my-jobs  Data Engineering/Analysis  2023-05-25\n",
       "138         my-jobs  Data Engineering/Analysis  2023-05-25"
      ]
     },
     "execution_count": 17,
     "metadata": {},
     "output_type": "execute_result"
    }
   ],
   "source": [
    "old_df = read_df('work')\n",
    "old_df.tail(10)\n",
    "# old_df.category.unique()"
   ]
  },
  {
   "attachments": {},
   "cell_type": "markdown",
   "metadata": {},
   "source": [
    "## Create rows"
   ]
  },
  {
   "attachments": {},
   "cell_type": "markdown",
   "metadata": {},
   "source": [
    "### Today"
   ]
  },
  {
   "cell_type": "code",
   "execution_count": null,
   "metadata": {},
   "outputs": [],
   "source": [
    "# # work_cols = ['job', 'category']\n",
    "# new_data = ['my-jobs', 'Data Engineering/Analysis']\n",
    "# new_data"
   ]
  },
  {
   "cell_type": "code",
   "execution_count": null,
   "metadata": {},
   "outputs": [],
   "source": [
    "# new_df = add_work(new_data)\n",
    "# new_df"
   ]
  },
  {
   "attachments": {},
   "cell_type": "markdown",
   "metadata": {},
   "source": [
    "### Other Dates"
   ]
  },
  {
   "cell_type": "code",
   "execution_count": null,
   "metadata": {},
   "outputs": [],
   "source": [
    "# start_date = datetime.date(2023, 2, 16)\n",
    "# end_date = datetime.date(2023, 2, 25)\n",
    "# delta = datetime.timedelta(days=1)\n",
    "\n",
    "# dates_list = []\n",
    "# while start_date <= end_date:\n",
    "#     dates_list.append(start_date.strftime(\"%Y-%m-%d\"))\n",
    "#     start_date += delta\n",
    "\n",
    "# weekdays = []\n",
    "# weekends = [2, 3]\n",
    "# i = 0\n",
    "# for d in dates_list:\n",
    "#     if i in weekends:\n",
    "#         i += 1\n",
    "#         pass\n",
    "#     else:\n",
    "#         weekdays.append(d)\n",
    "#         i += 1\n",
    "    \n",
    "# weekdays"
   ]
  },
  {
   "cell_type": "code",
   "execution_count": null,
   "metadata": {},
   "outputs": [],
   "source": [
    "# date = '2023-05-24'"
   ]
  },
  {
   "cell_type": "code",
   "execution_count": null,
   "metadata": {},
   "outputs": [],
   "source": [
    "# # work_cols = ['job', 'category']\n",
    "# new_data = ['Jobs', 'Research']"
   ]
  },
  {
   "cell_type": "code",
   "execution_count": null,
   "metadata": {},
   "outputs": [],
   "source": [
    "# new_df = add_work(new_data, date)"
   ]
  },
  {
   "attachments": {},
   "cell_type": "markdown",
   "metadata": {},
   "source": [
    "## Editing Values"
   ]
  },
  {
   "cell_type": "code",
   "execution_count": null,
   "metadata": {},
   "outputs": [],
   "source": [
    "# df_to_edit = read_df(folder_name='prep')\n",
    "# df_to_edit.tail(10)"
   ]
  },
  {
   "cell_type": "code",
   "execution_count": null,
   "metadata": {},
   "outputs": [],
   "source": [
    "# edit_df('column', 'new_info', index=0, folder_name='work')\n",
    "# edit_df('column', 'new_info', index=0, folder_name='prep')"
   ]
  },
  {
   "attachments": {},
   "cell_type": "markdown",
   "metadata": {},
   "source": [
    "## Other Editing"
   ]
  },
  {
   "cell_type": "code",
   "execution_count": null,
   "metadata": {},
   "outputs": [],
   "source": [
    "# tl_df = get_timeline_df()\n",
    "# old_df = read_df('work')"
   ]
  },
  {
   "cell_type": "code",
   "execution_count": null,
   "metadata": {},
   "outputs": [],
   "source": [
    "# tl_df.tail(5)"
   ]
  },
  {
   "cell_type": "code",
   "execution_count": null,
   "metadata": {},
   "outputs": [],
   "source": [
    "# old_df.tail(10)"
   ]
  },
  {
   "cell_type": "code",
   "execution_count": null,
   "metadata": {},
   "outputs": [],
   "source": [
    "# # new_df = old_df.copy()\n",
    "# concat_df = pd.concat([new_df, new_df.iloc[[112]], new_df.iloc[[112]], new_df.iloc[[114]]])\n",
    "# reset_df = concat_df.sort_values('date_of_job').reset_index(drop=True)\n",
    "# reset_df.tail(10)"
   ]
  },
  {
   "cell_type": "code",
   "execution_count": null,
   "metadata": {},
   "outputs": [],
   "source": [
    "# # new_df = old_df.copy()\n",
    "# reset_df.loc[112, 'date_of_job'] = '2023-02-27'\n",
    "# reset_df.tail(10)"
   ]
  },
  {
   "cell_type": "code",
   "execution_count": null,
   "metadata": {},
   "outputs": [],
   "source": [
    "# add_to_json(reset_df, idx=None, comp_name=None, date_comp=None, file_name='work')"
   ]
  },
  {
   "cell_type": "code",
   "execution_count": null,
   "metadata": {},
   "outputs": [],
   "source": []
  }
 ],
 "metadata": {
  "kernelspec": {
   "display_name": "jobs",
   "language": "python",
   "name": "python3"
  },
  "language_info": {
   "codemirror_mode": {
    "name": "ipython",
    "version": 3
   },
   "file_extension": ".py",
   "mimetype": "text/x-python",
   "name": "python",
   "nbconvert_exporter": "python",
   "pygments_lexer": "ipython3",
   "version": "3.10.6"
  },
  "orig_nbformat": 4
 },
 "nbformat": 4,
 "nbformat_minor": 2
}
