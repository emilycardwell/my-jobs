{
 "cells": [
  {
   "attachments": {},
   "cell_type": "markdown",
   "metadata": {},
   "source": [
    "# Job DataFrame Editing\n",
    "\n",
    "***"
   ]
  },
  {
   "attachments": {},
   "cell_type": "markdown",
   "metadata": {},
   "source": [
    "## Imports & Stored Data"
   ]
  },
  {
   "cell_type": "code",
   "execution_count": 2,
   "metadata": {},
   "outputs": [],
   "source": [
    "import pandas as pd\n",
    "import datetime as dt\n",
    "from py_files.data_functions import read_df, get_app_info, \\\n",
    "    add_app, add_init_response, add_more_ints, add_final_outcome, \\\n",
    "    add_to_json, edit_df\n",
    "\n",
    "\n",
    "%load_ext autoreload\n",
    "%autoreload 2"
   ]
  },
  {
   "attachments": {},
   "cell_type": "markdown",
   "metadata": {},
   "source": [
    "## Input New Data"
   ]
  },
  {
   "attachments": {},
   "cell_type": "markdown",
   "metadata": {},
   "source": [
    "#### Get info"
   ]
  },
  {
   "cell_type": "code",
   "execution_count": 3,
   "metadata": {},
   "outputs": [
    {
     "data": {
      "text/plain": [
       "array(['Data Analyst', 'Data Engineer', 'DevOps Engineer',\n",
       "       'Backend Engineer', 'Audio Engineer', 'Python Engineer', 'IT',\n",
       "       'ML Engineer', 'Support Engineer', 'QA Engineer', 'Degree',\n",
       "       'C++ Engineer', 'Cloud Engineer', 'Testing Engineer',\n",
       "       'Technical Writer', 'Project Manager'], dtype=object)"
      ]
     },
     "execution_count": 3,
     "metadata": {},
     "output_type": "execute_result"
    }
   ],
   "source": [
    "old_jobs_df = read_df(\"jobs\")\n",
    "# old_jobs_df.job_cat.unique()\n",
    "# old_jobs_df.sort_values('date_applied').tail(10)\n",
    "# old_jobs_df.method.unique()"
   ]
  },
  {
   "cell_type": "code",
   "execution_count": null,
   "metadata": {},
   "outputs": [],
   "source": [
    "# today = dt.date.today().strftime('%Y-%m-%d')\n",
    "# jobs_today = old_jobs_df[old_jobs_df['date_applied'] == today]\n",
    "# print(\"jobs applied to today:\", len(jobs_today))\n",
    "# jobs_today"
   ]
  },
  {
   "cell_type": "code",
   "execution_count": 9,
   "metadata": {},
   "outputs": [],
   "source": [
    "# app = get_app_info('company_name_sounds_like')\n",
    "# app"
   ]
  },
  {
   "attachments": {},
   "cell_type": "markdown",
   "metadata": {},
   "source": [
    "### Apps"
   ]
  },
  {
   "cell_type": "code",
   "execution_count": 10,
   "metadata": {},
   "outputs": [
    {
     "data": {
      "text/html": [
       "<div>\n",
       "<style scoped>\n",
       "    .dataframe tbody tr th:only-of-type {\n",
       "        vertical-align: middle;\n",
       "    }\n",
       "\n",
       "    .dataframe tbody tr th {\n",
       "        vertical-align: top;\n",
       "    }\n",
       "\n",
       "    .dataframe thead th {\n",
       "        text-align: right;\n",
       "    }\n",
       "</style>\n",
       "<table border=\"1\" class=\"dataframe\">\n",
       "  <thead>\n",
       "    <tr style=\"text-align: right;\">\n",
       "      <th></th>\n",
       "      <th>date_applied</th>\n",
       "      <th>company_name</th>\n",
       "      <th>job_title</th>\n",
       "      <th>job_cat</th>\n",
       "      <th>department</th>\n",
       "      <th>location</th>\n",
       "      <th>recruiter</th>\n",
       "      <th>referral</th>\n",
       "      <th>method</th>\n",
       "      <th>url</th>\n",
       "      <th>initial_response</th>\n",
       "      <th>final_outcome</th>\n",
       "    </tr>\n",
       "  </thead>\n",
       "  <tbody>\n",
       "    <tr>\n",
       "      <th>0</th>\n",
       "      <td>2023-06-11</td>\n",
       "      <td>Riot Games Services</td>\n",
       "      <td>Broadcast Engineering Manager - Production EME...</td>\n",
       "      <td>Manager</td>\n",
       "      <td>None</td>\n",
       "      <td>Berlin</td>\n",
       "      <td>None</td>\n",
       "      <td>None</td>\n",
       "      <td>stepstone</td>\n",
       "      <td>https://www.stepstone.de/jobs--Broadcast-Engin...</td>\n",
       "      <td>No Response</td>\n",
       "      <td>No Response</td>\n",
       "    </tr>\n",
       "  </tbody>\n",
       "</table>\n",
       "</div>"
      ],
      "text/plain": [
       "  date_applied         company_name   \n",
       "0   2023-06-11  Riot Games Services  \\\n",
       "\n",
       "                                           job_title  job_cat department   \n",
       "0  Broadcast Engineering Manager - Production EME...  Manager       None  \\\n",
       "\n",
       "  location recruiter referral     method   \n",
       "0   Berlin      None     None  stepstone  \\\n",
       "\n",
       "                                                 url initial_response   \n",
       "0  https://www.stepstone.de/jobs--Broadcast-Engin...      No Response  \\\n",
       "\n",
       "  final_outcome  \n",
       "0   No Response  "
      ]
     },
     "metadata": {},
     "output_type": "display_data"
    },
    {
     "name": "stdout",
     "output_type": "stream",
     "text": [
      "The latest file is: jobs30.json\n"
     ]
    },
    {
     "name": "stdout",
     "output_type": "stream",
     "text": [
      "new data added sucessfully to /Users/Emily/code/emilycardwell/my-jobs/data/jobs/jobs31.json\n"
     ]
    },
    {
     "data": {
      "text/html": [
       "<div>\n",
       "<style scoped>\n",
       "    .dataframe tbody tr th:only-of-type {\n",
       "        vertical-align: middle;\n",
       "    }\n",
       "\n",
       "    .dataframe tbody tr th {\n",
       "        vertical-align: top;\n",
       "    }\n",
       "\n",
       "    .dataframe thead th {\n",
       "        text-align: right;\n",
       "    }\n",
       "</style>\n",
       "<table border=\"1\" class=\"dataframe\">\n",
       "  <thead>\n",
       "    <tr style=\"text-align: right;\">\n",
       "      <th></th>\n",
       "      <th>date_applied</th>\n",
       "      <th>company_name</th>\n",
       "      <th>job_title</th>\n",
       "      <th>job_cat</th>\n",
       "      <th>department</th>\n",
       "      <th>location</th>\n",
       "      <th>recruiter</th>\n",
       "      <th>referral</th>\n",
       "      <th>method</th>\n",
       "      <th>url</th>\n",
       "      <th>date_init_resp</th>\n",
       "      <th>initial_response</th>\n",
       "      <th>date_interview1</th>\n",
       "      <th>interview1_details</th>\n",
       "      <th>date_interview2</th>\n",
       "      <th>interview2_details</th>\n",
       "      <th>date_interview3</th>\n",
       "      <th>interview3_details</th>\n",
       "      <th>final_outcome</th>\n",
       "      <th>feedback</th>\n",
       "    </tr>\n",
       "  </thead>\n",
       "  <tbody>\n",
       "    <tr>\n",
       "      <th>46</th>\n",
       "      <td>2023-06-11</td>\n",
       "      <td>Riot Games Services</td>\n",
       "      <td>Broadcast Engineering Manager - Production EME...</td>\n",
       "      <td>Manager</td>\n",
       "      <td>NaN</td>\n",
       "      <td>Berlin</td>\n",
       "      <td>NaN</td>\n",
       "      <td>NaN</td>\n",
       "      <td>stepstone</td>\n",
       "      <td>https://www.stepstone.de/jobs--Broadcast-Engin...</td>\n",
       "      <td>NaN</td>\n",
       "      <td>No Response</td>\n",
       "      <td>NaN</td>\n",
       "      <td>NaN</td>\n",
       "      <td>NaN</td>\n",
       "      <td>NaN</td>\n",
       "      <td>NaN</td>\n",
       "      <td>NaN</td>\n",
       "      <td>No Response</td>\n",
       "      <td>NaN</td>\n",
       "    </tr>\n",
       "  </tbody>\n",
       "</table>\n",
       "</div>"
      ],
      "text/plain": [
       "   date_applied         company_name   \n",
       "46   2023-06-11  Riot Games Services  \\\n",
       "\n",
       "                                            job_title  job_cat department   \n",
       "46  Broadcast Engineering Manager - Production EME...  Manager        NaN  \\\n",
       "\n",
       "   location recruiter referral     method   \n",
       "46   Berlin       NaN      NaN  stepstone  \\\n",
       "\n",
       "                                                  url date_init_resp   \n",
       "46  https://www.stepstone.de/jobs--Broadcast-Engin...            NaN  \\\n",
       "\n",
       "   initial_response date_interview1 interview1_details date_interview2   \n",
       "46      No Response             NaN                NaN             NaN  \\\n",
       "\n",
       "   interview2_details date_interview3 interview3_details final_outcome   \n",
       "46                NaN             NaN                NaN   No Response  \\\n",
       "\n",
       "   feedback  \n",
       "46      NaN  "
      ]
     },
     "metadata": {},
     "output_type": "display_data"
    },
    {
     "name": "stdout",
     "output_type": "stream",
     "text": [
      "<class 'pandas.core.frame.DataFrame'>\n",
      "Index: 68 entries, 0 to 67\n",
      "Columns: 20 entries, date_applied to feedback\n",
      "dtypes: object(20)\n",
      "memory usage: 11.2+ KB\n"
     ]
    }
   ],
   "source": [
    "add_app('2023-06-11', 'Riot Games Services', 'Broadcast Engineering Manager - Production EMEA esports',\n",
    "        'Manager', None, 'Berlin', None,\n",
    "        None, 'stepstone', 'https://www.stepstone.de/jobs--Broadcast-Engineering-Manager-Production-EMEA-esports-Berlin-Riot-Games-Services-GmbH--9630732-inline.html')"
   ]
  },
  {
   "attachments": {},
   "cell_type": "markdown",
   "metadata": {
    "heading_collapsed": true
   },
   "source": [
    "### Responses"
   ]
  },
  {
   "cell_type": "code",
   "execution_count": null,
   "metadata": {
    "hidden": true
   },
   "outputs": [],
   "source": [
    "# add_init_response('company_name_like', 'date_init_resp', 'Passed', \n",
    "                #   'date_interview1', 'interview1_details')\n",
    "# add_init_response('company_name_like', 'date_init_resp', 'Rejected')"
   ]
  },
  {
   "attachments": {},
   "cell_type": "markdown",
   "metadata": {
    "hidden": true
   },
   "source": [
    "### More Interviews"
   ]
  },
  {
   "cell_type": "code",
   "execution_count": null,
   "metadata": {
    "hidden": true
   },
   "outputs": [],
   "source": [
    "# add_more_ints('company_name_like', 'interview_no', 'date_interview', 'interview_details')"
   ]
  },
  {
   "attachments": {},
   "cell_type": "markdown",
   "metadata": {
    "hidden": true
   },
   "source": [
    "### Final Outcomes"
   ]
  },
  {
   "cell_type": "code",
   "execution_count": null,
   "metadata": {
    "hidden": true
   },
   "outputs": [],
   "source": [
    "# add_final_outcome('company_name_like', 'final_outcome', 'feedback')"
   ]
  },
  {
   "attachments": {},
   "cell_type": "markdown",
   "metadata": {},
   "source": [
    "## Editing"
   ]
  },
  {
   "attachments": {},
   "cell_type": "markdown",
   "metadata": {},
   "source": [
    "### Editing jobs df"
   ]
  },
  {
   "cell_type": "code",
   "execution_count": null,
   "metadata": {},
   "outputs": [],
   "source": [
    "# df_to_edit = read_df(folder_name='jobs')\n",
    "# df_to_edit.sort_values('date_applied').tail(10)"
   ]
  },
  {
   "cell_type": "code",
   "execution_count": null,
   "metadata": {},
   "outputs": [],
   "source": [
    "# edit_df('column', 'new_info', 'company_name_like')"
   ]
  },
  {
   "cell_type": "code",
   "execution_count": null,
   "metadata": {},
   "outputs": [],
   "source": []
  }
 ],
 "metadata": {
  "kernelspec": {
   "display_name": "jobs",
   "language": "python",
   "name": "python3"
  },
  "language_info": {
   "codemirror_mode": {
    "name": "ipython",
    "version": 3
   },
   "file_extension": ".py",
   "mimetype": "text/x-python",
   "name": "python",
   "nbconvert_exporter": "python",
   "pygments_lexer": "ipython3",
   "version": "3.10.6"
  },
  "toc": {
   "base_numbering": 1,
   "nav_menu": {},
   "number_sections": true,
   "sideBar": true,
   "skip_h1_title": false,
   "title_cell": "Table of Contents",
   "title_sidebar": "Contents",
   "toc_cell": false,
   "toc_position": {},
   "toc_section_display": true,
   "toc_window_display": false
  },
  "vscode": {
   "interpreter": {
    "hash": "bffdc6d06fbe22854417ede435c41fbab2852373243a0796c6435de33055d301"
   }
  }
 },
 "nbformat": 4,
 "nbformat_minor": 2
}
