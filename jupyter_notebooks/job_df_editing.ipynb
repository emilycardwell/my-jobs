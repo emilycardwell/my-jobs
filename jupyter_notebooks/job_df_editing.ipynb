{
 "cells": [
  {
   "attachments": {},
   "cell_type": "markdown",
   "metadata": {},
   "source": [
    "# Job DataFrame Editing\n",
    "\n",
    "***"
   ]
  },
  {
   "cell_type": "markdown",
   "metadata": {},
   "source": [
    "## Imports & Stored Data"
   ]
  },
  {
   "cell_type": "code",
   "execution_count": 1,
   "metadata": {},
   "outputs": [],
   "source": [
    "import pandas as pd\n",
    "from py_files.data_functions import read_df, add_app, add_init_response, \\\n",
    "    add_interview_info, add_more_ints, add_final_response, concat_dfs, \\\n",
    "    add_to_json, get_app_info\n",
    "\n",
    "%load_ext autoreload\n",
    "%autoreload 2"
   ]
  },
  {
   "cell_type": "markdown",
   "metadata": {},
   "source": [
    "## Input New Data"
   ]
  },
  {
   "attachments": {},
   "cell_type": "markdown",
   "metadata": {},
   "source": [
    "#### Get info"
   ]
  },
  {
   "cell_type": "code",
   "execution_count": 84,
   "metadata": {},
   "outputs": [
    {
     "data": {
      "text/html": [
       "<div>\n",
       "<style scoped>\n",
       "    .dataframe tbody tr th:only-of-type {\n",
       "        vertical-align: middle;\n",
       "    }\n",
       "\n",
       "    .dataframe tbody tr th {\n",
       "        vertical-align: top;\n",
       "    }\n",
       "\n",
       "    .dataframe thead th {\n",
       "        text-align: right;\n",
       "    }\n",
       "</style>\n",
       "<table border=\"1\" class=\"dataframe\">\n",
       "  <thead>\n",
       "    <tr style=\"text-align: right;\">\n",
       "      <th></th>\n",
       "      <th>company_name</th>\n",
       "      <th>date_applied</th>\n",
       "      <th>job_title</th>\n",
       "      <th>job_cat</th>\n",
       "      <th>department</th>\n",
       "      <th>location</th>\n",
       "      <th>recruiter</th>\n",
       "      <th>referral</th>\n",
       "      <th>method</th>\n",
       "      <th>url</th>\n",
       "      <th>initial_response</th>\n",
       "      <th>date_init_resp</th>\n",
       "      <th>date_interview1</th>\n",
       "      <th>interviewers</th>\n",
       "      <th>interview_notes</th>\n",
       "      <th>next_steps</th>\n",
       "      <th>next_interviews</th>\n",
       "      <th>final_outcome</th>\n",
       "      <th>feedback</th>\n",
       "    </tr>\n",
       "  </thead>\n",
       "  <tbody>\n",
       "    <tr>\n",
       "      <th>0</th>\n",
       "      <td>Accenture</td>\n",
       "      <td>2023-01-04</td>\n",
       "      <td>Trainee Data - AI/Big Data Analytics/Data Mana...</td>\n",
       "      <td>Data Analyst</td>\n",
       "      <td>NaN</td>\n",
       "      <td>Germany</td>\n",
       "      <td>NaN</td>\n",
       "      <td>Niamh</td>\n",
       "      <td>referral</td>\n",
       "      <td>https://www.accenture.com/us-en/careers/jobdet...</td>\n",
       "      <td>Rejected</td>\n",
       "      <td>2023-01-11</td>\n",
       "      <td>NaN</td>\n",
       "      <td>NaN</td>\n",
       "      <td>NaN</td>\n",
       "      <td>NaN</td>\n",
       "      <td>NaN</td>\n",
       "      <td>NaN</td>\n",
       "      <td>NaN</td>\n",
       "    </tr>\n",
       "    <tr>\n",
       "      <th>1</th>\n",
       "      <td>Alexander_Thamm</td>\n",
       "      <td>2023-02-09</td>\n",
       "      <td>Junior Data Engineer</td>\n",
       "      <td>Data Analyst</td>\n",
       "      <td>NaN</td>\n",
       "      <td>Innsbruck</td>\n",
       "      <td>NaN</td>\n",
       "      <td>NaN</td>\n",
       "      <td>linkedin</td>\n",
       "      <td>https://join.com/companies/alexanderthamm/7085...</td>\n",
       "      <td>Rejected</td>\n",
       "      <td>2023-03-01</td>\n",
       "      <td>NaN</td>\n",
       "      <td>NaN</td>\n",
       "      <td>NaN</td>\n",
       "      <td>NaN</td>\n",
       "      <td>NaN</td>\n",
       "      <td>NaN</td>\n",
       "      <td>NaN</td>\n",
       "    </tr>\n",
       "    <tr>\n",
       "      <th>2</th>\n",
       "      <td>Avid</td>\n",
       "      <td>2023-02-09</td>\n",
       "      <td>DevOps Developer</td>\n",
       "      <td>DevOps Engineer</td>\n",
       "      <td>Audio Products</td>\n",
       "      <td>Montreal (hybrid/remote)</td>\n",
       "      <td>NaN</td>\n",
       "      <td>NaN</td>\n",
       "      <td>linkedin</td>\n",
       "      <td>https://avid.wd5.myworkdayjobs.com/AVID/job/Hy...</td>\n",
       "      <td>No Response</td>\n",
       "      <td>NaN</td>\n",
       "      <td>NaN</td>\n",
       "      <td>NaN</td>\n",
       "      <td>NaN</td>\n",
       "      <td>NaN</td>\n",
       "      <td>NaN</td>\n",
       "      <td>NaN</td>\n",
       "      <td>NaN</td>\n",
       "    </tr>\n",
       "  </tbody>\n",
       "</table>\n",
       "</div>"
      ],
      "text/plain": [
       "      company_name date_applied   \n",
       "0        Accenture   2023-01-04  \\\n",
       "1  Alexander_Thamm   2023-02-09   \n",
       "2             Avid   2023-02-09   \n",
       "\n",
       "                                           job_title          job_cat   \n",
       "0  Trainee Data - AI/Big Data Analytics/Data Mana...     Data Analyst  \\\n",
       "1                               Junior Data Engineer     Data Analyst   \n",
       "2                                   DevOps Developer  DevOps Engineer   \n",
       "\n",
       "       department                  location recruiter referral    method   \n",
       "0             NaN                   Germany       NaN    Niamh  referral  \\\n",
       "1             NaN                 Innsbruck       NaN      NaN  linkedin   \n",
       "2  Audio Products  Montreal (hybrid/remote)       NaN      NaN  linkedin   \n",
       "\n",
       "                                                 url initial_response   \n",
       "0  https://www.accenture.com/us-en/careers/jobdet...         Rejected  \\\n",
       "1  https://join.com/companies/alexanderthamm/7085...         Rejected   \n",
       "2  https://avid.wd5.myworkdayjobs.com/AVID/job/Hy...      No Response   \n",
       "\n",
       "  date_init_resp date_interview1 interviewers interview_notes next_steps   \n",
       "0     2023-01-11             NaN          NaN             NaN        NaN  \\\n",
       "1     2023-03-01             NaN          NaN             NaN        NaN   \n",
       "2            NaN             NaN          NaN             NaN        NaN   \n",
       "\n",
       "  next_interviews final_outcome feedback  \n",
       "0             NaN           NaN      NaN  \n",
       "1             NaN           NaN      NaN  \n",
       "2             NaN           NaN      NaN  "
      ]
     },
     "execution_count": 84,
     "metadata": {},
     "output_type": "execute_result"
    }
   ],
   "source": [
    "old_jobs_df = read_df()\n",
    "old_jobs_df.head(3)"
   ]
  },
  {
   "cell_type": "code",
   "execution_count": 94,
   "metadata": {},
   "outputs": [
    {
     "data": {
      "text/html": [
       "<div>\n",
       "<style scoped>\n",
       "    .dataframe tbody tr th:only-of-type {\n",
       "        vertical-align: middle;\n",
       "    }\n",
       "\n",
       "    .dataframe tbody tr th {\n",
       "        vertical-align: top;\n",
       "    }\n",
       "\n",
       "    .dataframe thead th {\n",
       "        text-align: right;\n",
       "    }\n",
       "</style>\n",
       "<table border=\"1\" class=\"dataframe\">\n",
       "  <thead>\n",
       "    <tr style=\"text-align: right;\">\n",
       "      <th></th>\n",
       "      <th>company_name</th>\n",
       "      <th>date_applied</th>\n",
       "      <th>job_title</th>\n",
       "      <th>job_cat</th>\n",
       "      <th>department</th>\n",
       "      <th>location</th>\n",
       "      <th>recruiter</th>\n",
       "      <th>referral</th>\n",
       "      <th>method</th>\n",
       "      <th>url</th>\n",
       "      <th>initial_response</th>\n",
       "      <th>date_init_resp</th>\n",
       "      <th>date_interview1</th>\n",
       "      <th>interviewers</th>\n",
       "      <th>interview_notes</th>\n",
       "      <th>next_steps</th>\n",
       "      <th>next_interviews</th>\n",
       "      <th>final_outcome</th>\n",
       "      <th>feedback</th>\n",
       "    </tr>\n",
       "  </thead>\n",
       "  <tbody>\n",
       "    <tr>\n",
       "      <th>10</th>\n",
       "      <td>McKinsey_Co</td>\n",
       "      <td>2023-02-09</td>\n",
       "      <td>Junior Analytics Associate</td>\n",
       "      <td>Data Analyst</td>\n",
       "      <td>McKinsey Digital</td>\n",
       "      <td>Oslo</td>\n",
       "      <td>NaN</td>\n",
       "      <td>NaN</td>\n",
       "      <td>linkedin</td>\n",
       "      <td>https://www.mckinsey.com/careers/search-jobs/j...</td>\n",
       "      <td>No Response</td>\n",
       "      <td>NaN</td>\n",
       "      <td>NaN</td>\n",
       "      <td>NaN</td>\n",
       "      <td>NaN</td>\n",
       "      <td>NaN</td>\n",
       "      <td>NaN</td>\n",
       "      <td>NaN</td>\n",
       "      <td>NaN</td>\n",
       "    </tr>\n",
       "  </tbody>\n",
       "</table>\n",
       "</div>"
      ],
      "text/plain": [
       "   company_name date_applied                   job_title       job_cat   \n",
       "10  McKinsey_Co   2023-02-09  Junior Analytics Associate  Data Analyst  \\\n",
       "\n",
       "          department location recruiter referral    method   \n",
       "10  McKinsey Digital     Oslo       NaN      NaN  linkedin  \\\n",
       "\n",
       "                                                  url initial_response   \n",
       "10  https://www.mckinsey.com/careers/search-jobs/j...      No Response  \\\n",
       "\n",
       "   date_init_resp date_interview1 interviewers interview_notes next_steps   \n",
       "10            NaN             NaN          NaN             NaN        NaN  \\\n",
       "\n",
       "   next_interviews final_outcome feedback  \n",
       "10             NaN           NaN      NaN  "
      ]
     },
     "execution_count": 94,
     "metadata": {},
     "output_type": "execute_result"
    }
   ],
   "source": [
    "app = get_app_info('mc')\n",
    "app"
   ]
  },
  {
   "cell_type": "code",
   "execution_count": 58,
   "metadata": {},
   "outputs": [],
   "source": [
    "# new_df = pd.concat([old_df.loc[[0]], old_df.loc[2:]], ignore_index=True)\n",
    "# new_df\n",
    "# add_to_json(new_df)"
   ]
  },
  {
   "cell_type": "markdown",
   "metadata": {},
   "source": [
    "### Apps"
   ]
  },
  {
   "cell_type": "code",
   "execution_count": 18,
   "metadata": {},
   "outputs": [],
   "source": [
    "# add_app('company_name', 'date_applied', 'job_title',\n",
    "    #    'job_cat', 'department', 'location', 'recruiter',\n",
    "    #    'referral', 'method', 'url')\n"
   ]
  },
  {
   "cell_type": "markdown",
   "metadata": {
    "heading_collapsed": true
   },
   "source": [
    "### Responses"
   ]
  },
  {
   "cell_type": "code",
   "execution_count": 95,
   "metadata": {
    "hidden": true
   },
   "outputs": [
    {
     "name": "stdout",
     "output_type": "stream",
     "text": [
      "new data added sucessfully to /Users/Emily/code/emilycardwell/my-jobs/data/job_data03_03.json\n"
     ]
    },
    {
     "data": {
      "text/html": [
       "<div>\n",
       "<style scoped>\n",
       "    .dataframe tbody tr th:only-of-type {\n",
       "        vertical-align: middle;\n",
       "    }\n",
       "\n",
       "    .dataframe tbody tr th {\n",
       "        vertical-align: top;\n",
       "    }\n",
       "\n",
       "    .dataframe thead th {\n",
       "        text-align: right;\n",
       "    }\n",
       "</style>\n",
       "<table border=\"1\" class=\"dataframe\">\n",
       "  <thead>\n",
       "    <tr style=\"text-align: right;\">\n",
       "      <th></th>\n",
       "      <th>company_name</th>\n",
       "      <th>date_applied</th>\n",
       "      <th>job_title</th>\n",
       "      <th>job_cat</th>\n",
       "      <th>department</th>\n",
       "      <th>location</th>\n",
       "      <th>recruiter</th>\n",
       "      <th>referral</th>\n",
       "      <th>method</th>\n",
       "      <th>url</th>\n",
       "      <th>initial_response</th>\n",
       "      <th>date_init_resp</th>\n",
       "      <th>date_interview1</th>\n",
       "      <th>interviewers</th>\n",
       "      <th>interview_notes</th>\n",
       "      <th>next_steps</th>\n",
       "      <th>next_interviews</th>\n",
       "      <th>final_outcome</th>\n",
       "      <th>feedback</th>\n",
       "    </tr>\n",
       "  </thead>\n",
       "  <tbody>\n",
       "    <tr>\n",
       "      <th>10</th>\n",
       "      <td>McKinsey_Co</td>\n",
       "      <td>2023-02-09</td>\n",
       "      <td>Junior Analytics Associate</td>\n",
       "      <td>Data Analyst</td>\n",
       "      <td>McKinsey Digital</td>\n",
       "      <td>Oslo</td>\n",
       "      <td>NaN</td>\n",
       "      <td>NaN</td>\n",
       "      <td>linkedin</td>\n",
       "      <td>https://www.mckinsey.com/careers/search-jobs/j...</td>\n",
       "      <td>Rejected</td>\n",
       "      <td>2023-02-22</td>\n",
       "      <td>NaN</td>\n",
       "      <td>NaN</td>\n",
       "      <td>NaN</td>\n",
       "      <td>NaN</td>\n",
       "      <td>NaN</td>\n",
       "      <td>NaN</td>\n",
       "      <td>NaN</td>\n",
       "    </tr>\n",
       "  </tbody>\n",
       "</table>\n",
       "</div>"
      ],
      "text/plain": [
       "   company_name date_applied                   job_title       job_cat   \n",
       "10  McKinsey_Co   2023-02-09  Junior Analytics Associate  Data Analyst  \\\n",
       "\n",
       "          department location recruiter referral    method   \n",
       "10  McKinsey Digital     Oslo       NaN      NaN  linkedin  \\\n",
       "\n",
       "                                                  url initial_response   \n",
       "10  https://www.mckinsey.com/careers/search-jobs/j...         Rejected  \\\n",
       "\n",
       "   date_init_resp date_interview1 interviewers interview_notes next_steps   \n",
       "10     2023-02-22             NaN          NaN             NaN        NaN  \\\n",
       "\n",
       "   next_interviews final_outcome feedback  \n",
       "10             NaN           NaN      NaN  "
      ]
     },
     "execution_count": 95,
     "metadata": {},
     "output_type": "execute_result"
    }
   ],
   "source": [
    "# add_init_response('company_name_like', 'Passed', 'date_init_resp', \n",
    "                #   'date_interview1', 'interviewers')\n",
    "# add_init_response('company_name_like', 'Rejected', 'date_init_resp')\n",
    "\n",
    "add_init_response('mc', 'Rejected', '2023-02-22')"
   ]
  },
  {
   "attachments": {},
   "cell_type": "markdown",
   "metadata": {
    "hidden": true
   },
   "source": [
    "### Interview Info"
   ]
  },
  {
   "cell_type": "code",
   "execution_count": 11,
   "metadata": {
    "hidden": true
   },
   "outputs": [],
   "source": [
    "# add_interview_info('company_name_like', 'interview_notes', 'next_steps')"
   ]
  },
  {
   "cell_type": "code",
   "execution_count": 12,
   "metadata": {},
   "outputs": [],
   "source": [
    "# add_more_ints('company_name_like', 'next_interviews')"
   ]
  },
  {
   "attachments": {},
   "cell_type": "markdown",
   "metadata": {
    "hidden": true
   },
   "source": [
    "### Final Outcomes"
   ]
  },
  {
   "cell_type": "code",
   "execution_count": 13,
   "metadata": {
    "hidden": true
   },
   "outputs": [],
   "source": [
    "# add_final_response('company_name_like', 'final_outcome', 'feedback')"
   ]
  }
 ],
 "metadata": {
  "kernelspec": {
   "display_name": "jobs",
   "language": "python",
   "name": "python3"
  },
  "language_info": {
   "codemirror_mode": {
    "name": "ipython",
    "version": 3
   },
   "file_extension": ".py",
   "mimetype": "text/x-python",
   "name": "python",
   "nbconvert_exporter": "python",
   "pygments_lexer": "ipython3",
   "version": "3.10.6"
  },
  "toc": {
   "base_numbering": 1,
   "nav_menu": {},
   "number_sections": true,
   "sideBar": true,
   "skip_h1_title": false,
   "title_cell": "Table of Contents",
   "title_sidebar": "Contents",
   "toc_cell": false,
   "toc_position": {},
   "toc_section_display": true,
   "toc_window_display": false
  },
  "vscode": {
   "interpreter": {
    "hash": "bffdc6d06fbe22854417ede435c41fbab2852373243a0796c6435de33055d301"
   }
  }
 },
 "nbformat": 4,
 "nbformat_minor": 2
}
